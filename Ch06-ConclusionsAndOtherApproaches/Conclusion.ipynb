{
 "cells": [
  {
   "cell_type": "markdown",
   "metadata": {},
   "source": [
    "# Conclusion and Other Approaches\n",
    "\n",
    "\n",
    "Recently in major conferences, there are various other approaches that have been proposed for One-Shot Learning such as Generative Modeling using GANs, Image Deformation Meta-Networks, Representative Based Metric Learning, etc. So far till yet, we have seen models doing classification using One-Shot Learning, but there are advancements made in the domain of Object Detection and Semantic Segmentation as well. In this section, we will touch upon some of the recent papers from major conferences.\n",
    "\n",
    "\n",
    "Metric Based Learning is one of the older methods to approach One-Shot Learning, though this area is old, there are a lot of aspects that are still being explored. Research work on topic Revisiting Local Descriptor based Image-to-Class Measure for Few-shot Learning is a good example of such aspects. In this work, the authors proposed a Convolutional Neural Network Architecture called D4N(Deep Nearest Neighbor Neural Network), which extracts image-level features but they replaced the final layer by a local descriptor based image-to-class measure.\n",
    "\n",
    "\n",
    "Apart from these, there are some notable contributions are being made in the domain of Object Detection and Semantic Segmentation.\n"
   ]
  },
  {
   "cell_type": "markdown",
   "metadata": {},
   "source": [
    "## Related Fields\n",
    "As we know One-Shot Learning is a sub-field of Machine Learning, there are different relevant solutions that are very close to the One-Shot Learning approach, but yet different in their solution approach. Such problems can be solved by using One-Shot Learning algorithms as well. Let's go through each of such fields of Machine Learning, and observe how they are close to One-Shot Learning Problem:\n",
    "\n",
    "1. Semi-Supervised Learning\n",
    "2. Imbalanced Learning\n",
    "3. Meta-Learning\n",
    "4. Transfer Learning"
   ]
  },
  {
   "cell_type": "markdown",
   "metadata": {},
   "source": [
    "### Semi-Supervised Learning\n",
    "\n",
    "Suppose we have 10,000 data points, in which only 20,000 are labeled and rest 80,000 are unlabeled. In such cases, we can take the help of Semi-Supervised Learning. In Semi-supervised learning, we take the help of unlabeled data to gain more understanding of the population structure in general. Semi-supervised learning goes through pseudo labeling technique to increase the training set, i.e; we train a model using 20,000 labeled datasets and use it on equally sized test data points to create pseudo labels for them. \n",
    "\n",
    "After obtaining pseudo labels, we concatenate real labels with pseudo labels and real features with pseudo features. After concatenation, we train a new model, which is proven to be more accurate than the initial model. We keep doing it, till optimal accuracy is achieved."
   ]
  },
  {
   "cell_type": "markdown",
   "metadata": {},
   "source": [
    "<img src=\"Semi-Supervised.png\" width=\"500\"/>"
   ]
  },
  {
   "cell_type": "markdown",
   "metadata": {},
   "source": [
    "### Transfer Learning\n",
    "\n",
    "Transfer Learning, refers to the technique of using knowledge of one domain to another domain.i.e. a Neural Network model trained on one data-set can be used for other data-set by fine-tuning the former network just like how we can use Siamese Networks for different domain, by training it to extract discriminative features from one domain.  Transfer Learning has caught a lot of attention from Deep learning society, though it has been proven to be great in various applications, yet we are unable to use it in non-common domains, such as Manufacturing, Medical, Chemical, etc. just because we don't have enough dataset from a domain.\n"
   ]
  },
  {
   "cell_type": "markdown",
   "metadata": {},
   "source": [
    "<img src=\"TransferLearning.png\" width=\"500\"/>"
   ]
  },
  {
   "cell_type": "markdown",
   "metadata": {},
   "source": [
    "##### For more details, refer chapter 6 of 'Hands on One-Shot Learning' Book "
   ]
  }
 ],
 "metadata": {
  "kernelspec": {
   "display_name": "Python 3",
   "language": "python",
   "name": "python3"
  },
  "language_info": {
   "codemirror_mode": {
    "name": "ipython",
    "version": 3
   },
   "file_extension": ".py",
   "mimetype": "text/x-python",
   "name": "python",
   "nbconvert_exporter": "python",
   "pygments_lexer": "ipython3",
   "version": "3.6.3"
  }
 },
 "nbformat": 4,
 "nbformat_minor": 2
}
