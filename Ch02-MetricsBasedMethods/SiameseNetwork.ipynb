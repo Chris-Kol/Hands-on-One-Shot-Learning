{
 "cells": [
  {
   "cell_type": "markdown",
   "metadata": {},
   "source": [
    "# Siamese Network Architecture using MNIST Dataset"
   ]
  },
  {
   "cell_type": "code",
   "execution_count": 16,
   "metadata": {},
   "outputs": [],
   "source": [
    "# -*- encoding: utf-8 -*-\n",
    "import argparse\n",
    "import torch\n",
    "import torchvision.datasets as dsets\n",
    "import random\n",
    "import numpy as np\n",
    "import time\n",
    "import matplotlib.pyplot as plt\n",
    "from torch.autograd import Variable\n",
    "from torchvision import transforms\n",
    "import pickle\n",
    "import torch\n",
    "import torch.nn as nn"
   ]
  },
  {
   "cell_type": "markdown",
   "metadata": {},
   "source": [
    "### Data Preprocessing\n",
    "For Siamese Network, we want data in pairs: 1 pair-> similar, 1 pair-> dissimilar."
   ]
  },
  {
   "cell_type": "code",
   "execution_count": 17,
   "metadata": {},
   "outputs": [],
   "source": [
    "class Dataset(object):\n",
    "    def __init__(self, x0, x1, label):\n",
    "        self.size = label.shape[0]\n",
    "        self.x0 = torch.from_numpy(x0)\n",
    "        self.x1 = torch.from_numpy(x1)\n",
    "        self.label = torch.from_numpy(label)\n",
    "\n",
    "    def __getitem__(self, index):\n",
    "        return (self.x0[index],\n",
    "                self.x1[index],\n",
    "                self.label[index])\n",
    "\n",
    "    def __len__(self):\n",
    "        return self.size\n",
    "\n",
    "def create_pairs(data, digit_indices):\n",
    "    x0_data = []\n",
    "    x1_data = []\n",
    "    label = []\n",
    "    n = min([len(digit_indices[d]) for d in range(10)]) - 1\n",
    "    for d in range(10):\n",
    "        for i in range(n):\n",
    "            z1, z2 = digit_indices[d][i], digit_indices[d][i + 1]\n",
    "            x0_data.append(data[z1] / 255.)\n",
    "            x1_data.append(data[z2] / 255.)\n",
    "            label.append(1)\n",
    "            inc = random.randrange(1, 10)\n",
    "            dn = (d + inc) % 10\n",
    "            z1, z2 = digit_indices[d][i], digit_indices[dn][i]\n",
    "            x0_data.append(data[z1] / 255.)\n",
    "            x1_data.append(data[z2] / 255.)\n",
    "            label.append(0)\n",
    "\n",
    "    x0_data = np.array(x0_data, dtype=np.float32)\n",
    "    x0_data = x0_data.reshape([-1, 1, 28, 28])\n",
    "    x1_data = np.array(x1_data, dtype=np.float32)\n",
    "    x1_data = x1_data.reshape([-1, 1, 28, 28])\n",
    "    label = np.array(label, dtype=np.int32)\n",
    "    return x0_data, x1_data, label\n",
    "\n",
    "\n",
    "def create_iterator(data, label, batchsize, shuffle=False):\n",
    "    digit_indices = [np.where(label == i)[0] for i in range(10)]\n",
    "    x0, x1, label = create_pairs(data, digit_indices)\n",
    "    ret = Dataset(x0, x1, label)\n",
    "    return ret\n"
   ]
  },
  {
   "cell_type": "markdown",
   "metadata": {},
   "source": [
    "# Loss Function: Contrastive Loss Function "
   ]
  },
  {
   "cell_type": "code",
   "execution_count": 18,
   "metadata": {},
   "outputs": [],
   "source": [
    "def contrastive_loss_function(x0, x1, y, margin=1.0):\n",
    "    # euclidian distance\n",
    "    diff = x0 - x1\n",
    "    dist_sq = torch.sum(torch.pow(diff, 2), 1)\n",
    "    dist = torch.sqrt(dist_sq)\n",
    "\n",
    "    mdist = margin - dist\n",
    "    dist = torch.clamp(mdist, min=0.0)\n",
    "    loss = y * dist_sq + (1 - y) * torch.pow(dist, 2)\n",
    "    loss = torch.sum(loss) / 2.0 / x0.size()[0]\n",
    "    return loss"
   ]
  },
  {
   "cell_type": "markdown",
   "metadata": {},
   "source": [
    "# Defining Siamese Network Architecture"
   ]
  },
  {
   "cell_type": "code",
   "execution_count": 19,
   "metadata": {},
   "outputs": [],
   "source": [
    "class SiameseNetwork(nn.Module):\n",
    "    def __init__(self,flag_kaf=False):\n",
    "        super(SiameseNetwork, self).__init__()\n",
    "        self.cnn1 = nn.Sequential(\n",
    "            nn.Conv2d(1, 20, kernel_size=5),\n",
    "            nn.MaxPool2d(2, stride=2),\n",
    "            nn.Conv2d(20, 50, kernel_size=5),\n",
    "            nn.MaxPool2d(2, stride=2))\n",
    "        self.fc1 = nn.Sequential(\n",
    "            nn.Linear(50 * 4 * 4, 500),\n",
    "            nn.ReLU(inplace=True),\n",
    "            nn.Linear(500,10),\n",
    "            nn.Linear(10, 2))\n",
    "        \n",
    "    def forward_once(self, x):\n",
    "        output = self.cnn1(x)\n",
    "        output = output.view(output.size()[0], -1)\n",
    "        output = self.fc1(output)\n",
    "        return output\n",
    "\n",
    "    def forward(self, input1, input2):\n",
    "        output1 = self.forward_once(input1)\n",
    "        output2 = self.forward_once(input2)\n",
    "        return output1, output2\n"
   ]
  },
  {
   "cell_type": "code",
   "execution_count": 20,
   "metadata": {},
   "outputs": [],
   "source": [
    "def plot_mnist(numpy_all, numpy_labels,name=\"./embeddings_plot.png\"):\n",
    "        c = ['#ff0000', '#ffff00', '#00ff00', '#00ffff', '#0000ff',\n",
    "             '#ff00ff', '#990000', '#999900', '#009900', '#009999']\n",
    "\n",
    "        for i in range(10):\n",
    "            f = numpy_all[np.where(numpy_labels == i)]\n",
    "            plt.plot(f[:, 0], f[:, 1], '.', c=c[i])\n",
    "        plt.legend(['0', '1', '2', '3', '4', '5', '6', '7', '8', '9'])\n",
    "        plt.savefig(name)"
   ]
  },
  {
   "cell_type": "code",
   "execution_count": 21,
   "metadata": {},
   "outputs": [
    {
     "name": "stdout",
     "output_type": "stream",
     "text": [
      "[7022 8249 7453 1906 6616 5439 5371 6072 9906 6846 6958 4870 5656 9814\n",
      " 3201 8059 3720 6140 6704 9563 7028 2172 7795 6743 1256 5457 8997 1352\n",
      " 3522 9901 2961 9796 3435 5447 3044 3729 4210 5339 1031 8327 1236 5887\n",
      "  714 1633 1120 2219 6436 4880 2128 2624]\n"
     ]
    },
    {
     "name": "stderr",
     "output_type": "stream",
     "text": [
      "/Users/sjadon/anaconda3/envs/mysite/lib/python3.6/site-packages/torchvision/datasets/mnist.py:43: UserWarning: train_labels has been renamed targets\n",
      "  warnings.warn(\"train_labels has been renamed targets\")\n",
      "/Users/sjadon/anaconda3/envs/mysite/lib/python3.6/site-packages/torchvision/datasets/mnist.py:48: UserWarning: test_labels has been renamed targets\n",
      "  warnings.warn(\"test_labels has been renamed targets\")\n"
     ]
    }
   ],
   "source": [
    "batchsize=128\n",
    "train = dsets.MNIST(root='../data/',train=True,download=True)\n",
    "test = dsets.MNIST(root='../data/',train=False,transform=transforms.Compose([transforms.ToTensor(),]))\n",
    "indices= np.random.choice(len(train.train_labels.numpy()), 5000, replace=False)\n",
    "indices_test= np.random.choice(len(test.test_labels.numpy()), 50, replace=False)\n",
    "print (indices_test)"
   ]
  },
  {
   "cell_type": "code",
   "execution_count": 22,
   "metadata": {},
   "outputs": [
    {
     "name": "stderr",
     "output_type": "stream",
     "text": [
      "/Users/sjadon/anaconda3/envs/mysite/lib/python3.6/site-packages/torchvision/datasets/mnist.py:53: UserWarning: train_data has been renamed data\n",
      "  warnings.warn(\"train_data has been renamed data\")\n",
      "/Users/sjadon/anaconda3/envs/mysite/lib/python3.6/site-packages/torchvision/datasets/mnist.py:58: UserWarning: test_data has been renamed data\n",
      "  warnings.warn(\"test_data has been renamed data\")\n"
     ]
    }
   ],
   "source": [
    "train_iter = create_iterator(train.train_data.numpy()[indices],train.train_labels.numpy()[indices],batchsize)\n",
    "test_iter = create_iterator(test.test_data.numpy()[indices_test],test.test_labels.numpy()[indices_test],batchsize)\n",
    "# model\n",
    "model = SiameseNetwork()\n",
    "learning_rate = 0.01\n",
    "momentum = 0.9\n",
    "# Loss and Optimizer\n",
    "criterion = contrastive_loss_function\n",
    "optimizer = torch.optim.SGD(model.parameters(), lr=learning_rate,momentum=momentum)\n",
    "#kwargs = {'num_workers': 1, 'pin_memory': True} if args.cuda else {}\n",
    "kwargs = {}\n",
    "train_loader = torch.utils.data.DataLoader(train_iter,batch_size=batchsize, shuffle=True, **kwargs)\n",
    "test_loader = torch.utils.data.DataLoader(test,batch_size=batchsize, shuffle=True, **kwargs)"
   ]
  },
  {
   "cell_type": "code",
   "execution_count": 23,
   "metadata": {},
   "outputs": [
    {
     "name": "stdout",
     "output_type": "stream",
     "text": [
      "Train Epoch:0------------------>\n",
      "Batch id: 0 [0/8660 (0%)]\tLoss: 0.218648\n",
      "Train Epoch:1------------------>\n",
      "Batch id: 0 [0/8660 (0%)]\tLoss: 0.099945\n",
      "Train Epoch:2------------------>\n",
      "Batch id: 0 [0/8660 (0%)]\tLoss: 0.108186\n",
      "Train Epoch:3------------------>\n",
      "Batch id: 0 [0/8660 (0%)]\tLoss: 0.081205\n",
      "Train Epoch:4------------------>\n",
      "Batch id: 0 [0/8660 (0%)]\tLoss: 0.078149\n",
      "Train Epoch:5------------------>\n",
      "Batch id: 0 [0/8660 (0%)]\tLoss: 0.073436\n",
      "Train Epoch:6------------------>\n",
      "Batch id: 0 [0/8660 (0%)]\tLoss: 0.060201\n",
      "Train Epoch:7------------------>\n",
      "Batch id: 0 [0/8660 (0%)]\tLoss: 0.061203\n",
      "Train Epoch:8------------------>\n",
      "Batch id: 0 [0/8660 (0%)]\tLoss: 0.050953\n",
      "Train Epoch:9------------------>\n",
      "Batch id: 0 [0/8660 (0%)]\tLoss: 0.055849\n",
      "Train Epoch:10------------------>\n",
      "Batch id: 0 [0/8660 (0%)]\tLoss: 0.037618\n",
      "Train Epoch:11------------------>\n",
      "Batch id: 0 [0/8660 (0%)]\tLoss: 0.046342\n",
      "Train Epoch:12------------------>\n",
      "Batch id: 0 [0/8660 (0%)]\tLoss: 0.038315\n",
      "Train Epoch:13------------------>\n",
      "Batch id: 0 [0/8660 (0%)]\tLoss: 0.034691\n",
      "Train Epoch:14------------------>\n",
      "Batch id: 0 [0/8660 (0%)]\tLoss: 0.022682\n",
      "Train Epoch:15------------------>\n",
      "Batch id: 0 [0/8660 (0%)]\tLoss: 0.035960\n",
      "Train Epoch:16------------------>\n",
      "Batch id: 0 [0/8660 (0%)]\tLoss: 0.028561\n",
      "Train Epoch:17------------------>\n",
      "Batch id: 0 [0/8660 (0%)]\tLoss: 0.031221\n",
      "Train Epoch:18------------------>\n",
      "Batch id: 0 [0/8660 (0%)]\tLoss: 0.029595\n",
      "Train Epoch:19------------------>\n",
      "Batch id: 0 [0/8660 (0%)]\tLoss: 0.029983\n",
      "Train Epoch:20------------------>\n",
      "Batch id: 0 [0/8660 (0%)]\tLoss: 0.020407\n",
      "Train Epoch:21------------------>\n",
      "Batch id: 0 [0/8660 (0%)]\tLoss: 0.026589\n",
      "Train Epoch:22------------------>\n",
      "Batch id: 0 [0/8660 (0%)]\tLoss: 0.022504\n",
      "Train Epoch:23------------------>\n",
      "Batch id: 0 [0/8660 (0%)]\tLoss: 0.023300\n",
      "Train Epoch:24------------------>\n",
      "Batch id: 0 [0/8660 (0%)]\tLoss: 0.022035\n",
      "Train Epoch:25------------------>\n",
      "Batch id: 0 [0/8660 (0%)]\tLoss: 0.017270\n",
      "Train Epoch:26------------------>\n",
      "Batch id: 0 [0/8660 (0%)]\tLoss: 0.020443\n",
      "Train Epoch:27------------------>\n",
      "Batch id: 0 [0/8660 (0%)]\tLoss: 0.018804\n",
      "Train Epoch:28------------------>\n",
      "Batch id: 0 [0/8660 (0%)]\tLoss: 0.017251\n",
      "Train Epoch:29------------------>\n",
      "Batch id: 0 [0/8660 (0%)]\tLoss: 0.015661\n",
      "Train Epoch:30------------------>\n",
      "Batch id: 0 [0/8660 (0%)]\tLoss: 0.014251\n",
      "Train Epoch:31------------------>\n",
      "Batch id: 0 [0/8660 (0%)]\tLoss: 0.013301\n",
      "Train Epoch:32------------------>\n",
      "Batch id: 0 [0/8660 (0%)]\tLoss: 0.013282\n",
      "Train Epoch:33------------------>\n",
      "Batch id: 0 [0/8660 (0%)]\tLoss: 0.012645\n",
      "Train Epoch:34------------------>\n",
      "Batch id: 0 [0/8660 (0%)]\tLoss: 0.011550\n",
      "Train Epoch:35------------------>\n",
      "Batch id: 0 [0/8660 (0%)]\tLoss: 0.009136\n",
      "Train Epoch:36------------------>\n",
      "Batch id: 0 [0/8660 (0%)]\tLoss: 0.010304\n",
      "Train Epoch:37------------------>\n",
      "Batch id: 0 [0/8660 (0%)]\tLoss: 0.010742\n",
      "Train Epoch:38------------------>\n",
      "Batch id: 0 [0/8660 (0%)]\tLoss: 0.009329\n",
      "Train Epoch:39------------------>\n",
      "Batch id: 0 [0/8660 (0%)]\tLoss: 0.010159\n",
      "Train Epoch:40------------------>\n",
      "Batch id: 0 [0/8660 (0%)]\tLoss: 0.008358\n",
      "Train Epoch:41------------------>\n",
      "Batch id: 0 [0/8660 (0%)]\tLoss: 0.011485\n",
      "Train Epoch:42------------------>\n",
      "Batch id: 0 [0/8660 (0%)]\tLoss: 0.007463\n",
      "Train Epoch:43------------------>\n",
      "Batch id: 0 [0/8660 (0%)]\tLoss: 0.005941\n",
      "Train Epoch:44------------------>\n",
      "Batch id: 0 [0/8660 (0%)]\tLoss: 0.008695\n",
      "Train Epoch:45------------------>\n",
      "Batch id: 0 [0/8660 (0%)]\tLoss: 0.008697\n",
      "Train Epoch:46------------------>\n",
      "Batch id: 0 [0/8660 (0%)]\tLoss: 0.008700\n",
      "Train Epoch:47------------------>\n",
      "Batch id: 0 [0/8660 (0%)]\tLoss: 0.005401\n",
      "Train Epoch:48------------------>\n",
      "Batch id: 0 [0/8660 (0%)]\tLoss: 0.006088\n",
      "Train Epoch:49------------------>\n",
      "Batch id: 0 [0/8660 (0%)]\tLoss: 0.005885\n",
      "Train Epoch:50------------------>\n",
      "Batch id: 0 [0/8660 (0%)]\tLoss: 0.005810\n",
      "Train Epoch:51------------------>\n",
      "Batch id: 0 [0/8660 (0%)]\tLoss: 0.004222\n",
      "Train Epoch:52------------------>\n",
      "Batch id: 0 [0/8660 (0%)]\tLoss: 0.005549\n",
      "Train Epoch:53------------------>\n",
      "Batch id: 0 [0/8660 (0%)]\tLoss: 0.004927\n",
      "Train Epoch:54------------------>\n",
      "Batch id: 0 [0/8660 (0%)]\tLoss: 0.005370\n",
      "Train Epoch:55------------------>\n",
      "Batch id: 0 [0/8660 (0%)]\tLoss: 0.005549\n",
      "Train Epoch:56------------------>\n",
      "Batch id: 0 [0/8660 (0%)]\tLoss: 0.004594\n",
      "Train Epoch:57------------------>\n",
      "Batch id: 0 [0/8660 (0%)]\tLoss: 0.004484\n",
      "Train Epoch:58------------------>\n",
      "Batch id: 0 [0/8660 (0%)]\tLoss: 0.002748\n",
      "Train Epoch:59------------------>\n",
      "Batch id: 0 [0/8660 (0%)]\tLoss: 0.005524\n",
      "Train Epoch:60------------------>\n",
      "Batch id: 0 [0/8660 (0%)]\tLoss: 0.003886\n",
      "Train Epoch:61------------------>\n",
      "Batch id: 0 [0/8660 (0%)]\tLoss: 0.003706\n",
      "Train Epoch:62------------------>\n",
      "Batch id: 0 [0/8660 (0%)]\tLoss: 0.003192\n",
      "Train Epoch:63------------------>\n",
      "Batch id: 0 [0/8660 (0%)]\tLoss: 0.003431\n",
      "Train Epoch:64------------------>\n",
      "Batch id: 0 [0/8660 (0%)]\tLoss: 0.003972\n",
      "Train Epoch:65------------------>\n",
      "Batch id: 0 [0/8660 (0%)]\tLoss: 0.004628\n",
      "Train Epoch:66------------------>\n",
      "Batch id: 0 [0/8660 (0%)]\tLoss: 0.003160\n",
      "Train Epoch:67------------------>\n",
      "Batch id: 0 [0/8660 (0%)]\tLoss: 0.003971\n",
      "Train Epoch:68------------------>\n",
      "Batch id: 0 [0/8660 (0%)]\tLoss: 0.002959\n",
      "Train Epoch:69------------------>\n",
      "Batch id: 0 [0/8660 (0%)]\tLoss: 0.002782\n",
      "Train Epoch:70------------------>\n",
      "Batch id: 0 [0/8660 (0%)]\tLoss: 0.002859\n",
      "Train Epoch:71------------------>\n",
      "Batch id: 0 [0/8660 (0%)]\tLoss: 0.002149\n",
      "Train Epoch:72------------------>\n",
      "Batch id: 0 [0/8660 (0%)]\tLoss: 0.002096\n",
      "Train Epoch:73------------------>\n",
      "Batch id: 0 [0/8660 (0%)]\tLoss: 0.002887\n",
      "Train Epoch:74------------------>\n",
      "Batch id: 0 [0/8660 (0%)]\tLoss: 0.002961\n",
      "Train Epoch:75------------------>\n",
      "Batch id: 0 [0/8660 (0%)]\tLoss: 0.002004\n",
      "Train Epoch:76------------------>\n",
      "Batch id: 0 [0/8660 (0%)]\tLoss: 0.002389\n",
      "Train Epoch:77------------------>\n",
      "Batch id: 0 [0/8660 (0%)]\tLoss: 0.002112\n",
      "Train Epoch:78------------------>\n",
      "Batch id: 0 [0/8660 (0%)]\tLoss: 0.002250\n",
      "Train Epoch:79------------------>\n",
      "Batch id: 0 [0/8660 (0%)]\tLoss: 0.001849\n",
      "Train Epoch:80------------------>\n",
      "Batch id: 0 [0/8660 (0%)]\tLoss: 0.001644\n",
      "Train Epoch:81------------------>\n",
      "Batch id: 0 [0/8660 (0%)]\tLoss: 0.001890\n",
      "Train Epoch:82------------------>\n",
      "Batch id: 0 [0/8660 (0%)]\tLoss: 0.002353\n",
      "Train Epoch:83------------------>\n",
      "Batch id: 0 [0/8660 (0%)]\tLoss: 0.001913\n",
      "Train Epoch:84------------------>\n",
      "Batch id: 0 [0/8660 (0%)]\tLoss: 0.001824\n",
      "Train Epoch:85------------------>\n",
      "Batch id: 0 [0/8660 (0%)]\tLoss: 0.002346\n",
      "Train Epoch:86------------------>\n",
      "Batch id: 0 [0/8660 (0%)]\tLoss: 0.002317\n",
      "Train Epoch:87------------------>\n",
      "Batch id: 0 [0/8660 (0%)]\tLoss: 0.001977\n",
      "Train Epoch:88------------------>\n",
      "Batch id: 0 [0/8660 (0%)]\tLoss: 0.001745\n",
      "Train Epoch:89------------------>\n",
      "Batch id: 0 [0/8660 (0%)]\tLoss: 0.001214\n",
      "Train Epoch:90------------------>\n",
      "Batch id: 0 [0/8660 (0%)]\tLoss: 0.001609\n",
      "Train Epoch:91------------------>\n",
      "Batch id: 0 [0/8660 (0%)]\tLoss: 0.001019\n",
      "Train Epoch:92------------------>\n",
      "Batch id: 0 [0/8660 (0%)]\tLoss: 0.001277\n",
      "Train Epoch:93------------------>\n",
      "Batch id: 0 [0/8660 (0%)]\tLoss: 0.001782\n",
      "Train Epoch:94------------------>\n",
      "Batch id: 0 [0/8660 (0%)]\tLoss: 0.001367\n",
      "Train Epoch:95------------------>\n",
      "Batch id: 0 [0/8660 (0%)]\tLoss: 0.001338\n",
      "Train Epoch:96------------------>\n",
      "Batch id: 0 [0/8660 (0%)]\tLoss: 0.001292\n",
      "Train Epoch:97------------------>\n",
      "Batch id: 0 [0/8660 (0%)]\tLoss: 0.001787\n",
      "Train Epoch:98------------------>\n",
      "Batch id: 0 [0/8660 (0%)]\tLoss: 0.000974\n",
      "Train Epoch:99------------------>\n",
      "Batch id: 0 [0/8660 (0%)]\tLoss: 0.001389\n"
     ]
    }
   ],
   "source": [
    "train_loss = []\n",
    "running_loss=0.0\n",
    "epochs =100\n",
    "for epoch in range(epochs):\n",
    "    print('Train Epoch:'+str(epoch)+\"------------------>\")\n",
    "    for batch_idx, (x0, x1, labels) in enumerate(train_loader):\n",
    "        labels = labels.float()\n",
    "        x0, x1, labels = Variable(x0), Variable(x1), Variable(labels)\n",
    "        output1, output2 = model(x0, x1)\n",
    "        loss = criterion(output1, output2, labels)\n",
    "        optimizer.zero_grad()\n",
    "        loss.backward()\n",
    "        optimizer.step()\n",
    "        train_loss.append(loss.item())\n",
    "        if batch_idx % batchsize == 0:\n",
    "            print('Batch id: {} [{}/{} ({:.0f}%)]\\tLoss: {:.6f}'.format(\n",
    "                batch_idx, batch_idx * len(labels), len(train_loader.dataset),\n",
    "                100. * batch_idx / len(train_loader), loss.item()))\n",
    "    #torch.save(model.state_dict(), './model-epoch-%s.pth' % epoch)\n"
   ]
  },
  {
   "cell_type": "code",
   "execution_count": 24,
   "metadata": {},
   "outputs": [
    {
     "data": {
      "image/png": "[encoded data removed]",
      "text/plain": [
       "<Figure size 432x288 with 1 Axes>"
      ]
     },
     "metadata": {
      "needs_background": "light"
     },
     "output_type": "display_data"
    }
   ],
   "source": [
    "def plot_loss(train_loss,name=\"train_loss.png\"):\n",
    "    plt.plot(train_loss, label=\"train loss\")\n",
    "    plt.legend()\n",
    "plot_loss(train_loss)"
   ]
  },
  {
   "cell_type": "code",
   "execution_count": 25,
   "metadata": {},
   "outputs": [],
   "source": [
    "from sklearn.metrics.pairwise import cosine_similarity\n",
    "def test_model(model):\n",
    "        model.eval()\n",
    "        all_ = []\n",
    "        all_labels = []\n",
    "        #original_labels=[]\n",
    "        for batch_idx, (x, labels) in enumerate(test_loader):\n",
    "            x, labels = Variable(x, volatile=True), Variable(labels)\n",
    "            output = model.forward_once(x)\n",
    "            all_.extend(output.data.cpu().numpy().tolist())\n",
    "            all_labels.extend(labels.data.cpu().numpy().tolist())\n",
    "\n",
    "        numpy_all = np.array(all_)\n",
    "        numpy_labels = np.array(all_labels)\n",
    "        return numpy_all, numpy_labels\n",
    "\n",
    "def testing_plots(name_file,model):\n",
    "        filehandler = open(name_file,\"wb\")\n",
    "        dict_pickle={}\n",
    "        numpy_all, numpy_labels = test_model(model)\n",
    "        dict_pickle[\"numpy_all\"]=numpy_all\n",
    "        dict_pickle[\"numpy_labels\"]=numpy_labels\n",
    "        pickle.dump(dict_pickle,filehandler)\n",
    "        plot_mnist(numpy_all, numpy_labels)\n",
    "        filehandler.close()"
   ]
  },
  {
   "cell_type": "code",
   "execution_count": 26,
   "metadata": {},
   "outputs": [
    {
     "name": "stderr",
     "output_type": "stream",
     "text": [
      "/Users/sjadon/anaconda3/envs/mysite/lib/python3.6/site-packages/ipykernel_launcher.py:8: UserWarning: volatile was removed and now has no effect. Use `with torch.no_grad():` instead.\n",
      "  \n"
     ]
    },
    {
     "data": {
      "image/png": "[encoded data removed]",
      "text/plain": [
       "<Figure size 432x288 with 1 Axes>"
      ]
     },
     "metadata": {
      "needs_background": "light"
     },
     "output_type": "display_data"
    }
   ],
   "source": [
    "#test_model(model)\n",
    "testing_plots(\"abc.pickle\",model)"
   ]
  },
  {
   "cell_type": "code",
   "execution_count": null,
   "metadata": {},
   "outputs": [],
   "source": []
  },
  {
   "cell_type": "code",
   "execution_count": null,
   "metadata": {},
   "outputs": [],
   "source": []
  }
 ],
 "metadata": {
  "kernelspec": {
   "display_name": "Python 3",
   "language": "python",
   "name": "python3"
  },
  "language_info": {
   "codemirror_mode": {
    "name": "ipython",
    "version": 3
   },
   "file_extension": ".py",
   "mimetype": "text/x-python",
   "name": "python",
   "nbconvert_exporter": "python",
   "pygments_lexer": "ipython3",
   "version": "3.6.8"
  }
 },
 "nbformat": 4,
 "nbformat_minor": 2
}
