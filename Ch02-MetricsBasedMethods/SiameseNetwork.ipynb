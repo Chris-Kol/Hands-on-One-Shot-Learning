{
 "cells": [
  {
   "cell_type": "markdown",
   "metadata": {},
   "source": [
    "# Siamese Network Architecture using MNIST Dataset\n",
    "\n",
    "\n",
    "In this tutorial, we will do following things step by step:\n",
    "1. Data Preprocessing: Creating Pairs.\n",
    "2. Create a Siamese Network Architecture.\n",
    "3. Train it using Small MNIST dataset. \n",
    "4. Visualize Embeddings."
   ]
  },
  {
   "cell_type": "markdown",
   "metadata": {},
   "source": [
    "##### Step1: Lets first import all libraries needed."
   ]
  },
  {
   "cell_type": "code",
   "execution_count": 1,
   "metadata": {},
   "outputs": [],
   "source": [
    "# -*- encoding: utf-8 -*-\n",
    "import argparse\n",
    "import torch\n",
    "import torchvision.datasets as dsets\n",
    "import random\n",
    "import numpy as np\n",
    "import time\n",
    "import matplotlib.pyplot as plt\n",
    "from torch.autograd import Variable\n",
    "from torchvision import transforms\n",
    "import pickle\n",
    "import torch\n",
    "import torch.nn as nn"
   ]
  },
  {
   "cell_type": "markdown",
   "metadata": {},
   "source": [
    "### Data Preprocessing\n",
    "As we learned in theory part of Siamese Network, that as part of data preprocessing we need to create pairs.\n",
    "1. 1 pair-> similar; y=0\n",
    "2. 1 pair-> dissimilar; y=1\n",
    "\n",
    "Note: We are using contrastive loss function, that's why just 2 pairs, for Triplet Loss Function we need different form of preprocessing."
   ]
  },
  {
   "cell_type": "markdown",
   "metadata": {},
   "source": [
    "#### Step2: To preporcess data, and create iterator for model, first create a Dataset Class."
   ]
  },
  {
   "cell_type": "code",
   "execution_count": 21,
   "metadata": {},
   "outputs": [],
   "source": [
    "class Dataset(object):\n",
    "    '''\n",
    "    Class Dataset:\n",
    "    Input: numpy values\n",
    "    Output: torch variables.\n",
    "    '''\n",
    "    def __init__(self, x0, x1, label):\n",
    "        self.size = label.shape[0] \n",
    "        self.x0 = torch.from_numpy(x0)\n",
    "        self.x1 = torch.from_numpy(x1)\n",
    "        self.label = torch.from_numpy(label)\n",
    "\n",
    "    def __getitem__(self, index):\n",
    "        return (self.x0[index],\n",
    "                self.x1[index],\n",
    "                self.label[index])\n",
    "\n",
    "    def __len__(self):\n",
    "        return self.size"
   ]
  },
  {
   "cell_type": "markdown",
   "metadata": {},
   "source": [
    "##### Before creating an iterator, lets create pairs, and preprocess images in them."
   ]
  },
  {
   "cell_type": "code",
   "execution_count": 22,
   "metadata": {},
   "outputs": [],
   "source": [
    "def create_pairs(data, digit_indices):\n",
    "    x0_data = []\n",
    "    x1_data = []\n",
    "    label = []\n",
    "    n = min([len(digit_indices[d]) for d in range(10)]) - 1\n",
    "    for d in range(10): # for MNIST dataset: as we have 10 digits\n",
    "        for i in range(n):\n",
    "            z1, z2 = digit_indices[d][i], digit_indices[d][i + 1]\n",
    "            x0_data.append(data[z1] / 255.) # Image Preprocessing Step\n",
    "            x1_data.append(data[z2] / 255.) # Image Preprocessing Step\n",
    "            label.append(1)\n",
    "            inc = random.randrange(1, 10)\n",
    "            dn = (d + inc) % 10\n",
    "            z1, z2 = digit_indices[d][i], digit_indices[dn][i]\n",
    "            x0_data.append(data[z1] / 255.) # Image Preprocessing Step\n",
    "            x1_data.append(data[z2] / 255.) # Image Preprocessing Step\n",
    "            label.append(0)\n",
    "\n",
    "    x0_data = np.array(x0_data, dtype=np.float32)\n",
    "    x0_data = x0_data.reshape([-1, 1, 28, 28])\n",
    "    x1_data = np.array(x1_data, dtype=np.float32)\n",
    "    x1_data = x1_data.reshape([-1, 1, 28, 28])\n",
    "    label = np.array(label, dtype=np.int32)\n",
    "    return x0_data, x1_data, label"
   ]
  },
  {
   "cell_type": "markdown",
   "metadata": {},
   "source": [
    "###### create iterator: returns set of given batchsize for training purpose"
   ]
  },
  {
   "cell_type": "code",
   "execution_count": 23,
   "metadata": {},
   "outputs": [],
   "source": [
    "def create_iterator(data, label, batchsize, shuffle=False):\n",
    "    digit_indices = [np.where(label == i)[0] for i in range(10)]\n",
    "    x0, x1, label = create_pairs(data, digit_indices)\n",
    "    ret = Dataset(x0, x1, label)\n",
    "    return ret"
   ]
  },
  {
   "cell_type": "markdown",
   "metadata": {},
   "source": [
    "# Loss Function: Contrastive Loss Function "
   ]
  },
  {
   "cell_type": "markdown",
   "metadata": {},
   "source": [
    "#### Step 3: Create Loss Function\n",
    "As we know contrastive loss function consists of 2 parts:\n",
    "1. for similar points: (1-y)*(distance_function)^2\n",
    "2. for dissimilar points: y*{max(0,(m-distance_function^2)}\n",
    "\n",
    "Here Distance Function is taken as euclidean distance, also known as root mean square."
   ]
  },
  {
   "cell_type": "code",
   "execution_count": 24,
   "metadata": {},
   "outputs": [],
   "source": [
    "def contrastive_loss_function(x0, x1, y, margin=1.0):\n",
    "    # euclidean distance\n",
    "    diff = x0 - x1\n",
    "    dist_sq = torch.sum(torch.pow(diff, 2), 1)\n",
    "    dist = torch.sqrt(dist_sq)\n",
    "    mdist = margin - dist\n",
    "    dist = torch.clamp(mdist, min=0.0)\n",
    "    loss = y * dist_sq + (1 - y) * torch.pow(dist, 2)\n",
    "    loss = torch.sum(loss) / 2.0 / x0.size()[0]\n",
    "    return loss"
   ]
  },
  {
   "cell_type": "markdown",
   "metadata": {},
   "source": [
    "# Siamese Network Architecture"
   ]
  },
  {
   "cell_type": "markdown",
   "metadata": {},
   "source": [
    "##### Step 4: Creating Siamese Network Architecture\n",
    "For this first lets create a class called SiameseNetwork with 2 functions:\n",
    "1. forward_once: In forward_once pass through all layers and returns the output embeddings\n",
    "2. forward: In forward, call forward_once 2 times for the Input pair given, and returns the embeddings obtained\n",
    "\n",
    "As discussed in theory part of Siamese Network, we share parameters of twins, so we don't need to create explicitly both brances, we can just create one."
   ]
  },
  {
   "cell_type": "code",
   "execution_count": 25,
   "metadata": {},
   "outputs": [],
   "source": [
    "class SiameseNetwork(nn.Module):\n",
    "    def __init__(self,flag_kaf=False):\n",
    "        super(SiameseNetwork, self).__init__()\n",
    "        self.cnn1 = nn.Sequential(\n",
    "            nn.Conv2d(1, 20, kernel_size=5),\n",
    "            nn.MaxPool2d(2, stride=2),\n",
    "            nn.Conv2d(20, 50, kernel_size=5),\n",
    "            nn.MaxPool2d(2, stride=2))\n",
    "        self.fc1 = nn.Sequential(\n",
    "            nn.Linear(50 * 4 * 4, 500),\n",
    "            nn.ReLU(inplace=True),\n",
    "            nn.Linear(500,10),\n",
    "            nn.Linear(10, 2))\n",
    "        \n",
    "    def forward_once(self, x):\n",
    "        output = self.cnn1(x)\n",
    "        output = output.view(output.size()[0], -1)\n",
    "        output = self.fc1(output)\n",
    "        return output\n",
    "\n",
    "    def forward(self, input1, input2):\n",
    "        output1 = self.forward_once(input1)\n",
    "        output2 = self.forward_once(input2)\n",
    "        return output1, output2\n"
   ]
  },
  {
   "cell_type": "markdown",
   "metadata": {},
   "source": [
    "#### Reduce MNIST dataset, choose random 2000 points\n",
    "Setting Batch-Size=128, and importing MNIST dataset"
   ]
  },
  {
   "cell_type": "code",
   "execution_count": 26,
   "metadata": {},
   "outputs": [],
   "source": [
    "batchsize=128\n",
    "train = dsets.MNIST(root='../data/',train=True,download=True)\n",
    "test = dsets.MNIST(root='../data/',train=False,transform=transforms.Compose([transforms.ToTensor(),]))\n",
    "indices= np.random.choice(len(train.train_labels.numpy()), 2000, replace=False)\n",
    "indices_test= np.random.choice(len(test.test_labels.numpy()), 100, replace=False)"
   ]
  },
  {
   "cell_type": "markdown",
   "metadata": {},
   "source": [
    "##### We created an iterator above, here we will use it to create training and test set iterators. "
   ]
  },
  {
   "cell_type": "code",
   "execution_count": 27,
   "metadata": {},
   "outputs": [],
   "source": [
    "train_iter = create_iterator(train.train_data.numpy()[indices],train.train_labels.numpy()[indices],batchsize)\n",
    "test_iter = create_iterator(test.test_data.numpy()[indices_test],test.test_labels.numpy()[indices_test],batchsize)\n",
    "\n",
    "# call model\n",
    "model = SiameseNetwork()\n",
    "learning_rate = 0.01 # learning rate for optimization\n",
    "momentum = 0.9 # momentum\n",
    "# Loss and Optimizer\n",
    "criterion = contrastive_loss_function # we will use contrastive loss function as defined above\n",
    "optimizer = torch.optim.SGD(model.parameters(), lr=learning_rate,momentum=momentum)\n",
    "\n",
    "# creating a train loader, and a test loader.\n",
    "train_loader = torch.utils.data.DataLoader(train_iter,batch_size=batchsize, shuffle=True)\n",
    "test_loader = torch.utils.data.DataLoader(test,batch_size=batchsize, shuffle=True)"
   ]
  },
  {
   "cell_type": "markdown",
   "metadata": {},
   "source": [
    "## Training"
   ]
  },
  {
   "cell_type": "markdown",
   "metadata": {},
   "source": [
    "#### Step 5: Train Model for certain number of epochs. "
   ]
  },
  {
   "cell_type": "code",
   "execution_count": 28,
   "metadata": {},
   "outputs": [
    {
     "name": "stdout",
     "output_type": "stream",
     "text": [
      "Train Epoch:0------------------>\n",
      "Batch id: 0 [0/3340 (0%)]\tLoss: 0.233218\n",
      "Train Epoch:1------------------>\n",
      "Batch id: 0 [0/3340 (0%)]\tLoss: 0.203361\n",
      "Train Epoch:2------------------>\n",
      "Batch id: 0 [0/3340 (0%)]\tLoss: 0.142519\n",
      "Train Epoch:3------------------>\n",
      "Batch id: 0 [0/3340 (0%)]\tLoss: 0.091636\n",
      "Train Epoch:4------------------>\n",
      "Batch id: 0 [0/3340 (0%)]\tLoss: 0.093774\n",
      "Train Epoch:5------------------>\n",
      "Batch id: 0 [0/3340 (0%)]\tLoss: 0.091798\n",
      "Train Epoch:6------------------>\n",
      "Batch id: 0 [0/3340 (0%)]\tLoss: 0.077866\n",
      "Train Epoch:7------------------>\n",
      "Batch id: 0 [0/3340 (0%)]\tLoss: 0.090081\n",
      "Train Epoch:8------------------>\n",
      "Batch id: 0 [0/3340 (0%)]\tLoss: 0.080274\n",
      "Train Epoch:9------------------>\n",
      "Batch id: 0 [0/3340 (0%)]\tLoss: 0.068568\n",
      "Train Epoch:10------------------>\n",
      "Batch id: 0 [0/3340 (0%)]\tLoss: 0.060364\n",
      "Train Epoch:11------------------>\n",
      "Batch id: 0 [0/3340 (0%)]\tLoss: 0.067997\n",
      "Train Epoch:12------------------>\n",
      "Batch id: 0 [0/3340 (0%)]\tLoss: 0.072544\n",
      "Train Epoch:13------------------>\n",
      "Batch id: 0 [0/3340 (0%)]\tLoss: 0.059807\n",
      "Train Epoch:14------------------>\n",
      "Batch id: 0 [0/3340 (0%)]\tLoss: 0.052853\n",
      "Train Epoch:15------------------>\n",
      "Batch id: 0 [0/3340 (0%)]\tLoss: 0.055039\n",
      "Train Epoch:16------------------>\n",
      "Batch id: 0 [0/3340 (0%)]\tLoss: 0.050733\n",
      "Train Epoch:17------------------>\n",
      "Batch id: 0 [0/3340 (0%)]\tLoss: 0.049227\n",
      "Train Epoch:18------------------>\n",
      "Batch id: 0 [0/3340 (0%)]\tLoss: 0.056692\n",
      "Train Epoch:19------------------>\n",
      "Batch id: 0 [0/3340 (0%)]\tLoss: 0.054385\n",
      "Train Epoch:20------------------>\n",
      "Batch id: 0 [0/3340 (0%)]\tLoss: 0.054245\n",
      "Train Epoch:21------------------>\n",
      "Batch id: 0 [0/3340 (0%)]\tLoss: 0.037629\n",
      "Train Epoch:22------------------>\n",
      "Batch id: 0 [0/3340 (0%)]\tLoss: 0.042284\n",
      "Train Epoch:23------------------>\n",
      "Batch id: 0 [0/3340 (0%)]\tLoss: 0.052116\n",
      "Train Epoch:24------------------>\n",
      "Batch id: 0 [0/3340 (0%)]\tLoss: 0.042039\n",
      "Train Epoch:25------------------>\n",
      "Batch id: 0 [0/3340 (0%)]\tLoss: 0.033531\n",
      "Train Epoch:26------------------>\n",
      "Batch id: 0 [0/3340 (0%)]\tLoss: 0.037747\n",
      "Train Epoch:27------------------>\n",
      "Batch id: 0 [0/3340 (0%)]\tLoss: 0.034376\n",
      "Train Epoch:28------------------>\n",
      "Batch id: 0 [0/3340 (0%)]\tLoss: 0.024279\n",
      "Train Epoch:29------------------>\n",
      "Batch id: 0 [0/3340 (0%)]\tLoss: 0.025041\n",
      "Train Epoch:30------------------>\n",
      "Batch id: 0 [0/3340 (0%)]\tLoss: 0.033777\n",
      "Train Epoch:31------------------>\n",
      "Batch id: 0 [0/3340 (0%)]\tLoss: 0.031673\n",
      "Train Epoch:32------------------>\n",
      "Batch id: 0 [0/3340 (0%)]\tLoss: 0.027654\n",
      "Train Epoch:33------------------>\n",
      "Batch id: 0 [0/3340 (0%)]\tLoss: 0.032247\n",
      "Train Epoch:34------------------>\n",
      "Batch id: 0 [0/3340 (0%)]\tLoss: 0.025065\n",
      "Train Epoch:35------------------>\n",
      "Batch id: 0 [0/3340 (0%)]\tLoss: 0.019236\n",
      "Train Epoch:36------------------>\n",
      "Batch id: 0 [0/3340 (0%)]\tLoss: 0.022541\n",
      "Train Epoch:37------------------>\n",
      "Batch id: 0 [0/3340 (0%)]\tLoss: 0.021097\n",
      "Train Epoch:38------------------>\n",
      "Batch id: 0 [0/3340 (0%)]\tLoss: 0.015990\n",
      "Train Epoch:39------------------>\n",
      "Batch id: 0 [0/3340 (0%)]\tLoss: 0.017359\n",
      "Train Epoch:40------------------>\n",
      "Batch id: 0 [0/3340 (0%)]\tLoss: 0.023357\n",
      "Train Epoch:41------------------>\n",
      "Batch id: 0 [0/3340 (0%)]\tLoss: 0.023422\n",
      "Train Epoch:42------------------>\n",
      "Batch id: 0 [0/3340 (0%)]\tLoss: 0.017474\n",
      "Train Epoch:43------------------>\n",
      "Batch id: 0 [0/3340 (0%)]\tLoss: 0.020571\n",
      "Train Epoch:44------------------>\n",
      "Batch id: 0 [0/3340 (0%)]\tLoss: 0.018078\n",
      "Train Epoch:45------------------>\n",
      "Batch id: 0 [0/3340 (0%)]\tLoss: 0.013293\n",
      "Train Epoch:46------------------>\n",
      "Batch id: 0 [0/3340 (0%)]\tLoss: 0.017896\n",
      "Train Epoch:47------------------>\n",
      "Batch id: 0 [0/3340 (0%)]\tLoss: 0.015602\n",
      "Train Epoch:48------------------>\n",
      "Batch id: 0 [0/3340 (0%)]\tLoss: 0.017977\n",
      "Train Epoch:49------------------>\n",
      "Batch id: 0 [0/3340 (0%)]\tLoss: 0.014395\n",
      "Train Epoch:50------------------>\n",
      "Batch id: 0 [0/3340 (0%)]\tLoss: 0.014203\n",
      "Train Epoch:51------------------>\n",
      "Batch id: 0 [0/3340 (0%)]\tLoss: 0.013106\n",
      "Train Epoch:52------------------>\n",
      "Batch id: 0 [0/3340 (0%)]\tLoss: 0.011805\n",
      "Train Epoch:53------------------>\n",
      "Batch id: 0 [0/3340 (0%)]\tLoss: 0.011995\n",
      "Train Epoch:54------------------>\n",
      "Batch id: 0 [0/3340 (0%)]\tLoss: 0.013521\n",
      "Train Epoch:55------------------>\n",
      "Batch id: 0 [0/3340 (0%)]\tLoss: 0.008746\n",
      "Train Epoch:56------------------>\n",
      "Batch id: 0 [0/3340 (0%)]\tLoss: 0.012713\n",
      "Train Epoch:57------------------>\n",
      "Batch id: 0 [0/3340 (0%)]\tLoss: 0.010209\n",
      "Train Epoch:58------------------>\n",
      "Batch id: 0 [0/3340 (0%)]\tLoss: 0.012770\n",
      "Train Epoch:59------------------>\n",
      "Batch id: 0 [0/3340 (0%)]\tLoss: 0.010175\n",
      "Train Epoch:60------------------>\n",
      "Batch id: 0 [0/3340 (0%)]\tLoss: 0.009660\n",
      "Train Epoch:61------------------>\n",
      "Batch id: 0 [0/3340 (0%)]\tLoss: 0.008974\n",
      "Train Epoch:62------------------>\n",
      "Batch id: 0 [0/3340 (0%)]\tLoss: 0.008217\n",
      "Train Epoch:63------------------>\n",
      "Batch id: 0 [0/3340 (0%)]\tLoss: 0.008967\n",
      "Train Epoch:64------------------>\n",
      "Batch id: 0 [0/3340 (0%)]\tLoss: 0.007701\n",
      "Train Epoch:65------------------>\n",
      "Batch id: 0 [0/3340 (0%)]\tLoss: 0.009733\n",
      "Train Epoch:66------------------>\n",
      "Batch id: 0 [0/3340 (0%)]\tLoss: 0.010594\n",
      "Train Epoch:67------------------>\n",
      "Batch id: 0 [0/3340 (0%)]\tLoss: 0.007698\n",
      "Train Epoch:68------------------>\n",
      "Batch id: 0 [0/3340 (0%)]\tLoss: 0.006547\n",
      "Train Epoch:69------------------>\n",
      "Batch id: 0 [0/3340 (0%)]\tLoss: 0.006456\n",
      "Train Epoch:70------------------>\n",
      "Batch id: 0 [0/3340 (0%)]\tLoss: 0.006424\n",
      "Train Epoch:71------------------>\n",
      "Batch id: 0 [0/3340 (0%)]\tLoss: 0.005279\n",
      "Train Epoch:72------------------>\n",
      "Batch id: 0 [0/3340 (0%)]\tLoss: 0.005685\n",
      "Train Epoch:73------------------>\n",
      "Batch id: 0 [0/3340 (0%)]\tLoss: 0.005722\n",
      "Train Epoch:74------------------>\n",
      "Batch id: 0 [0/3340 (0%)]\tLoss: 0.004866\n",
      "Train Epoch:75------------------>\n",
      "Batch id: 0 [0/3340 (0%)]\tLoss: 0.004901\n",
      "Train Epoch:76------------------>\n",
      "Batch id: 0 [0/3340 (0%)]\tLoss: 0.004870\n",
      "Train Epoch:77------------------>\n",
      "Batch id: 0 [0/3340 (0%)]\tLoss: 0.005635\n",
      "Train Epoch:78------------------>\n",
      "Batch id: 0 [0/3340 (0%)]\tLoss: 0.006987\n",
      "Train Epoch:79------------------>\n",
      "Batch id: 0 [0/3340 (0%)]\tLoss: 0.005916\n",
      "Train Epoch:80------------------>\n",
      "Batch id: 0 [0/3340 (0%)]\tLoss: 0.006312\n",
      "Train Epoch:81------------------>\n",
      "Batch id: 0 [0/3340 (0%)]\tLoss: 0.004849\n",
      "Train Epoch:82------------------>\n",
      "Batch id: 0 [0/3340 (0%)]\tLoss: 0.005754\n",
      "Train Epoch:83------------------>\n",
      "Batch id: 0 [0/3340 (0%)]\tLoss: 0.004906\n",
      "Train Epoch:84------------------>\n",
      "Batch id: 0 [0/3340 (0%)]\tLoss: 0.004959\n",
      "Train Epoch:85------------------>\n",
      "Batch id: 0 [0/3340 (0%)]\tLoss: 0.004140\n",
      "Train Epoch:86------------------>\n",
      "Batch id: 0 [0/3340 (0%)]\tLoss: 0.003600\n",
      "Train Epoch:87------------------>\n",
      "Batch id: 0 [0/3340 (0%)]\tLoss: 0.003495\n",
      "Train Epoch:88------------------>\n",
      "Batch id: 0 [0/3340 (0%)]\tLoss: 0.003750\n",
      "Train Epoch:89------------------>\n",
      "Batch id: 0 [0/3340 (0%)]\tLoss: 0.003625\n",
      "Train Epoch:90------------------>\n",
      "Batch id: 0 [0/3340 (0%)]\tLoss: 0.004347\n",
      "Train Epoch:91------------------>\n",
      "Batch id: 0 [0/3340 (0%)]\tLoss: 0.003775\n",
      "Train Epoch:92------------------>\n",
      "Batch id: 0 [0/3340 (0%)]\tLoss: 0.003246\n",
      "Train Epoch:93------------------>\n",
      "Batch id: 0 [0/3340 (0%)]\tLoss: 0.003822\n",
      "Train Epoch:94------------------>\n",
      "Batch id: 0 [0/3340 (0%)]\tLoss: 0.002725\n",
      "Train Epoch:95------------------>\n",
      "Batch id: 0 [0/3340 (0%)]\tLoss: 0.003688\n",
      "Train Epoch:96------------------>\n",
      "Batch id: 0 [0/3340 (0%)]\tLoss: 0.003770\n",
      "Train Epoch:97------------------>\n",
      "Batch id: 0 [0/3340 (0%)]\tLoss: 0.002381\n",
      "Train Epoch:98------------------>\n",
      "Batch id: 0 [0/3340 (0%)]\tLoss: 0.003431\n",
      "Train Epoch:99------------------>\n",
      "Batch id: 0 [0/3340 (0%)]\tLoss: 0.003323\n"
     ]
    }
   ],
   "source": [
    "train_loss = []\n",
    "epochs =100\n",
    "for epoch in range(epochs):\n",
    "    print('Train Epoch:'+str(epoch)+\"------------------>\")\n",
    "    for batch_idx, (x0, x1, labels) in enumerate(train_loader):\n",
    "        labels = labels.float()\n",
    "        x0, x1, labels = Variable(x0), Variable(x1), Variable(labels)\n",
    "        output1, output2 = model(x0, x1)\n",
    "        loss = criterion(output1, output2, labels)\n",
    "        optimizer.zero_grad()\n",
    "        loss.backward()\n",
    "        optimizer.step()\n",
    "        train_loss.append(loss.item())\n",
    "        if batch_idx % batchsize == 0:\n",
    "            print('Batch id: {} [{}/{} ({:.0f}%)]\\tLoss: {:.6f}'.format(\n",
    "                batch_idx, batch_idx * len(labels), len(train_loader.dataset),\n",
    "                100. * batch_idx / len(train_loader), loss.item()))\n"
   ]
  },
  {
   "cell_type": "markdown",
   "metadata": {},
   "source": [
    "# Plots"
   ]
  },
  {
   "cell_type": "markdown",
   "metadata": {},
   "source": [
    "##### Step5: Lets Create all functions for plotting embeddings and loss function"
   ]
  },
  {
   "cell_type": "code",
   "execution_count": 29,
   "metadata": {},
   "outputs": [],
   "source": [
    "def plot_loss(train_loss,name=\"train_loss.png\"):\n",
    "    plt.plot(train_loss, label=\"train loss\")\n",
    "    plt.legend()"
   ]
  },
  {
   "cell_type": "code",
   "execution_count": 30,
   "metadata": {},
   "outputs": [],
   "source": [
    "def plot_mnist(numpy_all, numpy_labels,name=\"./embeddings_plot.png\"):\n",
    "        c = ['#ff0000', '#ffff00', '#00ff00', '#00ffff', '#0000ff',\n",
    "             '#ff00ff', '#990000', '#999900', '#009900', '#009999']\n",
    "\n",
    "        for i in range(10):\n",
    "            f = numpy_all[np.where(numpy_labels == i)]\n",
    "            plt.plot(f[:, 0], f[:, 1], '.', c=c[i])\n",
    "        plt.legend(['0', '1', '2', '3', '4', '5', '6', '7', '8', '9'])\n",
    "        plt.savefig(name)"
   ]
  },
  {
   "cell_type": "markdown",
   "metadata": {},
   "source": [
    "##### Loss Function Plot"
   ]
  },
  {
   "cell_type": "code",
   "execution_count": 31,
   "metadata": {},
   "outputs": [
    {
     "data": {
      "image/png": "[encoded data removed]",
      "text/plain": [
       "<Figure size 432x288 with 1 Axes>"
      ]
     },
     "metadata": {
      "needs_background": "light"
     },
     "output_type": "display_data"
    }
   ],
   "source": [
    "plot_loss(train_loss)"
   ]
  },
  {
   "cell_type": "markdown",
   "metadata": {},
   "source": [
    "### Plotting test-set Embeddings of MNIST dataset"
   ]
  },
  {
   "cell_type": "code",
   "execution_count": 32,
   "metadata": {},
   "outputs": [],
   "source": [
    "def test_model(model):\n",
    "        model.eval()\n",
    "        all_ = []\n",
    "        all_labels = []\n",
    "        #original_labels=[]\n",
    "        for batch_idx, (x, labels) in enumerate(test_loader):\n",
    "            x, labels = Variable(x, volatile=True), Variable(labels)\n",
    "            output = model.forward_once(x)\n",
    "            all_.extend(output.data.cpu().numpy().tolist())\n",
    "            all_labels.extend(labels.data.cpu().numpy().tolist())\n",
    "\n",
    "        numpy_all = np.array(all_)\n",
    "        numpy_labels = np.array(all_labels)\n",
    "        return numpy_all, numpy_labels\n",
    "\n",
    "def testing_plots(model):\n",
    "        dict_pickle={}\n",
    "        numpy_all, numpy_labels = test_model(model)\n",
    "        dict_pickle[\"numpy_all\"]=numpy_all\n",
    "        dict_pickle[\"numpy_labels\"]=numpy_labels\n",
    "        plot_mnist(numpy_all, numpy_labels)"
   ]
  },
  {
   "cell_type": "code",
   "execution_count": 33,
   "metadata": {},
   "outputs": [
    {
     "name": "stderr",
     "output_type": "stream",
     "text": [
      "/Users/sjadon/anaconda3/envs/mysite/lib/python3.6/site-packages/ipykernel_launcher.py:7: UserWarning: volatile was removed and now has no effect. Use `with torch.no_grad():` instead.\n",
      "  import sys\n"
     ]
    },
    {
     "data": {
      "image/png": "[encoded data removed]",
      "text/plain": [
       "<Figure size 432x288 with 1 Axes>"
      ]
     },
     "metadata": {
      "needs_background": "light"
     },
     "output_type": "display_data"
    }
   ],
   "source": [
    "testing_plots(model)"
   ]
  },
  {
   "cell_type": "markdown",
   "metadata": {},
   "source": [
    "#### In above embeddings Plot, what we can observe is that majority of points are in a cluster, whereas some points are not part of cluster, can be seen as outliers."
   ]
  }
 ],
 "metadata": {
  "kernelspec": {
   "display_name": "Python 3",
   "language": "python",
   "name": "python3"
  },
  "language_info": {
   "codemirror_mode": {
    "name": "ipython",
    "version": 3
   },
   "file_extension": ".py",
   "mimetype": "text/x-python",
   "name": "python",
   "nbconvert_exporter": "python",
   "pygments_lexer": "ipython3",
   "version": "3.6.8"
  }
 },
 "nbformat": 4,
 "nbformat_minor": 2
}
