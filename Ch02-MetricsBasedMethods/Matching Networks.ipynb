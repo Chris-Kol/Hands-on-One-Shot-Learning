{
 "cells": [
  {
   "attachments": {},
   "cell_type": "markdown",
   "metadata": {},
   "source": [
    "# Matching Networks: Omniglot Dataset\n",
    "\n",
    "In this tutorial, we will learn how to create Matching Networks, and train it on Omniglot Dataset.\n"
   ]
  },
  {
   "cell_type": "markdown",
   "metadata": {},
   "source": [
    "##### Step 1: Import all necessary libraries "
   ]
  },
  {
   "cell_type": "code",
   "execution_count": 1,
   "metadata": {},
   "outputs": [],
   "source": [
    "import numpy as np\n",
    "import torch\n",
    "import torch.nn as nn\n",
    "import math\n",
    "import numpy as np\n",
    "import torch.nn.functional as F\n",
    "from torch.autograd import Variable\n",
    "import tqdm\n",
    "import torch.backends.cudnn as cudnn\n",
    "from torch.optim.lr_scheduler import ReduceLROnPlateau\n",
    "import matplotlib.pyplot as plt\n",
    "%matplotlib inline "
   ]
  },
  {
   "cell_type": "markdown",
   "metadata": {},
   "source": [
    "#### Step 2: We will load omniglot dataset, tranformed in .npy format using helper script.  "
   ]
  },
  {
   "cell_type": "code",
   "execution_count": 2,
   "metadata": {},
   "outputs": [],
   "source": [
    "x = np.load('data/data.npy') # Load Data\n",
    "x = np.reshape(x, newshape=(x.shape[0], x.shape[1], 28, 28, 1)) # Reshape data to compress it to 28X28 \n",
    "np.random.shuffle(x) # shuffle dataset\n",
    "x_train, x_val, x_test = x[:1200], x[1200:1411], x[1411:] # divide dataset in to train,val,test\n",
    "batch_size = 16 # setting batch_size\n",
    "n_classes = x.shape[0] # number of classes\n",
    "classes_per_set = 20 # number of classes per-set\n",
    "samples_per_class = 1 # as we are choosing it to be one shot learning, so we have 1 sample\n",
    "indexes = {\"train\": 0, \"val\": 0, \"test\": 0}"
   ]
  },
  {
   "cell_type": "markdown",
   "metadata": {},
   "source": [
    "##### Preprocess Images: Here we have use normalization method. "
   ]
  },
  {
   "cell_type": "code",
   "execution_count": 3,
   "metadata": {},
   "outputs": [],
   "source": [
    "def processes_batch(data, mu, sigma):\n",
    "    return (data - mu) / sigma\n",
    "\n",
    "# Normalize Dataset\n",
    "x_train = processes_batch(x_train, np.mean(x_train), np.std(x_train))\n",
    "x_val = processes_batch(x_val, np.mean(x_val), np.std(x_val))\n",
    "x_test = processes_batch(x_test, np.mean(x_test), np.std(x_test))\n",
    "\n",
    "# Defining dictionary of dataset\n",
    "datatset = {\"train\": x_train, \"val\": x_val, \"test\": x_test}"
   ]
  },
  {
   "cell_type": "markdown",
   "metadata": {},
   "source": [
    "###### Step 3: Sample Batch Processing\n",
    "To Load Omniglot dataset, and prepare it for Matching Networks Architecture, we need to create:\n",
    "1. Label Set \n",
    "2. Support Set\n",
    "3. Batch from Suppport Set Examples\n",
    "\n",
    "Let's first create a batch which can give a support set, and a target."
   ]
  },
  {
   "cell_type": "code",
   "execution_count": 4,
   "metadata": {},
   "outputs": [],
   "source": [
    "def sample_batch(data):\n",
    "        \"\"\"\n",
    "        Collect 1000 batches data for N-shot learning\n",
    "        :param data_pack: one of(train,test,val) dataset shape[classes_num,20,28,28,1]\n",
    "        :return: A list with [support_set_x,support_set_y,target_x,target_y] ready to be fed to our networks\n",
    "        \"\"\"\n",
    "        support_set_x = np.zeros((batch_size, classes_per_set, samples_per_class, data.shape[2],\n",
    "                                  data.shape[3], data.shape[4]), np.float32)\n",
    "        support_set_y = np.zeros((batch_size, classes_per_set, samples_per_class), np.int32)\n",
    "        target_x = np.zeros((batch_size, data.shape[2], data.shape[3], data.shape[4]), np.float32)\n",
    "        target_y = np.zeros((batch_size, 1), np.int32)\n",
    "\n",
    "        for i in range(batch_size):\n",
    "            classes_idx = np.arange(data.shape[0])\n",
    "            samples_idx = np.arange(data.shape[1])\n",
    "            choose_classes = np.random.choice(classes_idx, size=classes_per_set, replace=False)\n",
    "            choose_label = np.random.choice(classes_per_set, size=1)\n",
    "            choose_samples = np.random.choice(samples_idx, size=samples_per_class + 1, replace=False)\n",
    "\n",
    "            x_temp = data[choose_classes]\n",
    "            x_temp = x_temp[:, choose_samples]\n",
    "            y_temp = np.arange(classes_per_set)\n",
    "            support_set_x[i] = x_temp[:, :-1]\n",
    "            support_set_y[i] = np.expand_dims(y_temp[:], axis=1)\n",
    "            target_x[i] = x_temp[choose_label, -1]\n",
    "            target_y[i] = y_temp[choose_label]\n",
    "        return support_set_x, support_set_y, target_x, target_y\n",
    "    \n",
    "def _get_batch(dataset_name):\n",
    "        \"\"\"\n",
    "        Get next batch from the dataset with name.\n",
    "        :param dataset_name: The name of dataset(one of \"train\",\"val\",\"test\")\n",
    "        :param augment: if rotate the images\n",
    "        :return: a batch images\n",
    "        \"\"\"\n",
    "        support_set_x, support_set_y, target_x, target_y = sample_batch(datatset[dataset_name])\n",
    "        support_set_x = support_set_x.reshape((support_set_x.shape[0], support_set_x.shape[1] * support_set_x.shape[2],\n",
    "                                               support_set_x.shape[3], support_set_x.shape[4], support_set_x.shape[5]))\n",
    "        support_set_y = support_set_y.reshape(support_set_y.shape[0], support_set_y.shape[1] * support_set_y.shape[2])\n",
    "        return support_set_x, support_set_y, target_x, target_y\n",
    "    "
   ]
  },
  {
   "cell_type": "markdown",
   "metadata": {},
   "source": [
    "If you recall, Matching Networks architecture, you will remember that there are mainly 3 parts of network:\n",
    "1. Classifer\n",
    "2. Attention Model\n",
    "3. Distance Function\n",
    "\n",
    "so, In this section first we will create a classifier."
   ]
  },
  {
   "cell_type": "markdown",
   "metadata": {},
   "source": [
    "##### Step 4: Create a Classifier  "
   ]
  },
  {
   "cell_type": "code",
   "execution_count": 5,
   "metadata": {},
   "outputs": [],
   "source": [
    "def convLayer(in_channels, out_channels, keep_prob=0.0):\n",
    "    \"\"\"3*3 convolution with padding,ever time call it the output size become half\"\"\"\n",
    "    cnn_seq = nn.Sequential(\n",
    "        nn.Conv2d(in_channels, out_channels, 3, 1, 1),\n",
    "        nn.ReLU(True),\n",
    "        nn.BatchNorm2d(out_channels),\n",
    "        nn.MaxPool2d(kernel_size=2, stride=2),\n",
    "        nn.Dropout(keep_prob)\n",
    "    )\n",
    "    return cnn_seq\n",
    "\n",
    "class Classifier(nn.Module):\n",
    "    def __init__(self, layer_size=64, num_channels=1, keep_prob=1.0, image_size=28):\n",
    "        super(Classifier, self).__init__()\n",
    "        \"\"\"\n",
    "        Build a CNN to produce embeddings\n",
    "        :param layer_size:64(default)\n",
    "        :param num_channels:\n",
    "        :param keep_prob:\n",
    "        :param image_size:\n",
    "        \"\"\"\n",
    "        self.layer1 = convLayer(num_channels, layer_size, keep_prob)\n",
    "        self.layer2 = convLayer(layer_size, layer_size, keep_prob)\n",
    "        self.layer3 = convLayer(layer_size, layer_size, keep_prob)\n",
    "        self.layer4 = convLayer(layer_size, layer_size, keep_prob)\n",
    "\n",
    "        finalSize = int(math.floor(image_size / (2 * 2 * 2 * 2)))\n",
    "        self.outSize = finalSize * finalSize * layer_size\n",
    "\n",
    "    def forward(self, image_input):\n",
    "        \"\"\"\n",
    "        Use CNN defined above\n",
    "        :param image_input:\n",
    "        :return:\n",
    "        \"\"\"\n",
    "        x = self.layer1(image_input)\n",
    "        x = self.layer2(x)\n",
    "        x = self.layer3(x)\n",
    "        x = self.layer4(x)\n",
    "        x = x.view(x.size()[0], -1)\n",
    "        return x\n"
   ]
  },
  {
   "cell_type": "markdown",
   "metadata": {},
   "source": [
    "##### step 5: Create an Attention model after classifier."
   ]
  },
  {
   "cell_type": "code",
   "execution_count": 6,
   "metadata": {},
   "outputs": [],
   "source": [
    "class AttentionalClassify(nn.Module):\n",
    "    def __init__(self):\n",
    "        super(AttentionalClassify, self).__init__()\n",
    "\n",
    "    def forward(self, similarities, support_set_y):\n",
    "        \"\"\"\n",
    "        Products pdfs over the support set classes for the target set image.\n",
    "        :param similarities: A tensor with cosine similarites of size[batch_size,sequence_length]\n",
    "        :param support_set_y:[batch_size,sequence_length,classes_num]\n",
    "        :return: Softmax pdf shape[batch_size,classes_num]\n",
    "        \"\"\"\n",
    "        softmax = nn.Softmax()\n",
    "        softmax_similarities = softmax(similarities)\n",
    "        preds = softmax_similarities.unsqueeze(1).bmm(support_set_y).squeeze()\n",
    "        return preds"
   ]
  },
  {
   "cell_type": "markdown",
   "metadata": {},
   "source": [
    "#### Step 6: Create a Distance Network, which will take output from Test Image, and training embeddings, to calculate the Distance."
   ]
  },
  {
   "cell_type": "code",
   "execution_count": 7,
   "metadata": {},
   "outputs": [],
   "source": [
    "class DistanceNetwork(nn.Module):\n",
    "    \"\"\"\n",
    "    This model calculates the cosine distance between each of the support set embeddings and the target image embeddings.\n",
    "    \"\"\"\n",
    "\n",
    "    def __init__(self):\n",
    "        super(DistanceNetwork, self).__init__()\n",
    "\n",
    "    def forward(self, support_set, input_image):\n",
    "        \"\"\"\n",
    "        forward implement\n",
    "        :param support_set:the embeddings of the support set images.shape[sequence_length,batch_size,64]\n",
    "        :param input_image: the embedding of the target image,shape[batch_size,64]\n",
    "        :return:shape[batch_size,sequence_length]\n",
    "        \"\"\"\n",
    "        eps = 1e-10\n",
    "        similarities = []\n",
    "        for support_image in support_set:\n",
    "            sum_support = torch.sum(torch.pow(support_image, 2), 1)\n",
    "            support_manitude = sum_support.clamp(eps, float(\"inf\")).rsqrt()\n",
    "            dot_product = input_image.unsqueeze(1).bmm(support_image.unsqueeze(2)).squeeze()\n",
    "            cosine_similarity = dot_product * support_manitude\n",
    "            similarities.append(cosine_similarity)\n",
    "        similarities = torch.stack(similarities)\n",
    "        return similarities.t()"
   ]
  },
  {
   "cell_type": "markdown",
   "metadata": {},
   "source": [
    "##### Step 7:  Create a Bi-directional LSTM, which is taking input and output from Test-image, and put them in same embeddings space.  "
   ]
  },
  {
   "cell_type": "code",
   "execution_count": 8,
   "metadata": {},
   "outputs": [],
   "source": [
    "class BidirectionalLSTM(nn.Module):\n",
    "    def __init__(self, layer_size, batch_size, vector_dim):\n",
    "        super(BidirectionalLSTM, self).__init__()\n",
    "        \"\"\"\n",
    "        Initial a muti-layer Bidirectional LSTM\n",
    "        :param layer_size: a list of each layer'size\n",
    "        :param batch_size: \n",
    "        :param vector_dim: \n",
    "        \"\"\"\n",
    "        self.batch_size = batch_size\n",
    "        self.hidden_size = layer_size[0]\n",
    "        self.vector_dim = vector_dim\n",
    "        self.num_layer = len(layer_size)\n",
    "        self.lstm = nn.LSTM(input_size=self.vector_dim, num_layers=self.num_layer, hidden_size=self.hidden_size,\n",
    "                            bidirectional=True)\n",
    "        self.hidden = self.init_hidden()\n",
    "\n",
    "    def init_hidden(self):\n",
    "        return (Variable(torch.zeros(self.lstm.num_layers * 2, self.batch_size, self.lstm.hidden_size),requires_grad=False),\n",
    "                Variable(torch.zeros(self.lstm.num_layers * 2, self.batch_size, self.lstm.hidden_size),requires_grad=False))\n",
    "\n",
    "    def repackage_hidden(self,h):\n",
    "        \"\"\"Wraps hidden states in new Variables, to detach them from their history.\"\"\"\n",
    "        if type(h) == Variable:\n",
    "            return Variable(h.data)\n",
    "        else:\n",
    "            return tuple(self.repackage_hidden(v) for v in h)\n",
    "\n",
    "    def forward(self, inputs):\n",
    "        self.hidden = self.repackage_hidden(self.hidden)\n",
    "        output, self.hidden = self.lstm(inputs, self.hidden)\n",
    "        return output"
   ]
  },
  {
   "cell_type": "markdown",
   "metadata": {},
   "source": [
    "##### Step 8: Let's club all small modules we made, and create a matching network. "
   ]
  },
  {
   "cell_type": "code",
   "execution_count": 9,
   "metadata": {},
   "outputs": [],
   "source": [
    "class MatchingNetwork(nn.Module):\n",
    "    def __init__(self, keep_prob, batch_size=32, num_channels=1, learning_rate=1e-3, fce=False, num_classes_per_set=20, \\\n",
    "                 num_samples_per_class=1, image_size=28):\n",
    "        \"\"\"\n",
    "        This is our main network\n",
    "        :param keep_prob: dropout rate\n",
    "        :param batch_size:\n",
    "        :param num_channels:\n",
    "        :param learning_rate:\n",
    "        :param fce: Flag indicating whether to use full context embeddings(i.e. apply an LSTM on the CNN embeddings)\n",
    "        :param num_classes_per_set:\n",
    "        :param num_samples_per_class:\n",
    "        :param image_size:\n",
    "        \"\"\"\n",
    "        super(MatchingNetwork, self).__init__()\n",
    "        self.batch_size = batch_size\n",
    "        self.keep_prob = keep_prob\n",
    "        self.num_channels = num_channels\n",
    "        self.learning_rate = learning_rate\n",
    "        self.fce = fce\n",
    "        self.num_classes_per_set = num_classes_per_set\n",
    "        self.num_samples_per_class = num_samples_per_class\n",
    "        self.image_size = image_size\n",
    "        self.g = Classifier(layer_size=64, num_channels=num_channels, keep_prob=keep_prob, image_size=image_size)\n",
    "        self.dn = DistanceNetwork()\n",
    "        self.classify = AttentionalClassify()\n",
    "        if self.fce:\n",
    "            self.lstm = BidirectionalLSTM(layer_size=[32], batch_size=self.batch_size, vector_dim=self.g.outSize)\n",
    "\n",
    "    def forward(self, support_set_images, support_set_y_one_hot, target_image, target_y):\n",
    "        \"\"\"\n",
    "        Main process of the network\n",
    "        :param support_set_images: shape[batch_size,sequence_length,num_channels,image_size,image_size]\n",
    "        :param support_set_y_one_hot: shape[batch_size,sequence_length,num_classes_per_set]\n",
    "        :param target_image: shape[batch_size,num_channels,image_size,image_size]\n",
    "        :param target_y:\n",
    "        :return:\n",
    "        \"\"\"\n",
    "        # produce embeddings for support set images\n",
    "        encoded_images = []\n",
    "        for i in np.arange(support_set_images.size(1)):\n",
    "            gen_encode = self.g(support_set_images[:, i, :, :])\n",
    "            encoded_images.append(gen_encode)\n",
    "\n",
    "        # produce embeddings for target images\n",
    "        gen_encode = self.g(target_image)\n",
    "        encoded_images.append(gen_encode)\n",
    "        output = torch.stack(encoded_images)\n",
    "        # use fce?\n",
    "        if self.fce:\n",
    "            outputs = self.lstm(output)\n",
    "\n",
    "        # get similarities between support set embeddings and target\n",
    "        similarites = self.dn(support_set=output[:-1], input_image=output[-1])\n",
    "\n",
    "        # produce predictions for target probabilities\n",
    "        preds = self.classify(similarites, support_set_y=support_set_y_one_hot)\n",
    "\n",
    "        # calculate the accuracy\n",
    "        values, indices = preds.max(1)\n",
    "        accuracy = torch.mean((indices.squeeze() == target_y).float())\n",
    "        crossentropy_loss = F.cross_entropy(preds, target_y.long())\n",
    "\n",
    "        return accuracy, crossentropy_loss"
   ]
  },
  {
   "cell_type": "markdown",
   "metadata": {},
   "source": [
    "#### Step 9: Create a Dataset Loader.\n",
    "For our case, as we are using Omniglot Dataset,it will create a Omnligloat builder which calls Matching Network, and run its epochs for training, testing, and validation purpose."
   ]
  },
  {
   "cell_type": "code",
   "execution_count": 10,
   "metadata": {},
   "outputs": [],
   "source": [
    "class OmniglotBuilder:\n",
    "    def build_experiment(self, batch_size, num_channels, lr, image_size, classes_per_set, samples_per_class, keep_prob,\n",
    "                         fce, optim, weight_decay):\n",
    "        \"\"\"\n",
    "\n",
    "        :param batch_size:\n",
    "        :param num_channels:\n",
    "        :param lr:\n",
    "        :param image_size:\n",
    "        :param classes_per_set:\n",
    "        :param samples_per_class:\n",
    "        :param keep_prob:\n",
    "        :param fce:\n",
    "        :param optim:\n",
    "        :param weight_decay:\n",
    "        :param use_cuda:\n",
    "        :return:\n",
    "        \"\"\"\n",
    "        self.classes_per_set = classes_per_set\n",
    "        self.sample_per_class = samples_per_class\n",
    "        self.keep_prob = keep_prob\n",
    "        self.batch_size = batch_size\n",
    "        self.lr = lr\n",
    "        self.image_size = image_size\n",
    "        self.optim = optim\n",
    "        self.wd = weight_decay\n",
    "        self.matchNet = MatchingNetwork(keep_prob, batch_size, num_channels, self.lr, fce, classes_per_set,\n",
    "                                        samples_per_class, image_size)\n",
    "        self.total_iter = 0\n",
    "        self.total_train_iter = 0\n",
    "        self.optimizer = torch.optim.Adam(self.matchNet.parameters(), lr=self.lr, weight_decay=self.wd)\n",
    "        self.scheduler = ReduceLROnPlateau(self.optimizer, 'min',verbose=True)\n",
    "\n",
    "    def run_training_epoch(self, total_train_batches):\n",
    "        \"\"\"\n",
    "        Run the training epoch\n",
    "        :param total_train_batches: Number of batches to train on\n",
    "        :return:\n",
    "        \"\"\"\n",
    "        total_c_loss = 0.0\n",
    "        total_accuracy = 0.0\n",
    "        with tqdm.tqdm(total=total_train_batches) as pbar:\n",
    "            for i in range(total_train_batches):\n",
    "                x_support_set, y_support_set, x_target, y_target = _get_batch(\"train\")\n",
    "                x_support_set = Variable(torch.from_numpy(x_support_set)).float()\n",
    "                y_support_set = Variable(torch.from_numpy(y_support_set), requires_grad=False).long()\n",
    "                x_target = Variable(torch.from_numpy(x_target)).float()\n",
    "                y_target = Variable(torch.from_numpy(y_target), requires_grad=False).squeeze().long()\n",
    "\n",
    "                # convert to one hot encoding\n",
    "                y_support_set = y_support_set.unsqueeze(2)\n",
    "                sequence_length = y_support_set.size()[1]\n",
    "                batch_size = y_support_set.size()[0]\n",
    "                y_support_set_one_hot = Variable(\n",
    "                    torch.zeros(batch_size, sequence_length, self.classes_per_set).scatter_(2,\n",
    "                                                                                            y_support_set.data,\n",
    "                                                                                            1), requires_grad=False)\n",
    "\n",
    "                # reshape channels and change order\n",
    "                size = x_support_set.size()\n",
    "                x_support_set = x_support_set.permute(0, 1, 4, 2, 3)\n",
    "                x_target = x_target.permute(0, 3, 1, 2)\n",
    "                acc, c_loss = self.matchNet(x_support_set, y_support_set_one_hot, x_target, y_target)\n",
    "\n",
    "                # optimize process\n",
    "                self.optimizer.zero_grad()\n",
    "                c_loss.backward()\n",
    "                self.optimizer.step()\n",
    "\n",
    "                # TODO: update learning rate?\n",
    "\n",
    "                iter_out = \"tr_loss: {}, tr_accuracy: {}\".format(c_loss.data[0], acc.data[0])\n",
    "                pbar.set_description(iter_out)\n",
    "                pbar.update(1)\n",
    "                total_c_loss += c_loss.data[0]\n",
    "                total_accuracy += acc.data[0]\n",
    "                # self.total_train_iter+=1\n",
    "\n",
    "            total_c_loss = total_c_loss / total_train_batches\n",
    "            total_accuracy = total_accuracy / total_train_batches\n",
    "            return total_c_loss, total_accuracy\n",
    "\n",
    "    def run_val_epoch(self, total_val_batches):\n",
    "        \"\"\"\n",
    "        Run the training epoch\n",
    "        :param total_train_batches: Number of batches to train on\n",
    "        :return:\n",
    "        \"\"\"\n",
    "        total_c_loss = 0.0\n",
    "        total_accuracy = 0.0\n",
    "\n",
    "        with tqdm.tqdm(total=total_val_batches) as pbar:\n",
    "            for i in range(total_val_batches):\n",
    "                x_support_set, y_support_set, x_target, y_target = _get_batch(\"val\")\n",
    "                x_support_set = Variable(torch.from_numpy(x_support_set)).float()\n",
    "                y_support_set = Variable(torch.from_numpy(y_support_set), requires_grad=False).long()\n",
    "                x_target = Variable(torch.from_numpy(x_target)).float()\n",
    "                y_target = Variable(torch.from_numpy(y_target), requires_grad=False).squeeze().long()\n",
    "\n",
    "                # convert to one hot encoding\n",
    "                y_support_set = y_support_set.unsqueeze(2)\n",
    "                sequence_length = y_support_set.size()[1]\n",
    "                batch_size = y_support_set.size()[0]\n",
    "                y_support_set_one_hot = Variable(\n",
    "                    torch.zeros(batch_size, sequence_length, self.classes_per_set).scatter_(2,\n",
    "                                                                                            y_support_set.data,\n",
    "                                                                                            1), requires_grad=False)\n",
    "\n",
    "                # reshape channels and change order\n",
    "                size = x_support_set.size()\n",
    "                x_support_set = x_support_set.permute(0, 1, 4, 2, 3)\n",
    "                x_target = x_target.permute(0, 3, 1, 2)\n",
    "                acc, c_loss = self.matchNet(x_support_set, y_support_set_one_hot, x_target, y_target)\n",
    "\n",
    "                # TODO: update learning rate?\n",
    "\n",
    "                iter_out = \"val_loss: {}, val_accuracy: {}\".format(c_loss.data[0], acc.data[0])\n",
    "                pbar.set_description(iter_out)\n",
    "                pbar.update(1)\n",
    "                total_c_loss += c_loss.data[0]\n",
    "                total_accuracy += acc.data[0]\n",
    "                # self.total_train_iter+=1\n",
    "\n",
    "            total_c_loss = total_c_loss / total_val_batches\n",
    "            total_accuracy = total_accuracy / total_val_batches\n",
    "            self.scheduler.step(total_c_loss)\n",
    "            return total_c_loss, total_accuracy\n",
    "\n",
    "    def run_test_epoch(self, total_test_batches):\n",
    "        \"\"\"\n",
    "        Run the training epoch\n",
    "        :param total_train_batches: Number of batches to train on\n",
    "        :return:\n",
    "        \"\"\"\n",
    "        total_c_loss = 0.0\n",
    "        total_accuracy = 0.0\n",
    "\n",
    "        with tqdm.tqdm(total=total_test_batches) as pbar:\n",
    "            for i in range(total_test_batches):\n",
    "                x_support_set, y_support_set, x_target, y_target = _get_batch(\"test\")\n",
    "                x_support_set = Variable(torch.from_numpy(x_support_set)).float()\n",
    "                y_support_set = Variable(torch.from_numpy(y_support_set), requires_grad=False).long()\n",
    "                x_target = Variable(torch.from_numpy(x_target)).float()\n",
    "                y_target = Variable(torch.from_numpy(y_target), requires_grad=False).squeeze().long()\n",
    "\n",
    "                # convert to one hot encoding\n",
    "                y_support_set = y_support_set.unsqueeze(2)\n",
    "                sequence_length = y_support_set.size()[1]\n",
    "                batch_size = y_support_set.size()[0]\n",
    "                y_support_set_one_hot = Variable(\n",
    "                    torch.zeros(batch_size, sequence_length, self.classes_per_set).scatter_(2,\n",
    "                                                                                            y_support_set.data,\n",
    "                                                                                            1), requires_grad=False)\n",
    "\n",
    "                # reshape channels and change order\n",
    "                size = x_support_set.size()\n",
    "                x_support_set = x_support_set.permute(0, 1, 4, 2, 3)\n",
    "                x_target = x_target.permute(0, 3, 1, 2)\n",
    "                acc, c_loss = self.matchNet(x_support_set, y_support_set_one_hot, x_target, y_target)\n",
    "\n",
    "                # TODO: update learning rate?\n",
    "\n",
    "                iter_out = \"val_loss: {}, val_accuracy: {}\".format(c_loss.data[0], acc.data[0])\n",
    "                pbar.set_description(iter_out)\n",
    "                pbar.update(1)\n",
    "                total_c_loss += c_loss.data[0]\n",
    "                total_accuracy += acc.data[0]\n",
    "                # self.total_train_iter+=1\n",
    "\n",
    "            total_c_loss = total_c_loss / total_test_batches\n",
    "            total_accuracy = total_accuracy / total_test_batches\n",
    "            return total_c_loss, total_accuracy"
   ]
  },
  {
   "cell_type": "markdown",
   "metadata": {},
   "source": [
    "###### Set-up Experiments variables."
   ]
  },
  {
   "cell_type": "code",
   "execution_count": 11,
   "metadata": {},
   "outputs": [],
   "source": [
    "# Experiment setup\n",
    "batch_size = 20\n",
    "fce = True\n",
    "classes_per_set = 20\n",
    "samples_per_class = 1\n",
    "channels = 1\n",
    "# Training setup\n",
    "total_epochs = 5\n",
    "total_train_batches = 50\n",
    "total_val_batches = 10\n",
    "total_test_batches = 15\n",
    "best_val_acc = 0.0\n",
    "\n",
    "data = \"data\"\n",
    "obj_oneShotBuilder = OmniglotBuilder()\n",
    "obj_oneShotBuilder.build_experiment(batch_size=batch_size, num_channels=1, lr=1e-3, image_size=28, classes_per_set=20,\n",
    "                                    samples_per_class=1, keep_prob=0.0, fce=True, optim=\"adam\", weight_decay=0)"
   ]
  },
  {
   "cell_type": "markdown",
   "metadata": {},
   "source": [
    "##### Let's Run Experiments !!!!! "
   ]
  },
  {
   "cell_type": "code",
   "execution_count": 12,
   "metadata": {},
   "outputs": [
    {
     "name": "stderr",
     "output_type": "stream",
     "text": [
      "  0%|          | 0/50 [00:00<?, ?it/s]/Users/sjadon/anaconda3/envs/meta/lib/python2.7/site-packages/ipykernel_launcher.py:13: UserWarning: Implicit dimension choice for softmax has been deprecated. Change the call to include dim=X as an argument.\n",
      "  del sys.path[0]\n",
      "tr_loss: 2.65885281563, tr_accuracy: 0.550000011921: 100%|██████████| 50/50 [01:09<00:00,  1.34s/it]\n",
      "  0%|          | 0/10 [00:00<?, ?it/s]"
     ]
    },
    {
     "name": "stdout",
     "output_type": "stream",
     "text": [
      "Epoch 0: train_loss:2.82077505589 train_accuracy:0.356999999136\n"
     ]
    },
    {
     "name": "stderr",
     "output_type": "stream",
     "text": [
      "val_loss: 2.77489423752, val_accuracy: 0.34999999404: 100%|██████████| 10/10 [00:06<00:00,  1.39it/s]\n",
      "  0%|          | 0/15 [00:00<?, ?it/s]"
     ]
    },
    {
     "name": "stdout",
     "output_type": "stream",
     "text": [
      "Epoch 0: val_loss:2.76967451572 val_accuracy:0.389999994636\n"
     ]
    },
    {
     "name": "stderr",
     "output_type": "stream",
     "text": [
      "val_loss: 2.68702745438, val_accuracy: 0.550000011921: 100%|██████████| 15/15 [00:10<00:00,  1.49it/s]\n",
      "  0%|          | 0/50 [00:00<?, ?it/s]"
     ]
    },
    {
     "name": "stdout",
     "output_type": "stream",
     "text": [
      "Epoch 0: test_loss:2.76442271868 test_accuracy:0.406666666269\n"
     ]
    },
    {
     "name": "stderr",
     "output_type": "stream",
     "text": [
      "tr_loss: 2.69032239914, tr_accuracy: 0.550000011921: 100%|██████████| 50/50 [01:06<00:00,  1.35s/it]\n",
      "  0%|          | 0/10 [00:00<?, ?it/s]"
     ]
    },
    {
     "name": "stdout",
     "output_type": "stream",
     "text": [
      "Epoch 1: train_loss:2.70877521992 train_accuracy:0.475000000596\n"
     ]
    },
    {
     "name": "stderr",
     "output_type": "stream",
     "text": [
      "val_loss: 2.71750736237, val_accuracy: 0.449999988079: 100%|██████████| 10/10 [00:06<00:00,  1.53it/s]\n",
      "  0%|          | 0/15 [00:00<?, ?it/s]"
     ]
    },
    {
     "name": "stdout",
     "output_type": "stream",
     "text": [
      "Epoch 1: val_loss:2.69341108799 val_accuracy:0.459999999404\n"
     ]
    },
    {
     "name": "stderr",
     "output_type": "stream",
     "text": [
      "val_loss: 2.73027157784, val_accuracy: 0.34999999404: 100%|██████████| 15/15 [00:09<00:00,  1.52it/s] \n",
      "  0%|          | 0/50 [00:00<?, ?it/s]"
     ]
    },
    {
     "name": "stdout",
     "output_type": "stream",
     "text": [
      "Epoch 1: test_loss:2.72069067955 test_accuracy:0.453333330154\n"
     ]
    },
    {
     "name": "stderr",
     "output_type": "stream",
     "text": [
      "tr_loss: 2.72659921646, tr_accuracy: 0.449999988079: 100%|██████████| 50/50 [01:14<00:00,  1.52s/it]\n",
      "  0%|          | 0/10 [00:00<?, ?it/s]"
     ]
    },
    {
     "name": "stdout",
     "output_type": "stream",
     "text": [
      "Epoch 2: train_loss:2.63900801659 train_accuracy:0.561000002623\n"
     ]
    },
    {
     "name": "stderr",
     "output_type": "stream",
     "text": [
      "val_loss: 2.53763866425, val_accuracy: 0.600000023842: 100%|██████████| 10/10 [00:07<00:00,  1.44it/s]\n",
      "  0%|          | 0/15 [00:00<?, ?it/s]"
     ]
    },
    {
     "name": "stdout",
     "output_type": "stream",
     "text": [
      "Epoch 2: val_loss:2.62926092148 val_accuracy:0.535000005364\n"
     ]
    },
    {
     "name": "stderr",
     "output_type": "stream",
     "text": [
      "val_loss: 2.59837388992, val_accuracy: 0.550000011921: 100%|██████████| 15/15 [00:10<00:00,  1.52it/s]\n",
      "  0%|          | 0/50 [00:00<?, ?it/s]"
     ]
    },
    {
     "name": "stdout",
     "output_type": "stream",
     "text": [
      "Epoch 2: test_loss:2.61301784515 test_accuracy:0.593333337704\n"
     ]
    },
    {
     "name": "stderr",
     "output_type": "stream",
     "text": [
      "tr_loss: 2.58672595024, tr_accuracy: 0.600000023842: 100%|██████████| 50/50 [01:10<00:00,  1.41s/it]\n",
      "  0%|          | 0/10 [00:00<?, ?it/s]"
     ]
    },
    {
     "name": "stdout",
     "output_type": "stream",
     "text": [
      "Epoch 3: train_loss:2.61339054108 train_accuracy:0.577000002861\n"
     ]
    },
    {
     "name": "stderr",
     "output_type": "stream",
     "text": [
      "val_loss: 2.68092870712, val_accuracy: 0.40000000596: 100%|██████████| 10/10 [00:06<00:00,  1.45it/s]\n",
      "  0%|          | 0/15 [00:00<?, ?it/s]"
     ]
    },
    {
     "name": "stdout",
     "output_type": "stream",
     "text": [
      "Epoch 3: val_loss:2.56358880997 val_accuracy:0.605000010133\n"
     ]
    },
    {
     "name": "stderr",
     "output_type": "stream",
     "text": [
      "val_loss: 2.58609819412, val_accuracy: 0.600000023842: 100%|██████████| 15/15 [00:10<00:00,  1.42it/s]\n",
      "  0%|          | 0/50 [00:00<?, ?it/s]"
     ]
    },
    {
     "name": "stdout",
     "output_type": "stream",
     "text": [
      "Epoch 3: test_loss:2.57351250648 test_accuracy:0.610000004371\n"
     ]
    },
    {
     "name": "stderr",
     "output_type": "stream",
     "text": [
      "tr_loss: 2.49018526077, tr_accuracy: 0.649999976158: 100%|██████████| 50/50 [01:11<00:00,  1.44s/it]\n",
      "  0%|          | 0/10 [00:00<?, ?it/s]"
     ]
    },
    {
     "name": "stdout",
     "output_type": "stream",
     "text": [
      "Epoch 4: train_loss:2.54416198254 train_accuracy:0.631999998689\n"
     ]
    },
    {
     "name": "stderr",
     "output_type": "stream",
     "text": [
      "val_loss: 2.53471636772, val_accuracy: 0.550000011921: 100%|██████████| 10/10 [00:06<00:00,  1.47it/s]\n",
      "  0%|          | 0/15 [00:00<?, ?it/s]"
     ]
    },
    {
     "name": "stdout",
     "output_type": "stream",
     "text": [
      "Epoch 4: val_loss:2.53294935226 val_accuracy:0.675\n"
     ]
    },
    {
     "name": "stderr",
     "output_type": "stream",
     "text": [
      "val_loss: 2.62239050865, val_accuracy: 0.5: 100%|██████████| 15/15 [00:10<00:00,  1.44it/s]           "
     ]
    },
    {
     "name": "stdout",
     "output_type": "stream",
     "text": [
      "Epoch 4: test_loss:2.53339729309 test_accuracy:0.663333332539\n"
     ]
    },
    {
     "name": "stderr",
     "output_type": "stream",
     "text": [
      "\n"
     ]
    }
   ],
   "source": [
    "train_loss,train_accuracy=[],[]\n",
    "val_loss,val_accuracy=[],[]\n",
    "test_loss,test_accuracy=[],[]\n",
    "\n",
    "\n",
    "for e in range(total_epochs):\n",
    "    ############################### Training Step ##########################################\n",
    "    total_c_loss, total_accuracy = obj_oneShotBuilder.run_training_epoch(total_train_batches)\n",
    "    train_loss.append(total_c_loss)\n",
    "    train_accuracy.append(total_accuracy)\n",
    "    print(\"Epoch {}: train_loss:{} train_accuracy:{}\".format(e, total_c_loss, total_accuracy))\n",
    "    \n",
    "    ################################# Validation Step #######################################\n",
    "    total_val_c_loss, total_val_accuracy = obj_oneShotBuilder.run_val_epoch(total_val_batches)\n",
    "    val_loss.append(total_val_c_loss)\n",
    "    val_accuracy.append(total_val_accuracy)\n",
    "    print(\"Epoch {}: val_loss:{} val_accuracy:{}\".format(e, total_val_c_loss, total_val_accuracy))\n",
    "    \n",
    "    ############################# Test Accuracy check ###########################################\n",
    "    if total_val_accuracy>best_val_acc:\n",
    "        best_val_acc = total_val_accuracy\n",
    "        total_test_c_loss, total_test_accuracy = obj_oneShotBuilder.run_test_epoch(total_test_batches)\n",
    "        test_loss.append(total_test_c_loss)\n",
    "        test_accuracy.append(total_test_accuracy)\n",
    "        print(\"Epoch {}: test_loss:{} test_accuracy:{}\".format(e, total_test_c_loss, total_test_accuracy))"
   ]
  },
  {
   "cell_type": "markdown",
   "metadata": {},
   "source": [
    "#### Step 10: Let's visualize our results "
   ]
  },
  {
   "cell_type": "code",
   "execution_count": 13,
   "metadata": {},
   "outputs": [
    {
     "data": {
      "image/png": "[encoded data removed]",
      "text/plain": [
       "<Figure size 432x288 with 1 Axes>"
      ]
     },
     "metadata": {
      "needs_background": "light"
     },
     "output_type": "display_data"
    }
   ],
   "source": [
    "def plot_loss(train,val,name1=\"train_loss\",name2=\"val_loss\"):\n",
    "    plt.plot(train, label=name1)\n",
    "    plt.plot(val, label=name2)\n",
    "    plt.legend()\n",
    "\n",
    "plot_loss(train_loss,val_loss)\n",
    "    \n"
   ]
  },
  {
   "cell_type": "code",
   "execution_count": 14,
   "metadata": {},
   "outputs": [
    {
     "data": {
      "image/png": "[encoded data removed]",
      "text/plain": [
       "<Figure size 432x288 with 1 Axes>"
      ]
     },
     "metadata": {
      "needs_background": "light"
     },
     "output_type": "display_data"
    }
   ],
   "source": [
    "plot_loss(train_accuracy,val_accuracy,\"train_accuracy\",\"val_accuracy\")"
   ]
  },
  {
   "cell_type": "code",
   "execution_count": 15,
   "metadata": {},
   "outputs": [
    {
     "data": {
      "image/png": "[encoded data removed]",
      "text/plain": [
       "<Figure size 432x288 with 1 Axes>"
      ]
     },
     "metadata": {
      "needs_background": "light"
     },
     "output_type": "display_data"
    }
   ],
   "source": [
    "plot_loss(val_accuracy,test_accuracy,\"val_accuracy\",\"test_accuracy\")"
   ]
  },
  {
   "cell_type": "code",
   "execution_count": 16,
   "metadata": {},
   "outputs": [
    {
     "data": {
      "image/png": "[encoded data removed]",
      "text/plain": [
       "<Figure size 432x288 with 1 Axes>"
      ]
     },
     "metadata": {
      "needs_background": "light"
     },
     "output_type": "display_data"
    }
   ],
   "source": [
    "plot_loss(val_loss,test_loss,\"val_loss\",\"test_loss\")"
   ]
  },
  {
   "cell_type": "code",
   "execution_count": null,
   "metadata": {},
   "outputs": [],
   "source": []
  }
 ],
 "metadata": {
  "kernelspec": {
   "display_name": "Python 2",
   "language": "python",
   "name": "python2"
  },
  "language_info": {
   "codemirror_mode": {
    "name": "ipython",
    "version": 2
   },
   "file_extension": ".py",
   "mimetype": "text/x-python",
   "name": "python",
   "nbconvert_exporter": "python",
   "pygments_lexer": "ipython2",
   "version": "2.7.16"
  }
 },
 "nbformat": 4,
 "nbformat_minor": 2
}
