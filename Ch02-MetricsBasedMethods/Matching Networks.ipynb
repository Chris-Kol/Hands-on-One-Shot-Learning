{
 "cells": [
  {
   "cell_type": "markdown",
   "metadata": {},
   "source": [
    "# Matching Networks: Omniglot Dataset\n",
    "\n",
    "In this tutorial, we will learn how to create Matching Networks, and train it on Omniglot Dataset.\n"
   ]
  },
  {
   "cell_type": "markdown",
   "metadata": {},
   "source": [
    "##### Step 1: Import all necessary libraries "
   ]
  },
  {
   "cell_type": "code",
   "execution_count": 17,
   "metadata": {},
   "outputs": [],
   "source": [
    "import numpy as np\n",
    "import torch\n",
    "import torch.nn as nn\n",
    "import math\n",
    "import numpy as np\n",
    "import torch.nn.functional as F\n",
    "from torch.autograd import Variable\n",
    "import tqdm\n",
    "import torch.backends.cudnn as cudnn\n",
    "from torch.optim.lr_scheduler import ReduceLROnPlateau\n",
    "import matplotlib.pyplot as plt\n",
    "%matplotlib inline "
   ]
  },
  {
   "cell_type": "markdown",
   "metadata": {},
   "source": [
    "#### Step 2: We will load omniglot dataset, tranformed in .npy format using helper script.  "
   ]
  },
  {
   "cell_type": "code",
   "execution_count": 18,
   "metadata": {},
   "outputs": [],
   "source": [
    "x = np.load('data/data.npy') # Load Data\n",
    "x = np.reshape(x, newshape=(x.shape[0], x.shape[1], 28, 28, 1)) # Reshape data to compress it to 28X28 \n",
    "np.random.shuffle(x) # shuffle dataset\n",
    "x_train, x_val, x_test = x[:1200], x[1200:1411], x[1411:] # divide dataset in to train,val,test\n",
    "batch_size = 16 # setting batch_size\n",
    "n_classes = x.shape[0] # number of classes\n",
    "classes_per_set = 20 # number of classes per-set\n",
    "samples_per_class = 1 # as we are choosing it to be one shot learning, so we have 1 sample"
   ]
  },
  {
   "cell_type": "markdown",
   "metadata": {},
   "source": [
    "##### Preprocess Images: Here we have use normalization method. "
   ]
  },
  {
   "cell_type": "code",
   "execution_count": 19,
   "metadata": {},
   "outputs": [],
   "source": [
    "def processes_batch(data, mu, sigma):\n",
    "    return (data - mu) / sigma\n",
    "\n",
    "# Normalize Dataset\n",
    "x_train = processes_batch(x_train, np.mean(x_train), np.std(x_train))\n",
    "x_val = processes_batch(x_val, np.mean(x_val), np.std(x_val))\n",
    "x_test = processes_batch(x_test, np.mean(x_test), np.std(x_test))\n",
    "\n",
    "# Defining dictionary of dataset\n",
    "datatset = {\"train\": x_train, \"val\": x_val, \"test\": x_test}"
   ]
  },
  {
   "cell_type": "markdown",
   "metadata": {},
   "source": [
    "###### Step 3: Sample Batch Processing\n",
    "To Load Omniglot dataset, and prepare it for Matching Networks Architecture, we need to create:\n",
    "1. Label Set \n",
    "2. Support Set\n",
    "3. Batch from Suppport Set Examples\n",
    "\n",
    "Let's first create a batch which can give a support set, and a target."
   ]
  },
  {
   "cell_type": "code",
   "execution_count": 20,
   "metadata": {},
   "outputs": [],
   "source": [
    "def sample_batch(data):\n",
    "        \"\"\"\n",
    "        Collect 1000 batches data for N-shot learning\n",
    "        :param data_pack: one of(train,test,val) dataset shape[classes_num,20,28,28,1]\n",
    "        :return: A list with [support_set_x,support_set_y,target_x,target_y] ready to be fed to our networks\n",
    "        \"\"\"\n",
    "        support_set_x = np.zeros((batch_size, classes_per_set, samples_per_class, data.shape[2],\n",
    "                                  data.shape[3], data.shape[4]), np.float32)\n",
    "        support_set_y = np.zeros((batch_size, classes_per_set, samples_per_class), np.int32)\n",
    "        \n",
    "        target_x = np.zeros((batch_size, data.shape[2], data.shape[3], data.shape[4]), np.float32)\n",
    "        target_y = np.zeros((batch_size, 1), np.int32)\n",
    "        for i in range(batch_size):\n",
    "            classes_idx = np.arange(data.shape[0])\n",
    "            samples_idx = np.arange(data.shape[1])\n",
    "            choose_classes = np.random.choice(classes_idx, size=classes_per_set, replace=False) # choosing random classes\n",
    "            choose_label = np.random.choice(classes_per_set, size=1)\n",
    "            choose_samples = np.random.choice(samples_idx, size=samples_per_class + 1, replace=False)\n",
    "\n",
    "            x_temp = data[choose_classes] # choosing classes\n",
    "            x_temp = x_temp[:, choose_samples] # choosing sample batch from classes chosen outputs\n",
    "            y_temp = np.arange(classes_per_set) \n",
    "            support_set_x[i] = x_temp[:, :-1]\n",
    "            support_set_y[i] = np.expand_dims(y_temp[:], axis=1)\n",
    "            target_x[i] = x_temp[choose_label, -1]\n",
    "            target_y[i] = y_temp[choose_label]\n",
    "        return support_set_x, support_set_y, target_x, target_y\n",
    "    \n",
    "def _get_batch(dataset_name):\n",
    "        \"\"\"\n",
    "        Get next batch from the dataset with name.\n",
    "        :param dataset_name: The name of dataset(one of \"train\",\"val\",\"test\")\n",
    "        :param augment: if rotate the images\n",
    "        :return: a batch images\n",
    "        \"\"\"\n",
    "        support_set_x, support_set_y, target_x, target_y = sample_batch(datatset[dataset_name])\n",
    "        support_set_x = support_set_x.reshape((support_set_x.shape[0], support_set_x.shape[1] * support_set_x.shape[2],\n",
    "                                               support_set_x.shape[3], support_set_x.shape[4], support_set_x.shape[5]))\n",
    "        support_set_y = support_set_y.reshape(support_set_y.shape[0], support_set_y.shape[1] * support_set_y.shape[2])\n",
    "        return support_set_x, support_set_y, target_x, target_y\n",
    "    "
   ]
  },
  {
   "cell_type": "markdown",
   "metadata": {},
   "source": [
    "If you recall, Matching Networks architecture, you will remember that there are mainly 3 parts of network:\n",
    "1. Classifer\n",
    "2. Attention Model\n",
    "3. Distance Function\n",
    "\n",
    "so, In this section first we will create a classifier."
   ]
  },
  {
   "cell_type": "markdown",
   "metadata": {},
   "source": [
    "##### Step 4: Create a Classifier  "
   ]
  },
  {
   "cell_type": "code",
   "execution_count": 21,
   "metadata": {},
   "outputs": [],
   "source": [
    "def convLayer(in_channels, out_channels, keep_prob=0.0):\n",
    "    \"\"\"3*3 convolution with padding,ever time call it the output size become half\"\"\"\n",
    "    cnn_seq = nn.Sequential(\n",
    "        nn.Conv2d(in_channels, out_channels, 3, 1, 1),\n",
    "        nn.ReLU(True),\n",
    "        nn.BatchNorm2d(out_channels),\n",
    "        nn.MaxPool2d(kernel_size=2, stride=2),\n",
    "        nn.Dropout(keep_prob)\n",
    "    )\n",
    "    return cnn_seq\n",
    "\n",
    "class Classifier(nn.Module):\n",
    "    def __init__(self, layer_size=64, num_channels=1, keep_prob=1.0, image_size=28):\n",
    "        super(Classifier, self).__init__()\n",
    "        \"\"\"\n",
    "        Build a CNN to produce embeddings\n",
    "        :param layer_size:64(default)\n",
    "        :param num_channels:\n",
    "        :param keep_prob:\n",
    "        :param image_size:\n",
    "        \"\"\"\n",
    "        self.layer1 = convLayer(num_channels, layer_size, keep_prob)\n",
    "        self.layer2 = convLayer(layer_size, layer_size, keep_prob)\n",
    "        self.layer3 = convLayer(layer_size, layer_size, keep_prob)\n",
    "        self.layer4 = convLayer(layer_size, layer_size, keep_prob)\n",
    "\n",
    "        finalSize = int(math.floor(image_size / (2 * 2 * 2 * 2)))\n",
    "        self.outSize = finalSize * finalSize * layer_size\n",
    "\n",
    "    def forward(self, image_input):\n",
    "        \"\"\"\n",
    "        Use CNN defined above\n",
    "        :param image_input:\n",
    "        :return:\n",
    "        \"\"\"\n",
    "        x = self.layer1(image_input)\n",
    "        x = self.layer2(x)\n",
    "        x = self.layer3(x)\n",
    "        x = self.layer4(x)\n",
    "        x = x.view(x.size()[0], -1)\n",
    "        return x\n"
   ]
  },
  {
   "cell_type": "markdown",
   "metadata": {},
   "source": [
    "##### step 5: Create an Attention model after classifier."
   ]
  },
  {
   "cell_type": "code",
   "execution_count": 22,
   "metadata": {},
   "outputs": [],
   "source": [
    "class AttentionalClassify(nn.Module):\n",
    "    def __init__(self):\n",
    "        super(AttentionalClassify, self).__init__()\n",
    "\n",
    "    def forward(self, similarities, support_set_y):\n",
    "        \"\"\"\n",
    "        Products pdfs over the support set classes for the target set image.\n",
    "        :param similarities: A tensor with cosine similarites of size[batch_size,sequence_length]\n",
    "        :param support_set_y:[batch_size,sequence_length,classes_num]\n",
    "        :return: Softmax pdf shape[batch_size,classes_num]\n",
    "        \"\"\"\n",
    "        softmax = nn.Softmax(dim=1)\n",
    "        softmax_similarities = softmax(similarities)\n",
    "        preds = softmax_similarities.unsqueeze(1).bmm(support_set_y).squeeze()\n",
    "        return preds"
   ]
  },
  {
   "cell_type": "markdown",
   "metadata": {},
   "source": [
    "#### Step 6: Create a Distance Network, which will take output from Test Image, and training embeddings, to calculate the Distance."
   ]
  },
  {
   "cell_type": "code",
   "execution_count": 23,
   "metadata": {},
   "outputs": [],
   "source": [
    "class DistanceNetwork(nn.Module):\n",
    "    \"\"\"\n",
    "    This model calculates the cosine distance between each of the support set embeddings and the target image embeddings.\n",
    "    \"\"\"\n",
    "\n",
    "    def __init__(self):\n",
    "        super(DistanceNetwork, self).__init__()\n",
    "\n",
    "    def forward(self, support_set, input_image):\n",
    "        \"\"\"\n",
    "        forward implement\n",
    "        :param support_set:the embeddings of the support set images.shape[sequence_length,batch_size,64]\n",
    "        :param input_image: the embedding of the target image,shape[batch_size,64]\n",
    "        :return:shape[batch_size,sequence_length]\n",
    "        \"\"\"\n",
    "        eps = 1e-10\n",
    "        similarities = []\n",
    "        for support_image in support_set:\n",
    "            sum_support = torch.sum(torch.pow(support_image, 2), 1)\n",
    "            support_manitude = sum_support.clamp(eps, float(\"inf\")).rsqrt()\n",
    "            dot_product = input_image.unsqueeze(1).bmm(support_image.unsqueeze(2)).squeeze()\n",
    "            cosine_similarity = dot_product * support_manitude\n",
    "            similarities.append(cosine_similarity)\n",
    "        similarities = torch.stack(similarities)\n",
    "        return similarities.t()"
   ]
  },
  {
   "cell_type": "markdown",
   "metadata": {},
   "source": [
    "##### Step 7:  Create a Bi-directional LSTM, which is taking input and output from Test-image, and put them in same embeddings space.  "
   ]
  },
  {
   "cell_type": "code",
   "execution_count": 24,
   "metadata": {},
   "outputs": [],
   "source": [
    "class BidirectionalLSTM(nn.Module):\n",
    "    def __init__(self, layer_size, batch_size, vector_dim):\n",
    "        super(BidirectionalLSTM, self).__init__()\n",
    "        \"\"\"\n",
    "        Initial a muti-layer Bidirectional LSTM\n",
    "        :param layer_size: a list of each layer'size\n",
    "        :param batch_size: \n",
    "        :param vector_dim: \n",
    "        \"\"\"\n",
    "        self.batch_size = batch_size\n",
    "        self.hidden_size = layer_size[0]\n",
    "        self.vector_dim = vector_dim\n",
    "        self.num_layer = len(layer_size)\n",
    "        self.lstm = nn.LSTM(input_size=self.vector_dim, num_layers=self.num_layer, hidden_size=self.hidden_size,\n",
    "                            bidirectional=True)\n",
    "        self.hidden = (Variable(torch.zeros(self.lstm.num_layers * 2, self.batch_size, self.lstm.hidden_size),requires_grad=False),\n",
    "                Variable(torch.zeros(self.lstm.num_layers * 2, self.batch_size, self.lstm.hidden_size),requires_grad=False))\n",
    "\n",
    "    def repackage_hidden(self,h):\n",
    "        \"\"\"Wraps hidden states in new Variables, to detach them from their history.\"\"\"\n",
    "        if type(h) == torch.Tensor:\n",
    "            return Variable(h.data)\n",
    "        else:\n",
    "            return tuple(self.repackage_hidden(v) for v in h)\n",
    "        \n",
    "    def forward(self, inputs):\n",
    "        self.hidden = self.repackage_hidden(self.hidden)\n",
    "        output, self.hidden = self.lstm(inputs, self.hidden)\n",
    "        return output\n",
    "    "
   ]
  },
  {
   "cell_type": "markdown",
   "metadata": {},
   "source": [
    "##### Step 8: Let's club all small modules we made, and create a matching network. "
   ]
  },
  {
   "cell_type": "code",
   "execution_count": 25,
   "metadata": {},
   "outputs": [],
   "source": [
    "class MatchingNetwork(nn.Module):\n",
    "    def __init__(self, keep_prob, batch_size=32, num_channels=1, learning_rate=1e-3, fce=False, num_classes_per_set=20, \\\n",
    "                 num_samples_per_class=1, image_size=28):\n",
    "        \"\"\"\n",
    "        This is our main network\n",
    "        :param keep_prob: dropout rate\n",
    "        :param batch_size:\n",
    "        :param num_channels:\n",
    "        :param learning_rate:\n",
    "        :param fce: Flag indicating whether to use full context embeddings(i.e. apply an LSTM on the CNN embeddings)\n",
    "        :param num_classes_per_set:\n",
    "        :param num_samples_per_class:\n",
    "        :param image_size:\n",
    "        \"\"\"\n",
    "        super(MatchingNetwork, self).__init__()\n",
    "        self.batch_size = batch_size\n",
    "        self.keep_prob = keep_prob\n",
    "        self.num_channels = num_channels\n",
    "        self.learning_rate = learning_rate\n",
    "        self.fce = fce\n",
    "        self.num_classes_per_set = num_classes_per_set\n",
    "        self.num_samples_per_class = num_samples_per_class\n",
    "        self.image_size = image_size\n",
    "        self.g = Classifier(layer_size=64, num_channels=num_channels, keep_prob=keep_prob, image_size=image_size)\n",
    "        self.dn = DistanceNetwork()\n",
    "        self.classify = AttentionalClassify()\n",
    "        if self.fce:\n",
    "            self.lstm = BidirectionalLSTM(layer_size=[32], batch_size=self.batch_size, vector_dim=self.g.outSize)\n",
    "\n",
    "    def forward(self, support_set_images, support_set_y_one_hot, target_image, target_y):\n",
    "        \"\"\"\n",
    "        Main process of the network\n",
    "        :param support_set_images: shape[batch_size,sequence_length,num_channels,image_size,image_size]\n",
    "        :param support_set_y_one_hot: shape[batch_size,sequence_length,num_classes_per_set]\n",
    "        :param target_image: shape[batch_size,num_channels,image_size,image_size]\n",
    "        :param target_y:\n",
    "        :return:\n",
    "        \"\"\"\n",
    "        # produce embeddings for support set images\n",
    "        encoded_images = []\n",
    "        for i in np.arange(support_set_images.size(1)):\n",
    "            gen_encode = self.g(support_set_images[:, i, :, :])\n",
    "            encoded_images.append(gen_encode)\n",
    "        # produce embeddings for target images\n",
    "        gen_encode = self.g(target_image)\n",
    "        encoded_images.append(gen_encode)\n",
    "        output = torch.stack(encoded_images,dim=0)\n",
    "        # use fce?\n",
    "        if self.fce:\n",
    "            output = self.lstm(output)\n",
    "            \n",
    "        # get similarities between support set embeddings and target\n",
    "        similarites = self.dn(support_set=output[:-1], input_image=output[-1])\n",
    "        # produce predictions for target probabilities\n",
    "        preds = self.classify(similarites, support_set_y=support_set_y_one_hot)\n",
    "        # calculate the accuracy\n",
    "        values, indices = preds.max(1)\n",
    "        accuracy = torch.mean((indices.squeeze() == target_y).float())\n",
    "        crossentropy_loss = F.cross_entropy(preds, target_y.long())\n",
    "\n",
    "        return accuracy, crossentropy_loss"
   ]
  },
  {
   "cell_type": "markdown",
   "metadata": {},
   "source": [
    "#### Step 9: Create a Dataset Loader.\n",
    "For our case, as we are using Omniglot Dataset,it will create a Omnligloat builder which calls Matching Network, and run its epochs for training, testing, and validation purpose."
   ]
  },
  {
   "cell_type": "code",
   "execution_count": 26,
   "metadata": {},
   "outputs": [],
   "source": [
    "class OmniglotBuilder:\n",
    "    def build_experiment(self, batch_size, num_channels, lr, image_size, classes_per_set, samples_per_class, keep_prob,\n",
    "                         fce, optim, weight_decay):\n",
    "        \"\"\"\n",
    "\n",
    "        :param batch_size:\n",
    "        :param num_channels:\n",
    "        :param lr:\n",
    "        :param image_size:\n",
    "        :param classes_per_set:\n",
    "        :param samples_per_class:\n",
    "        :param keep_prob:\n",
    "        :param fce:\n",
    "        :param optim:\n",
    "        :param weight_decay:\n",
    "        :param use_cuda:\n",
    "        :return:\n",
    "        \"\"\"\n",
    "        self.classes_per_set = classes_per_set\n",
    "        self.sample_per_class = samples_per_class\n",
    "        self.keep_prob = keep_prob\n",
    "        self.batch_size = batch_size\n",
    "        self.lr = lr\n",
    "        self.image_size = image_size\n",
    "        self.optim = optim\n",
    "        self.wd = weight_decay\n",
    "        self.matchNet = MatchingNetwork(keep_prob, batch_size, num_channels, self.lr, fce, classes_per_set,\n",
    "                                        samples_per_class, image_size)\n",
    "        self.total_iter = 0\n",
    "        self.total_train_iter = 0\n",
    "        self.optimizer = torch.optim.Adam(self.matchNet.parameters(), lr=self.lr, weight_decay=self.wd)\n",
    "        self.scheduler = ReduceLROnPlateau(self.optimizer, 'min',verbose=True)\n",
    "\n",
    "    def run_epoch(self, total_train_batches, name='train'):\n",
    "        \"\"\"\n",
    "        Run the training epoch\n",
    "        :param total_train_batches: Number of batches to train on\n",
    "        :return:\n",
    "        \"\"\"\n",
    "        total_c_loss = 0.0\n",
    "        total_accuracy = 0.0\n",
    "        for i in range(total_train_batches):\n",
    "                x_support_set, y_support_set, x_target, y_target = _get_batch(name)\n",
    "                x_support_set = Variable(torch.from_numpy(x_support_set)).float()\n",
    "                y_support_set = Variable(torch.from_numpy(y_support_set), requires_grad=False).long()\n",
    "                x_target = Variable(torch.from_numpy(x_target)).float()\n",
    "                y_target = Variable(torch.from_numpy(y_target), requires_grad=False).squeeze().long()\n",
    "\n",
    "                # convert to one hot encoding\n",
    "                y_support_set = y_support_set.unsqueeze(2)\n",
    "                sequence_length = y_support_set.size()[1]\n",
    "                batch_size = y_support_set.size()[0]\n",
    "                y_support_set_one_hot = Variable(\n",
    "                    torch.zeros(batch_size, sequence_length, self.classes_per_set).scatter_(2,\n",
    "                                                                                            y_support_set.data,\n",
    "                                                                                            1), requires_grad=False)\n",
    "\n",
    "                # reshape channels and change order\n",
    "                size = x_support_set.size()\n",
    "                x_support_set = x_support_set.permute(0, 1, 4, 2, 3)\n",
    "                x_target = x_target.permute(0, 3, 1, 2)\n",
    "                acc, c_loss = self.matchNet(x_support_set, y_support_set_one_hot, x_target, y_target)\n",
    "\n",
    "                # optimize process\n",
    "                self.optimizer.zero_grad()\n",
    "                c_loss.backward()\n",
    "                self.optimizer.step()\n",
    "\n",
    "                iter_out = \"tr_loss: {}, tr_accuracy: {}\".format(c_loss, acc)\n",
    "                total_c_loss += c_loss\n",
    "                total_accuracy += acc\n",
    "\n",
    "        total_c_loss = total_c_loss / total_train_batches\n",
    "        total_accuracy = total_accuracy / total_train_batches\n",
    "        return total_c_loss, total_accuracy"
   ]
  },
  {
   "cell_type": "markdown",
   "metadata": {},
   "source": [
    "###### Set-up Experiments variables."
   ]
  },
  {
   "cell_type": "code",
   "execution_count": 27,
   "metadata": {},
   "outputs": [],
   "source": [
    "# Experiment setup\n",
    "batch_size = 20\n",
    "fce = True\n",
    "classes_per_set = 20\n",
    "samples_per_class = 1\n",
    "channels = 1\n",
    "# Training setup\n",
    "total_epochs = 50\n",
    "total_train_batches = 10\n",
    "total_val_batches = 5\n",
    "total_test_batches = 5\n",
    "best_val_acc = 0.0\n",
    "\n",
    "data = \"data\"\n",
    "\n",
    "obj_oneShotBuilder = OmniglotBuilder()\n",
    "obj_oneShotBuilder.build_experiment(batch_size=batch_size, num_channels=1, lr=1e-3, image_size=28, classes_per_set=20,\n",
    "                                    samples_per_class=1, keep_prob=0.0, fce=True, optim=\"adam\", weight_decay=0)"
   ]
  },
  {
   "cell_type": "markdown",
   "metadata": {},
   "source": [
    "##### Let's Run Experiments !!!!! "
   ]
  },
  {
   "cell_type": "code",
   "execution_count": 28,
   "metadata": {},
   "outputs": [
    {
     "name": "stdout",
     "output_type": "stream",
     "text": [
      "Epoch 0: train_loss:2.9868075847625732 train_accuracy:0.16499999165534973\n",
      "Epoch 0: val_loss:2.9722163677215576 val_accuracy:0.25\n",
      "Epoch 0: test_loss:2.9645564556121826 test_accuracy:0.25\n",
      "Epoch 1: train_loss:2.952923536300659 train_accuracy:0.22499999403953552\n",
      "Epoch 1: val_loss:2.9435997009277344 val_accuracy:0.27000001072883606\n",
      "Epoch 1: test_loss:2.943519115447998 test_accuracy:0.22999998927116394\n",
      "Epoch 2: train_loss:2.9349124431610107 train_accuracy:0.24000000953674316\n",
      "Epoch 2: val_loss:2.909743309020996 val_accuracy:0.3400000035762787\n",
      "Epoch 2: test_loss:2.8944079875946045 test_accuracy:0.3800000250339508\n",
      "Epoch 3: train_loss:2.905841827392578 train_accuracy:0.3449999988079071\n",
      "Epoch 3: val_loss:2.8860833644866943 val_accuracy:0.4000000059604645\n",
      "Epoch 3: test_loss:2.8745713233947754 test_accuracy:0.38999998569488525\n",
      "Epoch 4: train_loss:2.8526506423950195 train_accuracy:0.4350000023841858\n",
      "Epoch 4: val_loss:2.8537189960479736 val_accuracy:0.4000000059604645\n",
      "Epoch 5: train_loss:2.8363583087921143 train_accuracy:0.4650000035762787\n",
      "Epoch 5: val_loss:2.8315329551696777 val_accuracy:0.5600000023841858\n",
      "Epoch 5: test_loss:2.800920248031616 test_accuracy:0.5899999737739563\n",
      "Epoch 6: train_loss:2.828727960586548 train_accuracy:0.4500000476837158\n",
      "Epoch 6: val_loss:2.809347629547119 val_accuracy:0.5200000405311584\n",
      "Epoch 7: train_loss:2.808480739593506 train_accuracy:0.47999995946884155\n",
      "Epoch 7: val_loss:2.773059844970703 val_accuracy:0.550000011920929\n",
      "Epoch 8: train_loss:2.8052682876586914 train_accuracy:0.48000001907348633\n",
      "Epoch 8: val_loss:2.7538294792175293 val_accuracy:0.6499999761581421\n",
      "Epoch 8: test_loss:2.7730939388275146 test_accuracy:0.5299999713897705\n",
      "Epoch 9: train_loss:2.802110195159912 train_accuracy:0.5\n",
      "Epoch 9: val_loss:2.731168270111084 val_accuracy:0.6200000047683716\n",
      "Epoch 10: train_loss:2.772963047027588 train_accuracy:0.5800000429153442\n",
      "Epoch 10: val_loss:2.734729766845703 val_accuracy:0.6299999952316284\n",
      "Epoch 11: train_loss:2.7724268436431885 train_accuracy:0.5100000500679016\n",
      "Epoch 11: val_loss:2.7389636039733887 val_accuracy:0.6599999666213989\n",
      "Epoch 11: test_loss:2.7213778495788574 test_accuracy:0.6200000047683716\n",
      "Epoch 12: train_loss:2.7341415882110596 train_accuracy:0.6149999499320984\n",
      "Epoch 12: val_loss:2.710191249847412 val_accuracy:0.6100000143051147\n",
      "Epoch 13: train_loss:2.7429099082946777 train_accuracy:0.574999988079071\n",
      "Epoch 13: val_loss:2.7170746326446533 val_accuracy:0.6100000143051147\n",
      "Epoch 14: train_loss:2.7288365364074707 train_accuracy:0.5950000286102295\n",
      "Epoch 14: val_loss:2.688812732696533 val_accuracy:0.6799999475479126\n",
      "Epoch 14: test_loss:2.7245914936065674 test_accuracy:0.6499999761581421\n",
      "Epoch 15: train_loss:2.746523380279541 train_accuracy:0.5900000333786011\n",
      "Epoch 15: val_loss:2.7056362628936768 val_accuracy:0.64000004529953\n",
      "Epoch 16: train_loss:2.7146522998809814 train_accuracy:0.6650000214576721\n",
      "Epoch 16: val_loss:2.660130023956299 val_accuracy:0.7499999403953552\n",
      "Epoch 16: test_loss:2.699401617050171 test_accuracy:0.6399999856948853\n",
      "Epoch 17: train_loss:2.706810235977173 train_accuracy:0.6350000500679016\n",
      "Epoch 17: val_loss:2.6734580993652344 val_accuracy:0.7199999690055847\n",
      "Epoch 18: train_loss:2.70599627494812 train_accuracy:0.6200000047683716\n",
      "Epoch 18: val_loss:2.6661441326141357 val_accuracy:0.6699999570846558\n",
      "Epoch 19: train_loss:2.698688268661499 train_accuracy:0.6499999761581421\n",
      "Epoch 19: val_loss:2.682304859161377 val_accuracy:0.6800000071525574\n",
      "Epoch 20: train_loss:2.703535318374634 train_accuracy:0.6300000548362732\n",
      "Epoch 20: val_loss:2.7126753330230713 val_accuracy:0.6299999952316284\n",
      "Epoch 21: train_loss:2.6794607639312744 train_accuracy:0.6899999380111694\n",
      "Epoch 21: val_loss:2.6883344650268555 val_accuracy:0.5899999737739563\n",
      "Epoch 22: train_loss:2.6701576709747314 train_accuracy:0.699999988079071\n",
      "Epoch 22: val_loss:2.6341233253479004 val_accuracy:0.800000011920929\n",
      "Epoch 22: test_loss:2.6679928302764893 test_accuracy:0.6800000071525574\n",
      "Epoch 23: train_loss:2.688875675201416 train_accuracy:0.6699999570846558\n",
      "Epoch 23: val_loss:2.637622356414795 val_accuracy:0.7399999499320984\n",
      "Epoch 24: train_loss:2.665611743927002 train_accuracy:0.6949999928474426\n",
      "Epoch 24: val_loss:2.6211419105529785 val_accuracy:0.75\n",
      "Epoch 25: train_loss:2.6791014671325684 train_accuracy:0.6399999856948853\n",
      "Epoch 25: val_loss:2.6483242511749268 val_accuracy:0.7199999690055847\n",
      "Epoch 26: train_loss:2.676604747772217 train_accuracy:0.6600000262260437\n",
      "Epoch 26: val_loss:2.6898045539855957 val_accuracy:0.6299999952316284\n",
      "Epoch 27: train_loss:2.6768863201141357 train_accuracy:0.7099999785423279\n",
      "Epoch 27: val_loss:2.610912799835205 val_accuracy:0.7899999618530273\n",
      "Epoch 28: train_loss:2.639009952545166 train_accuracy:0.7600000500679016\n",
      "Epoch 28: val_loss:2.603940963745117 val_accuracy:0.7699999809265137\n",
      "Epoch 29: train_loss:2.6618869304656982 train_accuracy:0.6850000023841858\n",
      "Epoch 29: val_loss:2.6420280933380127 val_accuracy:0.7100000381469727\n",
      "Epoch 30: train_loss:2.647709608078003 train_accuracy:0.7150000333786011\n",
      "Epoch 30: val_loss:2.617429256439209 val_accuracy:0.7800000309944153\n",
      "Epoch 31: train_loss:2.664043426513672 train_accuracy:0.7050000429153442\n",
      "Epoch 31: val_loss:2.6148526668548584 val_accuracy:0.809999942779541\n",
      "Epoch 31: test_loss:2.644631862640381 test_accuracy:0.699999988079071\n",
      "Epoch 32: train_loss:2.6545143127441406 train_accuracy:0.675000011920929\n",
      "Epoch 32: val_loss:2.6290338039398193 val_accuracy:0.7599999904632568\n",
      "Epoch 33: train_loss:2.6729729175567627 train_accuracy:0.6599999666213989\n",
      "Epoch 33: val_loss:2.594217538833618 val_accuracy:0.8200000524520874\n",
      "Epoch 33: test_loss:2.704822540283203 test_accuracy:0.6100000143051147\n",
      "Epoch 34: train_loss:2.6642141342163086 train_accuracy:0.6650000810623169\n",
      "Epoch 34: val_loss:2.641376256942749 val_accuracy:0.7299999594688416\n",
      "Epoch 35: train_loss:2.64082670211792 train_accuracy:0.7249999642372131\n",
      "Epoch 35: val_loss:2.610727548599243 val_accuracy:0.7700000405311584\n",
      "Epoch 36: train_loss:2.6213717460632324 train_accuracy:0.7149999737739563\n",
      "Epoch 36: val_loss:2.6404786109924316 val_accuracy:0.6699999570846558\n",
      "Epoch 37: train_loss:2.635852098464966 train_accuracy:0.7250000238418579\n",
      "Epoch 37: val_loss:2.658878803253174 val_accuracy:0.6899999976158142\n",
      "Epoch 38: train_loss:2.646453857421875 train_accuracy:0.7099999785423279\n",
      "Epoch 38: val_loss:2.6435883045196533 val_accuracy:0.7400000095367432\n",
      "Epoch 39: train_loss:2.650939464569092 train_accuracy:0.675000011920929\n",
      "Epoch 39: val_loss:2.595961809158325 val_accuracy:0.75\n",
      "Epoch 40: train_loss:2.623621940612793 train_accuracy:0.7849999666213989\n",
      "Epoch 40: val_loss:2.5979645252227783 val_accuracy:0.7999999523162842\n",
      "Epoch 41: train_loss:2.6238856315612793 train_accuracy:0.7450000047683716\n",
      "Epoch 41: val_loss:2.567195177078247 val_accuracy:0.8100000619888306\n",
      "Epoch 42: train_loss:2.6225953102111816 train_accuracy:0.7250000238418579\n",
      "Epoch 42: val_loss:2.57542085647583 val_accuracy:0.8399999737739563\n",
      "Epoch 42: test_loss:2.5858638286590576 test_accuracy:0.7800000309944153\n",
      "Epoch 43: train_loss:2.6020846366882324 train_accuracy:0.7799999713897705\n",
      "Epoch 43: val_loss:2.565800905227661 val_accuracy:0.8400000333786011\n",
      "Epoch 43: test_loss:2.619448184967041 test_accuracy:0.7599999904632568\n",
      "Epoch 44: train_loss:2.607020854949951 train_accuracy:0.7800000905990601\n",
      "Epoch 44: val_loss:2.5704662799835205 val_accuracy:0.8500000238418579\n",
      "Epoch 44: test_loss:2.628345012664795 test_accuracy:0.7099999785423279\n",
      "Epoch 45: train_loss:2.6162610054016113 train_accuracy:0.7350000143051147\n",
      "Epoch 45: val_loss:2.569845676422119 val_accuracy:0.7900000214576721\n",
      "Epoch 46: train_loss:2.6298530101776123 train_accuracy:0.7100000381469727\n",
      "Epoch 46: val_loss:2.5406293869018555 val_accuracy:0.8399999737739563\n",
      "Epoch 47: train_loss:2.6164491176605225 train_accuracy:0.7400000095367432\n",
      "Epoch 47: val_loss:2.5645546913146973 val_accuracy:0.800000011920929\n",
      "Epoch 48: train_loss:2.5981898307800293 train_accuracy:0.7599999904632568\n",
      "Epoch 48: val_loss:2.5616602897644043 val_accuracy:0.8700000047683716\n",
      "Epoch 48: test_loss:2.627958297729492 test_accuracy:0.7199999690055847\n",
      "Epoch 49: train_loss:2.603457450866699 train_accuracy:0.7549999952316284\n",
      "Epoch 49: val_loss:2.5857272148132324 val_accuracy:0.7300000190734863\n"
     ]
    }
   ],
   "source": [
    "train_loss,train_accuracy=[],[]\n",
    "val_loss,val_accuracy=[],[]\n",
    "test_loss,test_accuracy=[],[]\n",
    "\n",
    "\n",
    "for e in range(total_epochs):\n",
    "    ############################### Training Step ##########################################\n",
    "    total_c_loss, total_accuracy = obj_oneShotBuilder.run_epoch(total_train_batches,'train')\n",
    "    train_loss.append(total_c_loss)\n",
    "    train_accuracy.append(total_accuracy)\n",
    "    print(\"Epoch {}: train_loss:{} train_accuracy:{}\".format(e, total_c_loss, total_accuracy))\n",
    "    \n",
    "    ################################# Validation Step #######################################\n",
    "    total_val_c_loss, total_val_accuracy = obj_oneShotBuilder.run_epoch(total_val_batches, 'val')\n",
    "    val_loss.append(total_val_c_loss)\n",
    "    val_accuracy.append(total_val_accuracy)\n",
    "    print(\"Epoch {}: val_loss:{} val_accuracy:{}\".format(e, total_val_c_loss, total_val_accuracy))\n",
    "    \n",
    "    ############################# Test Accuracy check ###########################################\n",
    "    if total_val_accuracy>best_val_acc:\n",
    "        best_val_acc = total_val_accuracy\n",
    "        total_test_c_loss, total_test_accuracy = obj_oneShotBuilder.run_epoch(total_test_batches,'test')\n",
    "        test_loss.append(total_test_c_loss)\n",
    "        test_accuracy.append(total_test_accuracy)\n",
    "        print(\"Epoch {}: test_loss:{} test_accuracy:{}\".format(e, total_test_c_loss, total_test_accuracy))"
   ]
  },
  {
   "cell_type": "markdown",
   "metadata": {},
   "source": [
    "#### Step 10: Let's visualize our results "
   ]
  },
  {
   "cell_type": "code",
   "execution_count": 29,
   "metadata": {},
   "outputs": [
    {
     "data": {
      "image/png": "[encoded data removed]",
      "text/plain": [
       "<Figure size 432x288 with 1 Axes>"
      ]
     },
     "metadata": {
      "needs_background": "light"
     },
     "output_type": "display_data"
    }
   ],
   "source": [
    "def plot_loss(train,val,name1=\"train_loss\",name2=\"val_loss\"):\n",
    "    plt.plot(train, label=name1)\n",
    "    plt.plot(val, label=name2)\n",
    "    plt.legend()\n",
    "\n",
    "plot_loss(train_loss,val_loss)"
   ]
  },
  {
   "cell_type": "code",
   "execution_count": 30,
   "metadata": {},
   "outputs": [
    {
     "data": {
      "image/png": "[encoded data removed]",
      "text/plain": [
       "<Figure size 432x288 with 1 Axes>"
      ]
     },
     "metadata": {
      "needs_background": "light"
     },
     "output_type": "display_data"
    }
   ],
   "source": [
    "plot_loss(train_accuracy,val_accuracy,\"train_accuracy\",\"val_accuracy\")"
   ]
  },
  {
   "cell_type": "code",
   "execution_count": 31,
   "metadata": {},
   "outputs": [
    {
     "data": {
      "image/png": "[encoded data removed]",
      "text/plain": [
       "<Figure size 432x288 with 1 Axes>"
      ]
     },
     "metadata": {
      "needs_background": "light"
     },
     "output_type": "display_data"
    }
   ],
   "source": [
    "plot_loss(val_accuracy,test_accuracy,\"val_accuracy\",\"test_accuracy\")"
   ]
  },
  {
   "cell_type": "code",
   "execution_count": 32,
   "metadata": {},
   "outputs": [
    {
     "data": {
      "image/png": "[encoded data removed]",
      "text/plain": [
       "<Figure size 432x288 with 1 Axes>"
      ]
     },
     "metadata": {
      "needs_background": "light"
     },
     "output_type": "display_data"
    }
   ],
   "source": [
    "plot_loss(val_loss,test_loss,\"val_loss\",\"test_loss\")"
   ]
  }
 ],
 "metadata": {
  "kernelspec": {
   "display_name": "Python 3",
   "language": "python",
   "name": "python3"
  },
  "language_info": {
   "codemirror_mode": {
    "name": "ipython",
    "version": 3
   },
   "file_extension": ".py",
   "mimetype": "text/x-python",
   "name": "python",
   "nbconvert_exporter": "python",
   "pygments_lexer": "ipython3",
   "version": "3.6.8"
  }
 },
 "nbformat": 4,
 "nbformat_minor": 2
}
