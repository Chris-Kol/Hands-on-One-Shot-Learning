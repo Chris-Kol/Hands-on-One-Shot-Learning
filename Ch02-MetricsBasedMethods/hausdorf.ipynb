{
 "cells": [
  {
   "cell_type": "code",
   "execution_count": 49,
   "metadata": {
    "collapsed": true
   },
   "outputs": [],
   "source": [
    "import os\n",
    "import numpy as np\n",
    "from scipy.ndimage import imread\n",
    "from scipy.spatial.distance import cdist"
   ]
  },
  {
   "cell_type": "code",
   "execution_count": 51,
   "metadata": {
    "collapsed": false
   },
   "outputs": [],
   "source": [
    "# Creating the Parameters\n",
    "nrun = 20  # Number of classification runs\n",
    "path_to_script_dir = os.path.dirname(os.path.realpath(__file__))\n",
    "path_to_all_runs = os.path.join(path_to_script_dir, \"data/hausdorf/all_runs\")\n",
    "fname_label = \"class_labels.txt\"  # Where class labels are stored for each run"
   ]
  },
  {
   "cell_type": "code",
   "execution_count": 52,
   "metadata": {
    "collapsed": true
   },
   "outputs": [],
   "source": [
    "def load_img_as_points(filename):\n",
    "    \"\"\"\n",
    "    Load image file and return coordinates of black pixels in the binary image\n",
    "\n",
    "     Input\n",
    "      filename : string, absolute path to image\n",
    "\n",
    "     Output:\n",
    "      D : [n x 2] rows are coordinates\n",
    "\n",
    "    \"\"\"\n",
    "    I = imread(filename, flatten=True)\n",
    "    # Convert to boolean array and invert the pixel values\n",
    "    I = ~np.array(I, dtype=np.bool)\n",
    "    # Create a new array of all the non-zero element coordinates\n",
    "    D = np.array(I.nonzero()).T\n",
    "    return D - D.mean(axis=0)"
   ]
  },
  {
   "cell_type": "code",
   "execution_count": 53,
   "metadata": {
    "collapsed": true
   },
   "outputs": [],
   "source": [
    "def modified_hausdorf_distance(itemA, itemB):\n",
    "    \"\"\"\n",
    "    Modified Hausdorff Distance\n",
    "\n",
    "     Input\n",
    "      itemA : [n x 2] coordinates of black pixels\n",
    "      itemB : [m x 2] coordinates of black pixels\n",
    "\n",
    "      M.-P. Dubuisson, A. K. Jain (1994). A modified hausdorff distance for object matching.\n",
    "      International Conference on Pattern Recognition, pp. 566-568.\n",
    "\n",
    "    \"\"\"\n",
    "    D = cdist(itemA, itemB)\n",
    "    mindist_A = D.min(axis=1)\n",
    "    mindist_B = D.min(axis=0)\n",
    "    mean_A = np.mean(mindist_A)\n",
    "    mean_B = np.mean(mindist_B)\n",
    "    return max(mean_A, mean_B)"
   ]
  },
  {
   "cell_type": "code",
   "execution_count": null,
   "metadata": {
    "collapsed": false,
    "scrolled": false
   },
   "outputs": [],
   "source": [
    "def classification_run(folder, f_load, f_cost, ftype=\"cost\"):\n",
    "    \"\"\"\n",
    "    The aim is to Compute error rate for one run of one-shot classification\n",
    "     Input\n",
    "      folder : contains images for a run of one-shot classification\n",
    "      f_load : itemA = f_load('file.png') should read in the image file and\n",
    "               process it\n",
    "      f_cost : f_cost(itemA,itemB) should compute similarity between two\n",
    "               images, using output of f_load\n",
    "     ftype  : 'cost' if small values from f_cost mean more similar,\n",
    "               or 'score' if large values are more similar\n",
    "    Output\n",
    "     perror : percent errors (0 to 100% error)\n",
    "    \"\"\"\n",
    "    assert ftype in {\"cost\", \"score\"}\n",
    "\n",
    "    with open(os.path.join(path_to_all_runs, folder, fname_label)) as f:\n",
    "        pairs = [line.split() for line in f.readlines()]\n",
    "    # Unzip the pairs into two sets of tuples\n",
    "    test_files, train_files = zip(*pairs)\n",
    "\n",
    "    answers_files = list(train_files)  # Copy the training file list\n",
    "    test_files = sorted(test_files)\n",
    "    train_files = sorted(train_files)\n",
    "    n_train = len(train_files)\n",
    "    n_test = len(test_files)\n",
    "\n",
    "    # Load the images (and, if needed, extract features)\n",
    "    train_items = [f_load(os.path.join(path_to_all_runs, f)) for f in train_files]\n",
    "    test_items = [f_load(os.path.join(path_to_all_runs, f)) for f in test_files]\n",
    "\n",
    "    # Compute cost matrix\n",
    "    costM = np.zeros((n_test, n_train))\n",
    "    for i, test_i in enumerate(test_items):\n",
    "        for j, train_j in enumerate(train_items):\n",
    "            costM[i, j] = f_cost(test_i, train_j)\n",
    "    if ftype == \"cost\":\n",
    "        y_hats = np.argmin(costM, axis=1)\n",
    "    elif ftype == \"score\":\n",
    "        y_hats = np.argmax(costM, axis=1)\n",
    "    else:\n",
    "        # This should never be reached due to the assert above\n",
    "        raise ValueError(\"Unexpected ftype: {}\".format(ftype))\n",
    "\n",
    "    # compute the error rate by counting the number of correct predictions\n",
    "    correct = len(\n",
    "        [\n",
    "            1\n",
    "            for y_hat, answer in zip(y_hats, answers_files)\n",
    "            if train_files[y_hat] == answer\n",
    "        ]\n",
    "    )\n",
    "    pcorrect = (correct / float(n_test))  # Python 2.x ensure float division\n",
    "    perror = (1.0 - pcorrect)\n",
    "    return perror * 100\n"
   ]
  },
  {
   "cell_type": "code",
   "execution_count": null,
   "metadata": {
    "collapsed": false
   },
   "outputs": [],
   "source": [
    "# Main function\n",
    "if __name__ == \"__main__\":\n",
    "    \"\"\"\n",
    "     Running this demo should lead to a result of 38.8% average error rate.\n",
    "\n",
    "       M.-P. Dubuisson, A. K. Jain (1994). A modified hausdorff distance for object matching.\n",
    "         International Conference on Pattern Recognition, pp. 566-568.\n",
    "\n",
    "     ** Models should be trained on images in 'images_background' directory to\n",
    "        avoid using images and alphabets used in the one-shot evaluation **\n",
    "\n",
    "    \"\"\"\n",
    "    print(\"One-shot classification demo with Modified Hausdorff Distance\")\n",
    "    perror = np.zeros(nrun)\n",
    "    for r in range(nrun):\n",
    "        perror[r] = classification_run(\n",
    "            \"run{:02d}\".format(r + 1),\n",
    "            load_img_as_points,\n",
    "            modified_hausdorf_distance,\n",
    "            \"cost\",\n",
    "        )\n",
    "        print(\" run {:02d} (error {:.1f}%)\".format(r, perror[r]))\n",
    "    total = np.mean(perror)\n",
    "print(\"Average error {:.1f}%\".format(total))"
   ]
  }
 ],
 "metadata": {
  "anaconda-cloud": {},
  "kernelspec": {
   "display_name": "Python [Root]",
   "language": "python",
   "name": "Python [Root]"
  },
  "language_info": {
   "codemirror_mode": {
    "name": "ipython",
    "version": 2
   },
   "file_extension": ".py",
   "mimetype": "text/x-python",
   "name": "python",
   "nbconvert_exporter": "python",
   "pygments_lexer": "ipython2",
   "version": "2.7.14"
  }
 },
 "nbformat": 4,
 "nbformat_minor": 0
}
