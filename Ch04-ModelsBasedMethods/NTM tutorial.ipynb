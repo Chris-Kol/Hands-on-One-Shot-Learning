{
 "cells": [
  {
   "cell_type": "markdown",
   "metadata": {},
   "source": [
    "# Neural Turing Machines: Tutorial\n"
   ]
  },
  {
   "cell_type": "markdown",
   "metadata": {},
   "source": [
    "#### Step 1: Import libraries "
   ]
  },
  {
   "cell_type": "code",
   "execution_count": 1,
   "metadata": {
    "collapsed": true
   },
   "outputs": [],
   "source": [
    "import torch\n",
    "from torch import nn\n",
    "import torch.nn.functional as F\n",
    "import numpy as np\n",
    "from time import time\n",
    "import torchvision.utils as vutils\n",
    "from torch.utils.data import Dataset\n",
    "from torch.utils.data import DataLoader"
   ]
  },
  {
   "cell_type": "markdown",
   "metadata": {},
   "source": [
    "### COPY task for NMTs.\n",
    "\n",
    "* We will perform copy task for NMTs. NMTs are powerful at performing algrothmic tasks which need to store and access information in memory and Copy task is perfect example of it. In this exercise how well NTM perfoems on Copy task.\n",
    "The task is as follows. \n",
    "    * The NTM model is shown a random k-dimenstional vector for T-time steps.\n",
    "    * The job of the network is output these T k-dimensional random vectors from zero-vectors at each time step."
   ]
  },
  {
   "cell_type": "markdown",
   "metadata": {},
   "source": [
    "### Controller\n",
    "\n",
    "* Controller is 2-layer feedforward network. We can have an LSTM controller as well, bue due to simplicity we  build 2-layer fully connected controller. \n",
    "\n",
    "* Xavier initialization is used for parameter initilaization."
   ]
  },
  {
   "cell_type": "code",
   "execution_count": 2,
   "metadata": {
    "collapsed": true
   },
   "outputs": [],
   "source": [
    "class FCController(nn.Module):\n",
    "    def __init__(self, n_input, n_out, n_hidden):\n",
    "        super(FCController, self).__init__()\n",
    "        print(\"--Initialize fully connected controller--\")\n",
    "        self.fc1 = nn.Linear(n_input, n_hidden)\n",
    "        self.fc2 = nn.Linear(n_hidden, n_out)\n",
    "        self.reset_parameters()\n",
    "\n",
    "    def reset_parameters(self):\n",
    "        # Initialize the linear layers\n",
    "        nn.init.xavier_uniform_(self.fc1.weight, gain=1.4)\n",
    "        nn.init.normal(self.fc1.bias, std=0.01)\n",
    "        nn.init.xavier_uniform_(self.fc2.weight, gain=1.4)\n",
    "        nn.init.normal(self.fc2.bias, std=0.01)\n",
    "\n",
    "    def forward(self, x, last_read):\n",
    "        x = torch.cat((x, last_read), dim=1)\n",
    "        x = F.sigmoid(self.fc1(x))\n",
    "        x = F.sigmoid(self.fc2(x))\n",
    "        return x"
   ]
  },
  {
   "cell_type": "markdown",
   "metadata": {},
   "source": [
    "### Memory\n",
    "\n",
    "* Memory M is a 2-D matrix, with M rows, and N columns\n",
    "* the function address() does the the memory addressing which is composed of four functions\n",
    "    * similarity\n",
    "    * interpolation\n",
    "    * shifting\n",
    "    * sharpening\n",
    "    \n",
    "* For both read and write operation, it needs w_last to produce weights for current step. So, we keep track of weight_vector at each time step and save it in w_last.\n",
    "* The function reset_memory() resets the memory for both read and write operations at start of new sequence (new input)"
   ]
  },
  {
   "cell_type": "code",
   "execution_count": 3,
   "metadata": {
    "collapsed": true
   },
   "outputs": [],
   "source": [
    "class Memory(nn.Module):\n",
    "    def __init__(self, M, N, controller_out):\n",
    "        super(Memory, self).__init__()\n",
    "\n",
    "        self.N = N\n",
    "        self.M = M\n",
    "        self.read_lengths = self.N + 1 + 1 + 3 + 1\n",
    "        self.write_lengths = self.N + 1 + 1 + 3 + 1 + self.N + self.N\n",
    "        self.w_last = []\n",
    "        self.reset_memory()\n",
    "\n",
    "    def get_weights(self):\n",
    "        return self.w_last\n",
    "\n",
    "    def reset_memory(self):\n",
    "        self.w_last = []\n",
    "        self.w_last.append(torch.zeros([1, self.M], dtype=torch.float32))\n",
    "\n",
    "    def address(self, k, beta, g, s, gamma, memory, w_last):\n",
    "        # Content focus\n",
    "        wc = self._similarity(k, beta, memory)\n",
    "        # Location focus\n",
    "        wg = self._interpolate(wc, g, w_last)\n",
    "        w_hat = self._shift(wg, s)\n",
    "        w = self._sharpen(w_hat, gamma)\n",
    "\n",
    "        return w\n",
    "\n",
    "    def _similarity(self, k, beta, memory):\n",
    "        w = F.cosine_similarity(memory, k, -1, 1e-16)\n",
    "        w = F.softmax(beta * w, dim=-1)\n",
    "        return w\n",
    "\n",
    "    def _interpolate(self, wc, g, w_last):\n",
    "        return g * wc + (1 - g) * w_last\n",
    "\n",
    "    def _shift(self, wg, s):\n",
    "        result = torch.zeros(wg.size())\n",
    "        result = _convolve(wg, s)\n",
    "        return result\n",
    "\n",
    "    def _sharpen(self, w_hat, gamma):\n",
    "        w = w_hat ** gamma\n",
    "        w = torch.div(w, torch.sum(w, dim=-1) + 1e-16)\n",
    "        return w"
   ]
  },
  {
   "cell_type": "markdown",
   "metadata": {},
   "source": [
    "### Read and Write operation\n",
    "* In the next two cells we define read and write heads which access memory and updates memory according to read and \n",
    "write operations we discuss in chapter above\n",
    "* Both read and write heads use fully connected layer to produce paremeters (k, beta, g, s, gamma) for content addressing. "
   ]
  },
  {
   "cell_type": "code",
   "execution_count": 4,
   "metadata": {
    "collapsed": true
   },
   "outputs": [],
   "source": [
    "class ReadHead(Memory):\n",
    "\n",
    "    def __init__(self, M, N, controller_out):\n",
    "        super(ReadHead, self).__init__(M, N, controller_out)\n",
    "\n",
    "        print(\"--Initialize Memory: ReadHead--\")\n",
    "        self.fc_read = nn.Linear(controller_out, self.read_lengths)\n",
    "        self.reset_parameters();\n",
    "\n",
    "    def reset_parameters(self):\n",
    "        # Initialize the linear layers\n",
    "        nn.init.xavier_uniform_(self.fc_read.weight, gain=1.4)\n",
    "        nn.init.normal(self.fc_read.bias, std=0.01)\n",
    "\n",
    "    def read(self, memory, w):\n",
    "        \"\"\"Read from memory.\"\"\"\n",
    "        return torch.matmul(w, memory)\n",
    "\n",
    "    def forward(self, x, memory):\n",
    "        param = self.fc_read(x)\n",
    "        k, beta, g, s, gamma = torch.split(param, [self.N, 1, 1, 3, 1], dim=1)\n",
    "\n",
    "        k = F.tanh(k)\n",
    "        beta = F.softplus(beta)\n",
    "        g = F.sigmoid(g)\n",
    "        s = F.softmax(s, dim=1)\n",
    "        gamma = 1 + F.softplus(gamma)\n",
    "\n",
    "        w = self.address(k, beta, g, s, gamma, memory, self.w_last[-1])\n",
    "        self.w_last.append(w)\n",
    "        mem = self.read(memory, w)\n",
    "        return mem, w\n"
   ]
  },
  {
   "cell_type": "code",
   "execution_count": 5,
   "metadata": {
    "collapsed": true
   },
   "outputs": [],
   "source": [
    "class WriteHead(Memory):\n",
    "\n",
    "    def __init__(self, M, N, controller_out):\n",
    "        super(WriteHead, self).__init__(M, N, controller_out)\n",
    "\n",
    "        print(\"--Initialize Memory: WriteHead--\")\n",
    "        self.fc_write = nn.Linear(controller_out, self.write_lengths)\n",
    "        self.reset_parameters()\n",
    "\n",
    "    def reset_parameters(self):\n",
    "        # Initialize the linear layers\n",
    "        nn.init.xavier_uniform_(self.fc_write.weight, gain=1.4)\n",
    "        nn.init.normal_(self.fc_write.bias, std=0.01)\n",
    "\n",
    "    def write(self, memory, w, e, a):\n",
    "        \"\"\"write to memory.\"\"\"\n",
    "        w = torch.squeeze(w)\n",
    "        e = torch.squeeze(e)\n",
    "        a = torch.squeeze(a)\n",
    "\n",
    "        erase = torch.ger(w, e)\n",
    "        add = torch.ger(w, a)\n",
    "\n",
    "        m_tilde = memory * (1 - erase)\n",
    "        memory_update = m_tilde + add\n",
    "\n",
    "        return memory_update\n",
    "\n",
    "    def forward(self, x, memory):\n",
    "        param = self.fc_write(x)\n",
    "\n",
    "        k, beta, g, s, gamma, a, e = torch.split(param, [self.N, 1, 1, 3, 1, self.N, self.N], dim=1)\n",
    "\n",
    "        k = F.tanh(k)\n",
    "        beta = F.softplus(beta)\n",
    "        g = F.sigmoid(g)\n",
    "        s = F.softmax(s, dim=-1)\n",
    "        gamma = 1 + F.softplus(gamma)\n",
    "        a = F.tanh(a)\n",
    "        e = F.sigmoid(e)\n",
    "\n",
    "        w = self.address(k, beta, g, s, gamma, memory, self.w_last[-1])\n",
    "        self.w_last.append(w)\n",
    "        mem = self.write(memory, w, e, a)\n",
    "        return mem, w\n"
   ]
  },
  {
   "cell_type": "markdown",
   "metadata": {},
   "source": [
    "### Convolve is needed in the shifting step of content addressing \n"
   ]
  },
  {
   "cell_type": "code",
   "execution_count": 6,
   "metadata": {
    "collapsed": true
   },
   "outputs": [],
   "source": [
    "def _convolve(w, s):\n",
    "    \"\"\"Circular convolution implementation.\"\"\"\n",
    "    b, d = s.shape\n",
    "    assert b == 1, 'does _convolve work for b != 1?'\n",
    "    assert d == 3\n",
    "    w = torch.squeeze(w)\n",
    "    t = torch.cat([w[-1:], w, w[:1]])\n",
    "    c = F.conv1d(t.view(1, 1, -1), s.view(1, 1, -1)).view(b, -1)\n",
    "    return c"
   ]
  },
  {
   "cell_type": "markdown",
   "metadata": {},
   "source": [
    "### Define the network here which includes:\n",
    "* fully connected controller\n",
    "* read and write heads\n",
    "* memory paramters\n",
    "* utility functions to operate on memory which is not trainable\n",
    "\n",
    "* In the forward function, X can be none. This is because in Copy task, training happens in two steps for one particular sequence\n",
    "    * In the first step, the network is shown k-dimensional input for t time steps. \n",
    "    * In the second step (prediction step), the network takes in k-dimensional zeros vector to produce predictions which performs copy of the input for each time step."
   ]
  },
  {
   "cell_type": "code",
   "execution_count": 7,
   "metadata": {
    "collapsed": true
   },
   "outputs": [],
   "source": [
    "class NTM(nn.Module):\n",
    "    def __init__(self, M, N, num_inputs, num_outputs, controller_out_dim, controller_hid_dim):\n",
    "        super(NTM, self).__init__()\n",
    "        self.num_inputs = num_inputs\n",
    "        self.num_outputs = num_outputs\n",
    "        self.M = M\n",
    "        self.N = N\n",
    "\n",
    "        self.memory = torch.zeros(self.M, self.N)\n",
    "        self.last_read = torch.zeros(1, self.N)\n",
    "\n",
    "        self.controller = FCController(self.num_inputs + self.N, controller_out_dim, controller_hid_dim)\n",
    "        self.read_head = ReadHead(self.M, self.N, controller_out_dim)\n",
    "        self.write_head = WriteHead(self.M, self.N, controller_out_dim)\n",
    "\n",
    "        self.fc_out = nn.Linear(self.num_inputs + N, self.num_outputs)\n",
    "        self.reset_parameters()\n",
    "\n",
    "    def forward(self, X=None):\n",
    "\n",
    "        if X is None:\n",
    "            X = torch.zeros(1, self.num_inputs)\n",
    "\n",
    "        controller_out = self.controller(X, self.last_read)\n",
    "        self._read_write(controller_out)\n",
    "\n",
    "        out = torch.cat((X, self.last_read), -1)\n",
    "        out = F.sigmoid(self.fc_out(out))\n",
    "\n",
    "        return out\n",
    "\n",
    "    def _read_write(self, controller_out):\n",
    "        # READ\n",
    "        read, w = self.read_head(controller_out, self.memory)\n",
    "        self.last_read = read\n",
    "\n",
    "        # WRITE\n",
    "        mem, w = self.write_head(controller_out, self.memory)\n",
    "        self.memory = mem\n",
    "\n",
    "    def initalize_state(self):\n",
    "        stdev = 1 / (np.sqrt(self.N + self.M))\n",
    "        self.memory = nn.init.uniform_((torch.Tensor(self.M, self.N)), -stdev, stdev)\n",
    "        self.last_read = F.tanh(torch.randn(1, self.N))\n",
    "\n",
    "        self.read_head.reset_memory()\n",
    "        self.write_head.reset_memory()\n",
    "\n",
    "    def reset_parameters(self):\n",
    "        # Initialize the linear layers\n",
    "        nn.init.xavier_uniform_(self.fc_out.weight, gain=1.4)\n",
    "        nn.init.normal_(self.fc_out.bias, std=0.5)\n",
    "\n",
    "    def get_memory_info(self):\n",
    "        return self.memory, self.read_head.get_weights(), self.write_head.get_weights()\n",
    "\n",
    "    def calculate_num_params(self):\n",
    "        \"\"\"Returns the total number of parameters.\"\"\"\n",
    "        num_params = 0\n",
    "        for p in self.parameters():\n",
    "            num_params += p.data.view(-1).size(0)\n",
    "        return num_params\n"
   ]
  },
  {
   "cell_type": "markdown",
   "metadata": {},
   "source": [
    "### Data generation for COPY task\n",
    "\n",
    "* A random sequence of vectors is preoduced which is to be copied by NTM model.\n",
    "* A special token is appened at beginning and end of each sequence which marks sequence boundaries."
   ]
  },
  {
   "cell_type": "code",
   "execution_count": 8,
   "metadata": {
    "collapsed": true
   },
   "outputs": [],
   "source": [
    "class BinaySeqDataset(Dataset):\n",
    "\n",
    "    def __init__(self, args):\n",
    "        self.seq_len = args['sequence_length']\n",
    "        self.seq_width = args['token_size']\n",
    "        self.dataset_dim = args['training_samples']\n",
    "\n",
    "    def _generate_seq(self):\n",
    "        seq = np.random.binomial(1, 0.5, (self.seq_len, self.seq_width))\n",
    "        seq = torch.from_numpy(seq)\n",
    "        # Add start and end token\n",
    "        inp = torch.zeros(self.seq_len + 2, self.seq_width)\n",
    "        inp[1:self.seq_len + 1, :self.seq_width] = seq.clone()\n",
    "        inp[0, 0] = 1.0\n",
    "        inp[self.seq_len + 1, self.seq_width - 1] = 1.0\n",
    "        outp = seq.data.clone()\n",
    "\n",
    "        return inp.float(), outp.float()\n",
    "\n",
    "    def __len__(self):\n",
    "        return self.dataset_dim\n",
    "\n",
    "    def __getitem__(self, idx):\n",
    "        inp, out = self._generate_seq()\n",
    "        return inp, out"
   ]
  },
  {
   "cell_type": "markdown",
   "metadata": {},
   "source": [
    "### Gradient clipping\n",
    "* Its generally a good idea to clip gradients so that the network is numerically stable."
   ]
  },
  {
   "cell_type": "code",
   "execution_count": 9,
   "metadata": {
    "collapsed": true
   },
   "outputs": [],
   "source": [
    "def clip_grads(net):\n",
    "    parameters = list(filter(lambda p: p.grad is not None, net.parameters()))\n",
    "    for p in parameters:\n",
    "        p.grad.data.clamp_(args['min_grad'], args['max_grad'])"
   ]
  },
  {
   "cell_type": "markdown",
   "metadata": {},
   "source": [
    "### Start training"
   ]
  },
  {
   "cell_type": "code",
   "execution_count": 10,
   "metadata": {},
   "outputs": [
    {
     "name": "stdout",
     "output_type": "stream",
     "text": [
      "--Initialize fully connected controller--\n",
      "--Initialize Memory: ReadHead--\n",
      "--Initialize Memory: WriteHead--\n",
      "--------- Number of parameters -----------\n",
      "338554\n",
      "--------- Start training -----------\n"
     ]
    },
    {
     "name": "stderr",
     "output_type": "stream",
     "text": [
      "/opt/anaconda3/envs/project09/lib/python3.6/site-packages/ipykernel_launcher.py:12: UserWarning: nn.init.normal is now deprecated in favor of nn.init.normal_.\n",
      "  if sys.path[0] == '':\n",
      "/opt/anaconda3/envs/project09/lib/python3.6/site-packages/ipykernel_launcher.py:14: UserWarning: nn.init.normal is now deprecated in favor of nn.init.normal_.\n",
      "  \n",
      "/opt/anaconda3/envs/project09/lib/python3.6/site-packages/ipykernel_launcher.py:13: UserWarning: nn.init.normal is now deprecated in favor of nn.init.normal_.\n",
      "  del sys.path[0]\n",
      "/opt/anaconda3/envs/project09/lib/python3.6/site-packages/torch/nn/functional.py:1340: UserWarning: nn.functional.tanh is deprecated. Use torch.tanh instead.\n",
      "  warnings.warn(\"nn.functional.tanh is deprecated. Use torch.tanh instead.\")\n",
      "/opt/anaconda3/envs/project09/lib/python3.6/site-packages/torch/nn/functional.py:1351: UserWarning: nn.functional.sigmoid is deprecated. Use torch.sigmoid instead.\n",
      "  warnings.warn(\"nn.functional.sigmoid is deprecated. Use torch.sigmoid instead.\")\n"
     ]
    },
    {
     "name": "stdout",
     "output_type": "stream",
     "text": [
      "Loss:  0.8613712787628174\n",
      "Loss:  0.7730068564414978\n",
      "Loss:  0.7334338426589966\n",
      "Loss:  0.7371690273284912\n",
      "Loss:  0.7513346076011658\n",
      "Loss:  0.7236287593841553\n",
      "Loss:  0.7226125597953796\n",
      "Loss:  0.7183470726013184\n",
      "Loss:  0.7161100506782532\n",
      "Loss:  0.7040868401527405\n",
      "Loss:  0.6976701617240906\n",
      "Loss:  0.6949153542518616\n",
      "Loss:  0.695955753326416\n",
      "Loss:  0.6930223703384399\n",
      "Loss:  0.6924289464950562\n",
      "Loss:  0.6922056674957275\n",
      "Loss:  0.6938855648040771\n",
      "Loss:  0.6932023167610168\n",
      "Loss:  0.6931266188621521\n",
      "Loss:  0.6931053996086121\n",
      "Loss:  0.6941561698913574\n",
      "Loss:  0.6926331520080566\n",
      "Loss:  0.6925436854362488\n",
      "Loss:  0.6925121545791626\n",
      "Loss:  0.6946836113929749\n",
      "Loss:  0.6917170286178589\n",
      "Loss:  0.691535234451294\n",
      "Loss:  0.69150310754776\n",
      "Loss:  0.6942601203918457\n",
      "Loss:  0.6921616792678833\n",
      "Loss:  0.692095160484314\n",
      "Loss:  0.6920585036277771\n",
      "Loss:  0.6939138174057007\n",
      "Loss:  0.6931183338165283\n",
      "Loss:  0.6930879950523376\n",
      "Loss:  0.6931377053260803\n",
      "Loss:  0.6949366927146912\n",
      "Loss:  0.6913498640060425\n",
      "Loss:  0.6911723613739014\n",
      "Loss:  0.6910999417304993\n",
      "Loss:  0.6951748132705688\n",
      "Loss:  0.6921749711036682\n",
      "Loss:  0.6920571327209473\n",
      "Loss:  0.6920225620269775\n",
      "Loss:  0.6944586634635925\n",
      "Loss:  0.6928342580795288\n",
      "Loss:  0.6925264596939087\n",
      "Loss:  0.6924596428871155\n",
      "Loss:  0.6952470541000366\n",
      "Loss:  0.693825900554657\n",
      "Loss:  0.6935328841209412\n",
      "Loss:  0.6934584975242615\n",
      "Loss:  0.6952102780342102\n",
      "Loss:  0.6945065855979919\n",
      "Loss:  0.6943904757499695\n",
      "Loss:  0.6944231986999512\n",
      "Loss:  0.6952616572380066\n",
      "Loss:  0.6947841644287109\n",
      "Loss:  0.6945429444313049\n",
      "Loss:  0.694412350654602\n",
      "Loss:  0.6922287344932556\n",
      "Loss:  0.6899158358573914\n",
      "Loss:  0.6897125840187073\n",
      "Loss:  0.6896302103996277\n",
      "Loss:  0.699667751789093\n",
      "Loss:  0.6945381760597229\n",
      "Loss:  0.6933422088623047\n",
      "Loss:  0.6927853226661682\n",
      "Loss:  0.6949144601821899\n",
      "Loss:  0.6928503513336182\n",
      "Loss:  0.6920802593231201\n",
      "Loss:  0.691659688949585\n",
      "Loss:  0.6949635148048401\n",
      "Loss:  0.6929904818534851\n",
      "Loss:  0.6927670836448669\n",
      "Loss:  0.6927090883255005\n",
      "Loss:  0.6938362717628479\n",
      "Loss:  0.6914752721786499\n",
      "Loss:  0.6908969879150391\n",
      "Loss:  0.6906582117080688\n",
      "Loss:  0.6944489479064941\n",
      "Loss:  0.6906150579452515\n",
      "Loss:  0.6902057528495789\n",
      "Loss:  0.6900902390480042\n",
      "Loss:  0.6949684023857117\n",
      "Loss:  0.6930940747261047\n",
      "Loss:  0.6928136944770813\n",
      "Loss:  0.6926726698875427\n",
      "Loss:  0.6943840980529785\n",
      "Loss:  0.6922584772109985\n",
      "Loss:  0.6921138763427734\n",
      "Loss:  0.6921603083610535\n",
      "Loss:  0.696614682674408\n",
      "Loss:  0.6930036544799805\n",
      "Loss:  0.6920089721679688\n",
      "Loss:  0.6916300654411316\n",
      "Loss:  0.6935776472091675\n",
      "Loss:  0.692864179611206\n",
      "Loss:  0.6927846670150757\n"
     ]
    }
   ],
   "source": [
    "\n",
    "args = {'sequence_length':300,'token_size':10,'memory_capacity':64,'memory_vector_size':128,'training_samples':99,\n",
    "        'controller_output_dim':256,'controller_hidden_dim':512,'learning_rate':1e-4,'min_grad':-10,'max_grad':10,\n",
    "       'logdir':'./','loadmodel':'','savemodel':'checkpoint.model'}\n",
    "# writer = SummaryWriter()\n",
    "dataset = BinaySeqDataset(args)\n",
    "dataloader = DataLoader(dataset, batch_size=1,\n",
    "                        shuffle=True, num_workers=4)\n",
    "\n",
    "model = NTM(M=args['memory_capacity'],\n",
    "            N=args['memory_vector_size'],\n",
    "            num_inputs=args['token_size'],\n",
    "            num_outputs=args['token_size'],\n",
    "            controller_out_dim=args['controller_output_dim'],\n",
    "            controller_hid_dim=args['controller_hidden_dim'],\n",
    "            )\n",
    "\n",
    "criterion = torch.nn.BCELoss()\n",
    "# Here we use RMSProp optimizer. We can use Adam too.\n",
    "optimizer = torch.optim.RMSprop(model.parameters(), lr=args['learning_rate'])\n",
    "\n",
    "print(\"--------- Number of parameters -----------\")\n",
    "print(model.calculate_num_params())\n",
    "print(\"--------- Start training -----------\")\n",
    "\n",
    "losses = []\n",
    "\n",
    "if args['loadmodel'] != '':\n",
    "    model.load_state_dict(torch.load(args['loadmodel']))\n",
    "\n",
    "for e, (X, Y) in enumerate(dataloader):\n",
    "    tmp = time()\n",
    "    model.initalize_state()\n",
    "    optimizer.zero_grad()\n",
    "\n",
    "    inp_seq_len = args['sequence_length'] + 2\n",
    "    out_seq_len = args['sequence_length']\n",
    "\n",
    "    X.requires_grad = True\n",
    "\n",
    "    # Input rete: sequenza\n",
    "    for t in range(0, inp_seq_len):\n",
    "        model(X[:, t])\n",
    "\n",
    "    # Input rete: null\n",
    "    y_pred = torch.zeros(Y.size())\n",
    "    for i in range(0, out_seq_len):\n",
    "        y_pred[:, i] = model()\n",
    "\n",
    "    loss = criterion(y_pred, Y)\n",
    "    loss.backward()\n",
    "    clip_grads(model)\n",
    "    optimizer.step()\n",
    "    losses += [loss.item()]\n",
    "    print(\"Loss: \", loss.item())\n",
    "\n",
    "    # Lets train the network for 3000 iterations. \n",
    "    if e == 3000:\n",
    "        break\n",
    "\n",
    "#         if e % 50 == 0:\n",
    "#             mean_loss = np.array(losses[-50:]).mean()\n",
    "#             print(\"Loss: \", loss.item())\n",
    "#             if e % 1000 == 0:\n",
    "#                 mem_pic, read_pic, write_pic = model.get_memory_info()\n",
    "#             losses = []\n"
   ]
  },
  {
   "cell_type": "markdown",
   "metadata": {},
   "source": [
    "### Plotting"
   ]
  },
  {
   "cell_type": "code",
   "execution_count": 11,
   "metadata": {
    "collapsed": true
   },
   "outputs": [],
   "source": [
    "%matplotlib inline\n",
    "\n",
    "import matplotlib.pyplot as plt"
   ]
  },
  {
   "cell_type": "code",
   "execution_count": 12,
   "metadata": {},
   "outputs": [],
   "source": [
    "def plot_signal(grid_image, fig_size=(500,100)):\n",
    "    plt.figure(figsize=fig_size)\n",
    "    plt.imshow(grid_image.data.permute(2, 1, 0))"
   ]
  },
  {
   "cell_type": "markdown",
   "metadata": {},
   "source": [
    "### Training loss\n"
   ]
  },
  {
   "cell_type": "code",
   "execution_count": 13,
   "metadata": {},
   "outputs": [
    {
     "data": {
      "image/png": "[encoded data removed]",
      "text/plain": [
       "<matplotlib.figure.Figure at 0x128d9b8d0>"
      ]
     },
     "metadata": {},
     "output_type": "display_data"
    }
   ],
   "source": [
    "plt.plot(losses)\n",
    "plt.show()"
   ]
  },
  {
   "cell_type": "markdown",
   "metadata": {},
   "source": [
    "### COPY signal\n",
    "* Here we create a random signal of 300 time steps and see how well the model copies this signal.\n"
   ]
  },
  {
   "cell_type": "code",
   "execution_count": 14,
   "metadata": {},
   "outputs": [
    {
     "name": "stderr",
     "output_type": "stream",
     "text": [
      "/opt/anaconda3/envs/project09/lib/python3.6/site-packages/torch/nn/functional.py:1340: UserWarning: nn.functional.tanh is deprecated. Use torch.tanh instead.\n",
      "  warnings.warn(\"nn.functional.tanh is deprecated. Use torch.tanh instead.\")\n",
      "/opt/anaconda3/envs/project09/lib/python3.6/site-packages/torch/nn/functional.py:1351: UserWarning: nn.functional.sigmoid is deprecated. Use torch.sigmoid instead.\n",
      "  warnings.warn(\"nn.functional.sigmoid is deprecated. Use torch.sigmoid instead.\")\n"
     ]
    }
   ],
   "source": [
    "X, Y = dataset._generate_seq()\n",
    "X = X.unsqueeze(0) # Add the batch dimension\n",
    "Y = Y.unsqueeze(0)\n",
    "\n",
    "model.initalize_state()\n",
    "\n",
    "for t in range(0, inp_seq_len):\n",
    "    model(X[:, t])\n",
    "\n",
    "y_pred = torch.zeros(Y.size())\n",
    "for i in range(0, out_seq_len):\n",
    "    y_pred[:, i] = model()"
   ]
  },
  {
   "cell_type": "code",
   "execution_count": 15,
   "metadata": {},
   "outputs": [
    {
     "data": {
      "text/plain": [
       "<matplotlib.image.AxesImage at 0x12aef68d0>"
      ]
     },
     "execution_count": 15,
     "metadata": {},
     "output_type": "execute_result"
    },
    {
     "data": {
      "image/png": "[encoded data removed]",
      "text/plain": [
       "<matplotlib.figure.Figure at 0x128dda7b8>"
      ]
     },
     "metadata": {},
     "output_type": "display_data"
    },
    {
     "data": {
      "image/png": "[encoded data removed]",
      "text/plain": [
       "<matplotlib.figure.Figure at 0x12ae3f320>"
      ]
     },
     "metadata": {},
     "output_type": "display_data"
    }
   ],
   "source": [
    "# Plot ground truth signal Y and signal y_pred predicted by model.\n",
    "# In Copy task these two signals should be very close. \n",
    "\n",
    "grid_img_truth = vutils.make_grid(Y, normalize=True, scale_each=True)\n",
    "grid_img_pred = vutils.make_grid(y_pred, normalize=True, scale_each=True)\n",
    "\n",
    "plt.figure(figsize=(200,200))\n",
    "plt.imshow(grid_img_truth.data.permute(2, 1, 0))\n",
    "\n",
    "plt.figure(figsize=(200,200))\n",
    "plt.imshow(grid_img_pred.data.permute(2, 1, 0))\n"
   ]
  },
  {
   "cell_type": "markdown",
   "metadata": {},
   "source": [
    "### Read, Write and Memory visualizations\n",
    "\n",
    "* We will see visualizations of read and write operations which will tell us where the read and write heads focus at each time step.\n"
   ]
  },
  {
   "cell_type": "code",
   "execution_count": 16,
   "metadata": {
    "collapsed": true
   },
   "outputs": [],
   "source": [
    "mem_pic, read_pic, write_pic = model.get_memory_info()"
   ]
  },
  {
   "cell_type": "code",
   "execution_count": 17,
   "metadata": {},
   "outputs": [],
   "source": [
    "grid_mem = vutils.make_grid(mem_pic, normalize=True, scale_each=True)\n",
    "grid_read = vutils.make_grid(read_pic, normalize=True, scale_each=True)\n",
    "grid_write = vutils.make_grid(write_pic, normalize=True, scale_each=True)"
   ]
  },
  {
   "cell_type": "code",
   "execution_count": 18,
   "metadata": {},
   "outputs": [
    {
     "data": {
      "text/plain": [
       "torch.Size([3, 300, 10])"
      ]
     },
     "execution_count": 18,
     "metadata": {},
     "output_type": "execute_result"
    }
   ],
   "source": [
    "grid_img_pred.shape"
   ]
  },
  {
   "cell_type": "code",
   "execution_count": 19,
   "metadata": {},
   "outputs": [
    {
     "ename": "TypeError",
     "evalue": "Invalid dimensions for image data",
     "output_type": "error",
     "traceback": [
      "\u001b[0;31m---------------------------------------------------------------------------\u001b[0m",
      "\u001b[0;31mTypeError\u001b[0m                                 Traceback (most recent call last)",
      "\u001b[0;32m<ipython-input-19-45ed59be4b31>\u001b[0m in \u001b[0;36m<module>\u001b[0;34m()\u001b[0m\n\u001b[0;32m----> 1\u001b[0;31m \u001b[0mplot_signal\u001b[0m\u001b[0;34m(\u001b[0m\u001b[0mgrid_read\u001b[0m\u001b[0;34m,\u001b[0m \u001b[0mfig_size\u001b[0m\u001b[0;34m=\u001b[0m\u001b[0;34m(\u001b[0m\u001b[0;36m10\u001b[0m\u001b[0;34m,\u001b[0m\u001b[0;36m6\u001b[0m\u001b[0;34m)\u001b[0m\u001b[0;34m)\u001b[0m\u001b[0;34m\u001b[0m\u001b[0m\n\u001b[0m",
      "\u001b[0;32m<ipython-input-12-4ae593228499>\u001b[0m in \u001b[0;36mplot_signal\u001b[0;34m(grid_image, fig_size)\u001b[0m\n\u001b[1;32m      1\u001b[0m \u001b[0;32mdef\u001b[0m \u001b[0mplot_signal\u001b[0m\u001b[0;34m(\u001b[0m\u001b[0mgrid_image\u001b[0m\u001b[0;34m,\u001b[0m \u001b[0mfig_size\u001b[0m\u001b[0;34m=\u001b[0m\u001b[0;34m(\u001b[0m\u001b[0;36m500\u001b[0m\u001b[0;34m,\u001b[0m\u001b[0;36m100\u001b[0m\u001b[0;34m)\u001b[0m\u001b[0;34m)\u001b[0m\u001b[0;34m:\u001b[0m\u001b[0;34m\u001b[0m\u001b[0m\n\u001b[1;32m      2\u001b[0m     \u001b[0mplt\u001b[0m\u001b[0;34m.\u001b[0m\u001b[0mfigure\u001b[0m\u001b[0;34m(\u001b[0m\u001b[0mfigsize\u001b[0m\u001b[0;34m=\u001b[0m\u001b[0mfig_size\u001b[0m\u001b[0;34m)\u001b[0m\u001b[0;34m\u001b[0m\u001b[0m\n\u001b[0;32m----> 3\u001b[0;31m     \u001b[0mplt\u001b[0m\u001b[0;34m.\u001b[0m\u001b[0mimshow\u001b[0m\u001b[0;34m(\u001b[0m\u001b[0mgrid_image\u001b[0m\u001b[0;34m.\u001b[0m\u001b[0mdata\u001b[0m\u001b[0;34m.\u001b[0m\u001b[0mpermute\u001b[0m\u001b[0;34m(\u001b[0m\u001b[0;36m2\u001b[0m\u001b[0;34m,\u001b[0m \u001b[0;36m1\u001b[0m\u001b[0;34m,\u001b[0m \u001b[0;36m0\u001b[0m\u001b[0;34m)\u001b[0m\u001b[0;34m)\u001b[0m\u001b[0;34m\u001b[0m\u001b[0m\n\u001b[0m",
      "\u001b[0;32m/opt/anaconda3/envs/project09/lib/python3.6/site-packages/matplotlib/pyplot.py\u001b[0m in \u001b[0;36mimshow\u001b[0;34m(X, cmap, norm, aspect, interpolation, alpha, vmin, vmax, origin, extent, shape, filternorm, filterrad, imlim, resample, url, hold, data, **kwargs)\u001b[0m\n\u001b[1;32m   3078\u001b[0m                         \u001b[0mfilternorm\u001b[0m\u001b[0;34m=\u001b[0m\u001b[0mfilternorm\u001b[0m\u001b[0;34m,\u001b[0m \u001b[0mfilterrad\u001b[0m\u001b[0;34m=\u001b[0m\u001b[0mfilterrad\u001b[0m\u001b[0;34m,\u001b[0m\u001b[0;34m\u001b[0m\u001b[0m\n\u001b[1;32m   3079\u001b[0m                         \u001b[0mimlim\u001b[0m\u001b[0;34m=\u001b[0m\u001b[0mimlim\u001b[0m\u001b[0;34m,\u001b[0m \u001b[0mresample\u001b[0m\u001b[0;34m=\u001b[0m\u001b[0mresample\u001b[0m\u001b[0;34m,\u001b[0m \u001b[0murl\u001b[0m\u001b[0;34m=\u001b[0m\u001b[0murl\u001b[0m\u001b[0;34m,\u001b[0m \u001b[0mdata\u001b[0m\u001b[0;34m=\u001b[0m\u001b[0mdata\u001b[0m\u001b[0;34m,\u001b[0m\u001b[0;34m\u001b[0m\u001b[0m\n\u001b[0;32m-> 3080\u001b[0;31m                         **kwargs)\n\u001b[0m\u001b[1;32m   3081\u001b[0m     \u001b[0;32mfinally\u001b[0m\u001b[0;34m:\u001b[0m\u001b[0;34m\u001b[0m\u001b[0m\n\u001b[1;32m   3082\u001b[0m         \u001b[0max\u001b[0m\u001b[0;34m.\u001b[0m\u001b[0m_hold\u001b[0m \u001b[0;34m=\u001b[0m \u001b[0mwashold\u001b[0m\u001b[0;34m\u001b[0m\u001b[0m\n",
      "\u001b[0;32m/opt/anaconda3/envs/project09/lib/python3.6/site-packages/matplotlib/__init__.py\u001b[0m in \u001b[0;36minner\u001b[0;34m(ax, *args, **kwargs)\u001b[0m\n\u001b[1;32m   1708\u001b[0m                     warnings.warn(msg % (label_namer, func.__name__),\n\u001b[1;32m   1709\u001b[0m                                   RuntimeWarning, stacklevel=2)\n\u001b[0;32m-> 1710\u001b[0;31m             \u001b[0;32mreturn\u001b[0m \u001b[0mfunc\u001b[0m\u001b[0;34m(\u001b[0m\u001b[0max\u001b[0m\u001b[0;34m,\u001b[0m \u001b[0;34m*\u001b[0m\u001b[0margs\u001b[0m\u001b[0;34m,\u001b[0m \u001b[0;34m**\u001b[0m\u001b[0mkwargs\u001b[0m\u001b[0;34m)\u001b[0m\u001b[0;34m\u001b[0m\u001b[0m\n\u001b[0m\u001b[1;32m   1711\u001b[0m         \u001b[0mpre_doc\u001b[0m \u001b[0;34m=\u001b[0m \u001b[0minner\u001b[0m\u001b[0;34m.\u001b[0m\u001b[0m__doc__\u001b[0m\u001b[0;34m\u001b[0m\u001b[0m\n\u001b[1;32m   1712\u001b[0m         \u001b[0;32mif\u001b[0m \u001b[0mpre_doc\u001b[0m \u001b[0;32mis\u001b[0m \u001b[0;32mNone\u001b[0m\u001b[0;34m:\u001b[0m\u001b[0;34m\u001b[0m\u001b[0m\n",
      "\u001b[0;32m/opt/anaconda3/envs/project09/lib/python3.6/site-packages/matplotlib/axes/_axes.py\u001b[0m in \u001b[0;36mimshow\u001b[0;34m(self, X, cmap, norm, aspect, interpolation, alpha, vmin, vmax, origin, extent, shape, filternorm, filterrad, imlim, resample, url, **kwargs)\u001b[0m\n\u001b[1;32m   5192\u001b[0m                               resample=resample, **kwargs)\n\u001b[1;32m   5193\u001b[0m \u001b[0;34m\u001b[0m\u001b[0m\n\u001b[0;32m-> 5194\u001b[0;31m         \u001b[0mim\u001b[0m\u001b[0;34m.\u001b[0m\u001b[0mset_data\u001b[0m\u001b[0;34m(\u001b[0m\u001b[0mX\u001b[0m\u001b[0;34m)\u001b[0m\u001b[0;34m\u001b[0m\u001b[0m\n\u001b[0m\u001b[1;32m   5195\u001b[0m         \u001b[0mim\u001b[0m\u001b[0;34m.\u001b[0m\u001b[0mset_alpha\u001b[0m\u001b[0;34m(\u001b[0m\u001b[0malpha\u001b[0m\u001b[0;34m)\u001b[0m\u001b[0;34m\u001b[0m\u001b[0m\n\u001b[1;32m   5196\u001b[0m         \u001b[0;32mif\u001b[0m \u001b[0mim\u001b[0m\u001b[0;34m.\u001b[0m\u001b[0mget_clip_path\u001b[0m\u001b[0;34m(\u001b[0m\u001b[0;34m)\u001b[0m \u001b[0;32mis\u001b[0m \u001b[0;32mNone\u001b[0m\u001b[0;34m:\u001b[0m\u001b[0;34m\u001b[0m\u001b[0m\n",
      "\u001b[0;32m/opt/anaconda3/envs/project09/lib/python3.6/site-packages/matplotlib/image.py\u001b[0m in \u001b[0;36mset_data\u001b[0;34m(self, A)\u001b[0m\n\u001b[1;32m    602\u001b[0m         if not (self._A.ndim == 2\n\u001b[1;32m    603\u001b[0m                 or self._A.ndim == 3 and self._A.shape[-1] in [3, 4]):\n\u001b[0;32m--> 604\u001b[0;31m             \u001b[0;32mraise\u001b[0m \u001b[0mTypeError\u001b[0m\u001b[0;34m(\u001b[0m\u001b[0;34m\"Invalid dimensions for image data\"\u001b[0m\u001b[0;34m)\u001b[0m\u001b[0;34m\u001b[0m\u001b[0m\n\u001b[0m\u001b[1;32m    605\u001b[0m \u001b[0;34m\u001b[0m\u001b[0m\n\u001b[1;32m    606\u001b[0m         \u001b[0mself\u001b[0m\u001b[0;34m.\u001b[0m\u001b[0m_imcache\u001b[0m \u001b[0;34m=\u001b[0m \u001b[0;32mNone\u001b[0m\u001b[0;34m\u001b[0m\u001b[0m\n",
      "\u001b[0;31mTypeError\u001b[0m: Invalid dimensions for image data"
     ]
    },
    {
     "data": {
      "image/png": "[encoded data removed]",
      "text/plain": [
       "<matplotlib.figure.Figure at 0x128e19a58>"
      ]
     },
     "metadata": {},
     "output_type": "display_data"
    }
   ],
   "source": [
    "plot_signal(grid_read, fig_size=(10,6))"
   ]
  },
  {
   "cell_type": "code",
   "execution_count": 20,
   "metadata": {},
   "outputs": [
    {
     "data": {
      "text/plain": [
       "torch.Size([1, 64])"
      ]
     },
     "execution_count": 20,
     "metadata": {},
     "output_type": "execute_result"
    }
   ],
   "source": [
    "read_pic[0].shape"
   ]
  },
  {
   "cell_type": "code",
   "execution_count": 21,
   "metadata": {},
   "outputs": [
    {
     "data": {
      "text/plain": [
       "torch.Size([1, 302, 10])"
      ]
     },
     "execution_count": 21,
     "metadata": {},
     "output_type": "execute_result"
    }
   ],
   "source": [
    "X.shape"
   ]
  }
 ],
 "metadata": {
  "anaconda-cloud": {},
  "kernelspec": {
   "display_name": "Python 3",
   "language": "python",
   "name": "python3"
  },
  "language_info": {
   "codemirror_mode": {
    "name": "ipython",
    "version": 3
   },
   "file_extension": ".py",
   "mimetype": "text/x-python",
   "name": "python",
   "nbconvert_exporter": "python",
   "pygments_lexer": "ipython3",
   "version": "3.6.3"
  }
 },
 "nbformat": 4,
 "nbformat_minor": 1
}
