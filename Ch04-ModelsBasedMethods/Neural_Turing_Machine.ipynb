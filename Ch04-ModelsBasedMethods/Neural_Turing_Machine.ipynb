{
 "cells": [
  {
   "cell_type": "markdown",
   "metadata": {},
   "source": [
    "# Neural Turing Machines: Tutorial\n",
    "\n",
    "When Neural Networks started showing some marvellous results, two arguments came into picture to showcase their inefficieny.\n",
    "1. Neural networks with fixed-size inputs are seemingly unable to solve problems with variable-size inputs.\n",
    "2. Neural networks seem unable to store values to specific locations in data structures/memory.\n",
    "\n",
    "First problem got resolved with the introduction of RNN(Recurrent Neural Networks), Whereas second problem's solution of using neural network with memory was proposed by a system called Neural Turing Machine \n",
    "\n",
    "\n",
    "As discussed above, A NTM is composed of two important things: a neural network, also known as controller, and a 2D matrix called memory. In this tutorial we will implement a simplistic version of both, and try to showcase copy task."
   ]
  },
  {
   "cell_type": "markdown",
   "metadata": {},
   "source": [
    "<img src=\"ntm_architecture.png\" width=\"500\"/>\n",
    "NTM Architecture\n",
    "<img src=\"NTM.png\" width=\"800\"/>\n",
    "Controller and Memory connection"
   ]
  },
  {
   "cell_type": "markdown",
   "metadata": {},
   "source": [
    "### COPY task for NMTs.\n",
    "\n",
    "We will perform copy task for NMTs. NMTs are powerful at performing algrothmic tasks which need to store and access information in memory and Copy task is perfect example of it. In this exercise how well NTM perfoems on Copy task.\n",
    "\n",
    "The task is as follows:\n",
    "* The NTM model is shown a random k-dimenstional vector for T-time steps.\n",
    "* The job of the network is output these T k-dimensional random vectors from zero-vectors at each time step."
   ]
  },
  {
   "cell_type": "markdown",
   "metadata": {},
   "source": [
    "#### Step 1: Import libraries "
   ]
  },
  {
   "cell_type": "code",
   "execution_count": 1,
   "metadata": {
    "collapsed": true
   },
   "outputs": [],
   "source": [
    "import torch\n",
    "from torch import nn\n",
    "import torch.nn.functional as F\n",
    "import numpy as np\n",
    "from time import time\n",
    "import torchvision.utils as vutils\n",
    "from torch.utils.data import Dataset\n",
    "from torch.utils.data import DataLoader\n",
    "import matplotlib.pyplot as plt\n",
    "%matplotlib inline"
   ]
  },
  {
   "cell_type": "markdown",
   "metadata": {},
   "source": [
    "#### Step 2: Implement Controller\n",
    "As part of the controller, we will be implementing the following three components:\n",
    "\n",
    "* A two-layer feedforward network. \n",
    "* Weight initialization using Xavier Approach.\n",
    "* Sigmoid non-linearity\n",
    "\n",
    "Note: We can have an LSTM controller as well, bue due to simplicity we build 2-layer fully connected controller. "
   ]
  },
  {
   "cell_type": "code",
   "execution_count": 2,
   "metadata": {
    "collapsed": true
   },
   "outputs": [],
   "source": [
    "class Controller(nn.Module):\n",
    "    def __init__(self, input_size, output_size, hidden_size):\n",
    "        super(Controller, self).__init__()\n",
    "        self.layer1 = nn.Linear(input_size, hidden_size)\n",
    "        self.layer2 = nn.Linear(hidden_size, output_size)\n",
    "        self.intialize_parameters()\n",
    "\n",
    "    def intialize_parameters(self):\n",
    "        # Initialize the weights of linear layers\n",
    "        nn.init.xavier_uniform_(self.layer1.weight, gain=1) # gain is set to 1 with sigmoid function\n",
    "        nn.init.normal_(self.layer1.bias, std=0.01)\n",
    "        nn.init.xavier_uniform_(self.layer2.weight, gain=1)\n",
    "        nn.init.normal_(self.layer2.bias, std=0.01)\n",
    "\n",
    "    def forward(self, x, last_read):\n",
    "        # Forward pass operation, depending on last_read operation\n",
    "        x = torch.cat((x, last_read), dim=1)\n",
    "        x = torch.sigmoid(self.layer1(x))\n",
    "        x = torch.sigmoid(self.layer2(x))\n",
    "        return x"
   ]
  },
  {
   "cell_type": "markdown",
   "metadata": {},
   "source": [
    "#### Step 3: Implement Memory\n",
    "\n",
    "* Memory M is a 2-D matrix, with M rows, and N columns\n",
    "* the function address() does the the memory addressing which is composed of four functions\n",
    "    * similarity\n",
    "    * interpolation\n",
    "    * shifting\n",
    "    * sharpening\n",
    "    \n",
    "<img src=\"ntm_equation.png\" width=\"500\"/>\n",
    "Equations"
   ]
  },
  {
   "cell_type": "code",
   "execution_count": 3,
   "metadata": {
    "collapsed": true
   },
   "outputs": [],
   "source": [
    "class Memory(nn.Module):\n",
    "    def __init__(self, M, N, controller_out):\n",
    "        super(Memory, self).__init__()\n",
    "        self.N = N\n",
    "        self.M = M\n",
    "        self.read_lengths = self.N + 1 + 1 + 3 + 1\n",
    "        self.write_lengths = self.N + 1 + 1 + 3 + 1 + self.N + self.N\n",
    "        self.w_last = [] # define to keep track of weight_vector at each time step.\n",
    "        self.reset_memory()\n",
    "\n",
    "    def get_weights(self):\n",
    "        return self.w_last\n",
    "\n",
    "    def reset_memory(self):\n",
    "        # resets the memory for both read and write operations at start of new sequence (new input)\n",
    "        self.w_last = []\n",
    "        self.w_last.append(torch.zeros([1, self.M], dtype=torch.float32))\n",
    "\n",
    "    def address(self, k, beta, g, s, gamma, memory, w_last):\n",
    "        # Content focus\n",
    "        wc = self._similarity(k, beta, memory) # CB1 to CB3 equations\n",
    "        # Location focus\n",
    "        wg = self._interpolate(wc, g, w_last) # CS1 equation\n",
    "        w_hat = self._shift(wg, s) # CS2 and CS3 equation\n",
    "        w = self._sharpen(w_hat, gamma) # S1 equation\n",
    "        return w\n",
    "\n",
    "    \n",
    "    # Implementing Similarity on basis of CB1 followed by CB2 and CB3 Equation\n",
    "    def _similarity(self, k, beta, memory):\n",
    "        w = F.cosine_similarity(memory, k, -1, 1e-16) # CB1 Equation\n",
    "        w = F.softmax(beta * w, dim=-1) # CB2 and CB3 Equation\n",
    "        return w # return CB3 equation obtained weights\n",
    "    \n",
    "    # Implementing CS1 Equation. It decides whether to use the weights we obtained\n",
    "    # at the previous time step w_last or use the weight obtained through similarity(content focus)\n",
    "    def _interpolate(self, wc, g, w_last):\n",
    "        return g * wc + (1 - g) * w_last\n",
    "    \n",
    "    # We will use Convolve shift for moving the head position.Each head gives shift weight s, \n",
    "    # to give us a distribution over which allowable integer shifts are performed.\n",
    "    def _shift(self, wg, s):\n",
    "        result = torch.zeros(wg.size())\n",
    "        result = self._convolve(wg, s)\n",
    "        return result\n",
    "    \n",
    "    #  because of the shift, weights focused at a single location will be dispersed into other locations, \n",
    "    # to mitigate this effect, sharpening was performed\n",
    "    def _sharpen(self, w_hat, gamma):\n",
    "        w = w_hat ** gamma\n",
    "        w = torch.div(w, torch.sum(w, dim=-1) + 1e-16)\n",
    "        return w\n",
    "    \n",
    "    # convolution shift\n",
    "    def _convolve(self, w, s):\n",
    "        b, d = s.shape\n",
    "        assert b == 1, 'does _convolve work for b != 1?'\n",
    "        assert d == 3\n",
    "        w = torch.squeeze(w)\n",
    "        t = torch.cat([w[-1:], w, w[:1]])\n",
    "        c = F.conv1d(t.view(1, 1, -1), s.view(1, 1, -1)).view(b, -1)\n",
    "        return c"
   ]
  },
  {
   "cell_type": "markdown",
   "metadata": {},
   "source": [
    "#### Step 4: Implementing Read Operation\n",
    "Here, We will define read heads which access memory and updates memory according to read operations we discuss in chapter above.\n",
    "\n",
    "<img src=\"read_write_NTM.png\" width=\"500\"/>\n",
    "Read and Write Equations"
   ]
  },
  {
   "cell_type": "code",
   "execution_count": 4,
   "metadata": {
    "collapsed": true
   },
   "outputs": [],
   "source": [
    "class ReadHead(Memory):\n",
    "\n",
    "    def __init__(self, M, N, controller_out):\n",
    "        super(ReadHead, self).__init__(M, N, controller_out)\n",
    "        self.fc_read = nn.Linear(controller_out, self.read_lengths)\n",
    "        self.intialize_parameters();\n",
    "    \n",
    "    # Initialize the linear layers\n",
    "    def intialize_parameters(self):\n",
    "        nn.init.xavier_uniform_(self.fc_read.weight, gain=1.4)\n",
    "        nn.init.normal_(self.fc_read.bias, std=0.01)\n",
    "    \n",
    "    # Reading based on R2 equation\n",
    "    def read(self, memory, w):\n",
    "        return torch.matmul(w, memory)\n",
    "    \n",
    "    # Use Memory class we formed above to create a ReadHead operation\n",
    "    def forward(self, x, memory):\n",
    "        param = self.fc_read(x) # gather parameters\n",
    "        # initialize necessary parameters k, beta, g, shift, and gamma\n",
    "        k, beta, g, s, gamma = torch.split(param, [self.N, 1, 1, 3, 1], dim=1)\n",
    "        k = torch.tanh(k)\n",
    "        beta = F.softplus(beta)\n",
    "        g = torch.sigmoid(g)\n",
    "        s = F.softmax(s, dim=1)\n",
    "        gamma = 1 + F.softplus(gamma) \n",
    "        # obtain current weight address vectors from Memory\n",
    "        w = self.address(k, beta, g, s, gamma, memory, self.w_last[-1])\n",
    "        # append in w_last function to keep track, while weighing content based\n",
    "        # or location based weights\n",
    "        self.w_last.append(w)\n",
    "        # obtain current mem location based on R2 equation\n",
    "        mem = self.read(memory, w)\n",
    "        return mem, w\n"
   ]
  },
  {
   "cell_type": "markdown",
   "metadata": {},
   "source": [
    "##### Step 5: Implement Write Operation\n",
    "Similar to Read Operation, here we will implement write operation.\n",
    "\n",
    "Note: Both read and write heads use fully connected layer to produce paremeters (k, beta, g, s, gamma) for content addressing. "
   ]
  },
  {
   "cell_type": "code",
   "execution_count": 5,
   "metadata": {
    "collapsed": true
   },
   "outputs": [],
   "source": [
    "class WriteHead(Memory):\n",
    "\n",
    "    def __init__(self, M, N, controller_out):\n",
    "        super(WriteHead, self).__init__(M, N, controller_out)\n",
    "        self.fc_write = nn.Linear(controller_out, self.write_lengths)\n",
    "        self.intialize_parameters()\n",
    "\n",
    "    def intialize_parameters(self):\n",
    "        # Initialize the linear layers\n",
    "        nn.init.xavier_uniform_(self.fc_write.weight, gain=1.4)\n",
    "        nn.init.normal_(self.fc_write.bias, std=0.01)\n",
    "\n",
    "    def write(self, memory, w, e, a):\n",
    "        # Implement write function based on E1 and A1 Equation\n",
    "        w, e, a = torch.squeeze(w), torch.squeeze(e), torch.squeeze(a)\n",
    "        \n",
    "        erase = torch.ger(w, e)\n",
    "        m_tilde = memory * (1 - erase) # E1 equation\n",
    "        \n",
    "        add = torch.ger(w, a)\n",
    "        memory_update = m_tilde + add # A1 equation\n",
    "\n",
    "        return memory_update\n",
    "\n",
    "    def forward(self, x, memory):\n",
    "        param = self.fc_write(x) # gather parameters\n",
    "        # initialize necessary parameters k, beta, g, shift, and gamma\n",
    "        k, beta, g, s, gamma, a, e = torch.split(param, [self.N, 1, 1, 3, 1, self.N, self.N], dim=1)\n",
    "        k = torch.tanh(k)\n",
    "        beta = F.softplus(beta)\n",
    "        g = torch.sigmoid(g)\n",
    "        s = F.softmax(s, dim=-1)\n",
    "        gamma = 1 + F.softplus(gamma)\n",
    "        a = torch.tanh(a)\n",
    "        e = torch.sigmoid(e)\n",
    "        # obtain current weight address vectors from Memory\n",
    "        w = self.address(k, beta, g, s, gamma, memory, self.w_last[-1])\n",
    "        # append in w_last function to keep track, while weighing content based\n",
    "        # or location based weights\n",
    "        self.w_last.append(w)\n",
    "        # obtain current mem location based on R2 equation\n",
    "        mem = self.write(memory, w, e, a)\n",
    "        return mem, w\n"
   ]
  },
  {
   "cell_type": "markdown",
   "metadata": {},
   "source": [
    "#### Step 6: Implement Neural Turing Machine Structure, which includes:\n",
    "1. fully connected controller\n",
    "2. read and write heads\n",
    "3. memory paramters\n",
    "4. utility functions to operate on memory which is not trainable\n",
    "\n",
    "Note: In the forward function, X can be none. This is because in Copy task, training happens in two steps for one particular sequence\n",
    "* In the first step, the network is shown k-dimensional input for t time steps. \n",
    "* In the second step (prediction step), the network takes in k-dimensional zeros vector to produce predictions which performs copy of the input for each time step."
   ]
  },
  {
   "cell_type": "code",
   "execution_count": 6,
   "metadata": {
    "collapsed": true
   },
   "outputs": [],
   "source": [
    "class NTM(nn.Module):\n",
    "    def __init__(self, M, N, num_inputs, num_outputs, controller_out_dim, controller_hid_dim):\n",
    "        super(NTM, self).__init__()\n",
    "        # initialize number of input and outputs for the controller\n",
    "        self.num_inputs = num_inputs\n",
    "        self.num_outputs = num_outputs\n",
    "        # Define size of matrix\n",
    "        self.M = M\n",
    "        self.N = N\n",
    "        # Initialize Memory\n",
    "        self.memory = torch.zeros(self.M, self.N)\n",
    "        self.last_read = torch.zeros(1, self.N) # Initialize size of last_read\n",
    "        # Intialize Other components, Controller, read_head, and write_head\n",
    "        self.controller = Controller(self.num_inputs + self.N, controller_out_dim, controller_hid_dim)\n",
    "        self.read_head = ReadHead(self.M, self.N, controller_out_dim)\n",
    "        self.write_head = WriteHead(self.M, self.N, controller_out_dim)\n",
    "        \n",
    "        self.fc_out = nn.Linear(self.num_inputs + N, self.num_outputs)\n",
    "        self.intialize_parameters()\n",
    "    \n",
    "    def intialize_parameters(self):\n",
    "        # Initialize the linear layers\n",
    "        nn.init.xavier_uniform_(self.fc_out.weight, gain=1.4)\n",
    "        nn.init.normal_(self.fc_out.bias, std=0.5)\n",
    "\n",
    "    def forward(self, X=None):\n",
    "        if X is None:\n",
    "            X = torch.zeros(1, self.num_inputs)\n",
    "        # initialize controller\n",
    "        controller_out = self.controller(X, self.last_read)\n",
    "        # operate the read and write operation\n",
    "        self._read_write(controller_out)\n",
    "        # use updated last_read to get sequence\n",
    "        out = torch.cat((X, self.last_read), -1)\n",
    "        out = torch.sigmoid(self.fc_out(out))\n",
    "\n",
    "        return out\n",
    "\n",
    "    def _read_write(self, controller_out):\n",
    "        # Read Operation\n",
    "        read, w = self.read_head(controller_out, self.memory)\n",
    "        self.last_read = read\n",
    "        # Write Operation\n",
    "        mem, w = self.write_head(controller_out, self.memory)\n",
    "        self.memory = mem\n",
    "\n",
    "    def initalize_state(self):\n",
    "        # reset memory of all the components\n",
    "        stdev = 1 / (np.sqrt(self.N + self.M))\n",
    "        self.memory = nn.init.uniform_((torch.Tensor(self.M, self.N)), -stdev, stdev)\n",
    "        self.last_read = torch.tanh(torch.randn(1, self.N))\n",
    "        self.read_head.reset_memory()\n",
    "        self.write_head.reset_memory()\n",
    "\n",
    "    def get_memory_info(self):\n",
    "        # get all weights\n",
    "        return self.memory, self.read_head.get_weights(), self.write_head.get_weights()\n",
    "\n",
    "    def calculate_num_params(self):\n",
    "        # Returns the total number of parameters.\n",
    "        num_params = 0\n",
    "        for p in self.parameters():\n",
    "            num_params += p.data.view(-1).size(0)\n",
    "        return num_params\n"
   ]
  },
  {
   "cell_type": "markdown",
   "metadata": {},
   "source": [
    "##### Step 7: Generate a random sequence data to test COPY task\n",
    "Here, we are generating a random sequence of vectors for COPY task. It is to be copied by NTM Model. "
   ]
  },
  {
   "cell_type": "code",
   "execution_count": 7,
   "metadata": {
    "collapsed": true
   },
   "outputs": [],
   "source": [
    "class BinaySeqDataset(Dataset):\n",
    "\n",
    "    def __init__(self, sequence_length, token_size, training_samples):\n",
    "        self.seq_len = sequence_length\n",
    "        self.seq_width = token_size\n",
    "        self.dataset_dim = training_samples\n",
    "\n",
    "    def _generate_seq(self):\n",
    "        # A special token is appened at beginning and end of each\n",
    "        # sequence which marks sequence boundaries.\n",
    "        seq = np.random.binomial(1, 0.5, (self.seq_len, self.seq_width))\n",
    "        seq = torch.from_numpy(seq)\n",
    "        # Add start and end token\n",
    "        inp = torch.zeros(self.seq_len + 2, self.seq_width)\n",
    "        inp[1:self.seq_len + 1, :self.seq_width] = seq.clone()\n",
    "        inp[0, 0] = 1.0\n",
    "        inp[self.seq_len + 1, self.seq_width - 1] = 1.0\n",
    "        outp = seq.data.clone()\n",
    "\n",
    "        return inp.float(), outp.float()\n",
    "\n",
    "    def __len__(self):\n",
    "        return self.dataset_dim\n",
    "\n",
    "    def __getitem__(self, idx):\n",
    "        inp, out = self._generate_seq()\n",
    "        return inp, out"
   ]
  },
  {
   "cell_type": "markdown",
   "metadata": {},
   "source": [
    "We will also implement Gradient clipping as its generally a good idea to clip gradients so that the network is numerically stable."
   ]
  },
  {
   "cell_type": "code",
   "execution_count": 8,
   "metadata": {
    "collapsed": true
   },
   "outputs": [],
   "source": [
    "def clip_grads(net, min_grad=-10,max_grad=10):\n",
    "    parameters = list(filter(lambda p: p.grad is not None, net.parameters()))\n",
    "    for p in parameters:\n",
    "        p.grad.data.clamp_(min_grad,max_grad)"
   ]
  },
  {
   "cell_type": "markdown",
   "metadata": {},
   "source": [
    "Initialize Parameters for Training"
   ]
  },
  {
   "cell_type": "code",
   "execution_count": 9,
   "metadata": {
    "collapsed": true
   },
   "outputs": [],
   "source": [
    "memory_capacity=64\n",
    "memory_vector_size=128\n",
    "controller_output_dim=256\n",
    "controller_hidden_dim=512\n",
    "learning_rate=1e-2\n",
    "\n",
    "sequence_length, token_size, training_samples = 300, 10, 99\n",
    "min_grad, max_grad = -10, 10"
   ]
  },
  {
   "cell_type": "markdown",
   "metadata": {},
   "source": [
    "### Start training"
   ]
  },
  {
   "cell_type": "code",
   "execution_count": 10,
   "metadata": {},
   "outputs": [
    {
     "name": "stdout",
     "output_type": "stream",
     "text": [
      "iteration: 0, Loss:1.202673316001892 \n",
      "iteration: 50, Loss:0.6942700147628784 \n"
     ]
    }
   ],
   "source": [
    "# Initialize the dataset\n",
    "dataset = BinaySeqDataset(sequence_length, token_size, training_samples)\n",
    "# Initialize the dataloader with batchsize\n",
    "dataloader = DataLoader(dataset, batch_size=1,shuffle=True, num_workers=4)\n",
    "# Initialize the Model\n",
    "model = NTM(M=memory_capacity,\n",
    "            N=memory_vector_size,\n",
    "            num_inputs=token_size,\n",
    "            num_outputs=token_size,\n",
    "            controller_out_dim=controller_output_dim,\n",
    "            controller_hid_dim=controller_hidden_dim\n",
    "            )\n",
    "\n",
    "criterion = torch.nn.BCELoss()\n",
    "# We can use Adam too.\n",
    "optimizer = torch.optim.RMSprop(model.parameters(), lr=learning_rate)\n",
    "losses = []\n",
    "\n",
    "# Train the Model\n",
    "for e, (X, Y) in enumerate(dataloader):\n",
    "    tmp = time()\n",
    "    model.initalize_state()\n",
    "    optimizer.zero_grad()\n",
    "\n",
    "    inp_seq_len = sequence_length + 2\n",
    "    out_seq_len = sequence_length\n",
    "\n",
    "    X.requires_grad = True\n",
    "\n",
    "    # Forward Pass\n",
    "    for t in range(0, inp_seq_len):\n",
    "        model(X[:, t])\n",
    "\n",
    "    # Predictions\n",
    "    y_pred = torch.zeros(Y.size())\n",
    "    for i in range(0, out_seq_len):\n",
    "        y_pred[:, i] = model()\n",
    "    \n",
    "    # Optimize\n",
    "    loss = criterion(y_pred, Y)\n",
    "    loss.backward()\n",
    "    clip_grads(model)\n",
    "    optimizer.step()\n",
    "    losses += [loss.item()]\n",
    "    if (e%10==0):\n",
    "        print(\"iteration: {}, Loss:{} \".format(e, loss.item()))\n",
    "    # Train it for 5000 iterations. \n",
    "    if e == 5000:\n",
    "        break"
   ]
  },
  {
   "cell_type": "markdown",
   "metadata": {},
   "source": [
    "### Define a plot signal function and Plot Training Loss"
   ]
  },
  {
   "cell_type": "code",
   "execution_count": 11,
   "metadata": {},
   "outputs": [
    {
     "data": {
      "image/png": "[encoded data removed]",
      "text/plain": [
       "<matplotlib.figure.Figure at 0x123575400>"
      ]
     },
     "metadata": {},
     "output_type": "display_data"
    }
   ],
   "source": [
    "def plot_signal(grid_image, fig_size=(500,100)):\n",
    "    plt.figure(figsize=fig_size)\n",
    "    plt.imshow(grid_image.data.permute(2, 1, 0))\n",
    "\n",
    "plt.plot(losses)\n",
    "plt.show()"
   ]
  },
  {
   "cell_type": "markdown",
   "metadata": {},
   "source": [
    "### Test the NTM Model's COPY Task\n",
    "Here, we create a random signal of 300 time steps and see how well the model copies this signal."
   ]
  },
  {
   "cell_type": "code",
   "execution_count": 12,
   "metadata": {},
   "outputs": [],
   "source": [
    "X, Y = dataset._generate_seq()\n",
    "X, Y = X.unsqueeze(0), Y.unsqueeze(0)# Add the batch dimension\n",
    "\n",
    "\n",
    "model.initalize_state()\n",
    "\n",
    "for t in range(0, inp_seq_len):\n",
    "    model(X[:, t])\n",
    "\n",
    "y_pred = torch.zeros(Y.size())\n",
    "for i in range(0, out_seq_len):\n",
    "    y_pred[:, i] = model()"
   ]
  },
  {
   "cell_type": "markdown",
   "metadata": {},
   "source": [
    "In this step, you will observe the copy task output. These two signals should be very close, if they aren't we suggest you to train more."
   ]
  },
  {
   "cell_type": "code",
   "execution_count": 13,
   "metadata": {},
   "outputs": [
    {
     "data": {
      "text/plain": [
       "<matplotlib.image.AxesImage at 0x12405fe48>"
      ]
     },
     "execution_count": 13,
     "metadata": {},
     "output_type": "execute_result"
    },
    {
     "data": {
      "image/png": "[encoded data removed]",
      "text/plain": [
       "<matplotlib.figure.Figure at 0x12356b5f8>"
      ]
     },
     "metadata": {},
     "output_type": "display_data"
    },
    {
     "data": {
      "image/png": "[encoded data removed]",
      "text/plain": [
       "<matplotlib.figure.Figure at 0x1038c82e8>"
      ]
     },
     "metadata": {},
     "output_type": "display_data"
    }
   ],
   "source": [
    "# Plot ground truth signal Y and signal y_pred predicted by model.\n",
    "# In Copy task these two signals should be very close. \n",
    "\n",
    "grid_img_truth = vutils.make_grid(Y, normalize=True, scale_each=True)\n",
    "grid_img_pred = vutils.make_grid(y_pred, normalize=True, scale_each=True)\n",
    "\n",
    "plt.figure(figsize=(200,200))\n",
    "plt.imshow(grid_img_truth.data.permute(2, 1, 0))\n",
    "\n",
    "plt.figure(figsize=(200,200))\n",
    "plt.imshow(grid_img_pred.data.permute(2, 1, 0))"
   ]
  }
 ],
 "metadata": {
  "anaconda-cloud": {},
  "kernelspec": {
   "display_name": "Python 3",
   "language": "python",
   "name": "python3"
  },
  "language_info": {
   "codemirror_mode": {
    "name": "ipython",
    "version": 3
   },
   "file_extension": ".py",
   "mimetype": "text/x-python",
   "name": "python",
   "nbconvert_exporter": "python",
   "pygments_lexer": "ipython3",
   "version": "3.6.3"
  }
 },
 "nbformat": 4,
 "nbformat_minor": 1
}
